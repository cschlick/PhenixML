{
 "cells": [
  {
   "cell_type": "code",
   "execution_count": 1,
   "id": "dominant-inspector",
   "metadata": {},
   "outputs": [],
   "source": [
    "import sys\n",
    "sys.path.append(\"../\")\n",
    "from multiprocessing import Pool\n",
    "import tqdm\n",
    "import pickle\n",
    "from pathlib import Path\n",
    "from contextlib import closing\n",
    "from rdkit import Chem"
   ]
  },
  {
   "cell_type": "code",
   "execution_count": 2,
   "id": "jewish-omaha",
   "metadata": {},
   "outputs": [],
   "source": [
    "from phenixml.fragmentation.fragmenter_restraints import BondFragmenter, AngleFragmenter"
   ]
  },
  {
   "cell_type": "markdown",
   "id": "d0ccc6c6-3f4c-46a0-bffd-e389fe9fa4f0",
   "metadata": {},
   "source": [
    "## Load openbabel .err files to see which files were converted to mol2 successfuly"
   ]
  },
  {
   "cell_type": "code",
   "execution_count": 3,
   "id": "involved-defendant",
   "metadata": {},
   "outputs": [
    {
     "name": "stdout",
     "output_type": "stream",
     "text": [
      "CPU times: user 4.17 s, sys: 6.7 s, total: 10.9 s\n",
      "Wall time: 56 s\n"
     ]
    }
   ],
   "source": [
    "%%time\n",
    "filtered_dir = Path(\"/net/cci/cschlick/Filtered_COD3/\")\n",
    "err_files = [path for path in filtered_dir.glob(\"**/*\") if path.suffix == \".err\"] # all err files"
   ]
  },
  {
   "cell_type": "code",
   "execution_count": 4,
   "id": "preceding-monkey",
   "metadata": {},
   "outputs": [
    {
     "name": "stdout",
     "output_type": "stream",
     "text": [
      "Success: 74249\n",
      "CPU times: user 2.8 s, sys: 2.41 s, total: 5.22 s\n",
      "Wall time: 36.9 s\n"
     ]
    }
   ],
   "source": [
    "%%time\n",
    "success_converted = [] # successfully converted err files\n",
    "for err_file in err_files:\n",
    "  with err_file.open(\"r\") as fh:\n",
    "    lines = fh.readlines()\n",
    "    if len(lines)==1 and \"1 molecule converted\" in lines[0]:\n",
    "      success_converted.append(Path(err_file.parent,err_file.stem+\".mol2\"))\n",
    "print(\"Success:\",len(success_converted))"
   ]
  },
  {
   "cell_type": "code",
   "execution_count": 5,
   "id": "historical-aruba",
   "metadata": {},
   "outputs": [],
   "source": [
    "# elements and parameters\n",
    "elements_considered = [\"O\",\"C\",\"H\",\"N\",\"P\",\"S\",\"Cl\",\"B\",\"F\",\"I\",\"Br\"]\n",
    "# I only converted files in this directory that were of these elements,\n",
    "# but we will verify that when reading"
   ]
  },
  {
   "cell_type": "markdown",
   "id": "1464aa4f-3f75-48a5-b0c9-0307b9e46202",
   "metadata": {},
   "source": [
    "## Load .mol2 files as RDKit molecules"
   ]
  },
  {
   "cell_type": "code",
   "execution_count": 6,
   "id": "composed-nation",
   "metadata": {},
   "outputs": [],
   "source": [
    "def worker(mol2_file):\n",
    "  # read mol2file\n",
    "  rdmol = Chem.MolFromMol2File(mol2_file.as_posix(),removeHs=False)\n",
    "  \n",
    "  if rdmol is not None:\n",
    "    elements = [atom.GetSymbol() for atom in rdmol.GetAtoms()]\n",
    "    if not set(elements).issubset(elements_considered):\n",
    "      rdmol = None\n",
    "  results = {\"filepath\":mol2_file,\"rdmol\":rdmol}\n",
    "  return results"
   ]
  },
  {
   "cell_type": "code",
   "execution_count": 7,
   "id": "spanish-intake",
   "metadata": {},
   "outputs": [
    {
     "name": "stderr",
     "output_type": "stream",
     "text": [
      "100%|██████████| 74249/74249 [00:00<00:00, 1665656.92it/s]\n"
     ]
    }
   ],
   "source": [
    "from rdkit import RDLogger\n",
    "RDLogger.DisableLog('rdApp.*') \n",
    "\n",
    "work = success_converted\n",
    "with closing(Pool(processes=32)) as pool:\n",
    "  results = []\n",
    "  for result in tqdm.tqdm(pool.map(worker, work), total=len(work)):\n",
    "      results.append(result)\n",
    "  pool.terminate()"
   ]
  },
  {
   "cell_type": "code",
   "execution_count": 8,
   "id": "lesser-clarity",
   "metadata": {},
   "outputs": [
    {
     "name": "stdout",
     "output_type": "stream",
     "text": [
      "Success initialized: 63018\n",
      "Failed initialized: 11231\n"
     ]
    }
   ],
   "source": [
    "success_initialized = []\n",
    "failed_initialized = []\n",
    "for result in results:\n",
    "  if result[\"rdmol\"] is not None:\n",
    "    success_initialized.append(result)\n",
    "  else:\n",
    "    failed_initialized.append(result)\n",
    "print(\"Success initialized:\",len(success_initialized))\n",
    "print(\"Failed initialized:\",len(failed_initialized))"
   ]
  },
  {
   "cell_type": "code",
   "execution_count": 19,
   "id": "aa8c8a28-6f4d-4d36-8859-69438f53e33d",
   "metadata": {},
   "outputs": [],
   "source": [
    "import random\n",
    "import shutil\n",
    "random_sample = random.choices(success_initialized,k=2000)\n",
    "random_sample = [sample[\"filepath\"] for sample in random_sample]"
   ]
  },
  {
   "cell_type": "code",
   "execution_count": 20,
   "id": "8cb1d6fa-e4a6-4d1a-8b0d-6862748f7a85",
   "metadata": {},
   "outputs": [],
   "source": [
    "for s in random_sample:\n",
    "  shutil.copyfile(s,Path(\"../data/cod/random_sample01/\",s.name))"
   ]
  },
  {
   "cell_type": "markdown",
   "id": "58b8061c-1a9b-4414-b58a-f4837c70bc95",
   "metadata": {},
   "source": [
    "# Fragment molecules on all bonds and angles"
   ]
  },
  {
   "cell_type": "code",
   "execution_count": 21,
   "id": "amateur-deviation",
   "metadata": {},
   "outputs": [],
   "source": [
    "angle_fragmenter = AngleFragmenter(exclude_symbols=[\"H\"])\n",
    "bond_fragmenter = BondFragmenter(exclude_symbols=\"H\")"
   ]
  },
  {
   "cell_type": "code",
   "execution_count": null,
   "id": "91e907fe-ab9f-403a-b068-a78d4de1506b",
   "metadata": {},
   "outputs": [],
   "source": []
  },
  {
   "cell_type": "code",
   "execution_count": 20,
   "id": "norman-executive",
   "metadata": {},
   "outputs": [],
   "source": [
    "def worker(work_dict):\n",
    "  rdmol = work_dict[\"rdmol\"]\n",
    "  angle_fragments = angle_fragmenter.fragment(rdmol)\n",
    "  angle_fragments = [frag for frag in angle_fragments if \"H\" not in frag.atom_symbols]\n",
    "\n",
    "  \n",
    "  bond_fragments = bond_fragmenter.fragment(rdmol)\n",
    "  bond_fragments = [frag for frag in bond_fragments if \"H\" not in frag.atom_symbols]\n",
    "  \n",
    "    \n",
    "  work_dict[\"angle_fragments\"]=angle_fragments\n",
    "  work_dict[\"bond_fragments\"]=bond_fragments\n",
    "  return work_dict"
   ]
  },
  {
   "cell_type": "code",
   "execution_count": 21,
   "id": "flexible-forward",
   "metadata": {},
   "outputs": [
    {
     "name": "stderr",
     "output_type": "stream",
     "text": [
      "100%|██████████| 63018/63018 [00:00<00:00, 1123757.06it/s]\n"
     ]
    }
   ],
   "source": [
    "work = success_initialized\n",
    "with closing(Pool(processes=32)) as pool:\n",
    "  results = []\n",
    "  for result in tqdm.tqdm(pool.map(worker, work), total=len(work)):\n",
    "      results.append(result)\n",
    "  pool.terminate()"
   ]
  },
  {
   "cell_type": "code",
   "execution_count": 22,
   "id": "pleased-turkey",
   "metadata": {},
   "outputs": [],
   "source": [
    "angle_fragments = []\n",
    "bond_fragments = []\n",
    "for result in results:\n",
    "  angle_fragments+=result[\"angle_fragments\"]\n",
    "  bond_fragments+=result[\"bond_fragments\"]"
   ]
  },
  {
   "cell_type": "code",
   "execution_count": 24,
   "id": "unusual-roberts",
   "metadata": {},
   "outputs": [
    {
     "name": "stdout",
     "output_type": "stream",
     "text": [
      "CPU times: user 14.4 s, sys: 838 ms, total: 15.2 s\n",
      "Wall time: 18.7 s\n"
     ]
    }
   ],
   "source": [
    "%%time\n",
    "fragments_path = Path(\"/net/cci/cschlick/Filtered_COD3/fragmentation_results.pkl\")\n",
    "with fragments_path.open(\"wb\") as fh:\n",
    "  pickle.dump(results,fh)"
   ]
  },
  {
   "cell_type": "markdown",
   "id": "about-appreciation",
   "metadata": {},
   "source": [
    "## Stop"
   ]
  }
 ],
 "metadata": {
  "kernelspec": {
   "display_name": "Python 3",
   "language": "python",
   "name": "python3"
  },
  "language_info": {
   "codemirror_mode": {
    "name": "ipython",
    "version": 3
   },
   "file_extension": ".py",
   "mimetype": "text/x-python",
   "name": "python",
   "nbconvert_exporter": "python",
   "pygments_lexer": "ipython3",
   "version": "3.9.4"
  }
 },
 "nbformat": 4,
 "nbformat_minor": 5
}
