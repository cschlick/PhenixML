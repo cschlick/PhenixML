{
 "cells": [
  {
   "cell_type": "code",
   "execution_count": 1,
   "id": "dominant-inspector",
   "metadata": {},
   "outputs": [],
   "source": [
    "import sys\n",
    "sys.path.append(\"../\")\n",
    "from multiprocessing import Pool\n",
    "import tqdm\n",
    "import pickle\n",
    "from pathlib import Path\n",
    "from contextlib import closing\n",
    "from rdkit import Chem"
   ]
  },
  {
   "cell_type": "code",
   "execution_count": 3,
   "id": "jewish-omaha",
   "metadata": {},
   "outputs": [],
   "source": [
    "from phenixml.fragmentation.fragmenter_restraints import BondFragmenter, AngleFragmenter"
   ]
  },
  {
   "cell_type": "markdown",
   "id": "d0ccc6c6-3f4c-46a0-bffd-e389fe9fa4f0",
   "metadata": {},
   "source": [
    "## Load openbabel .err files to see which files were converted to mol2 successfuly"
   ]
  },
  {
   "cell_type": "code",
   "execution_count": 5,
   "id": "involved-defendant",
   "metadata": {},
   "outputs": [
    {
     "name": "stdout",
     "output_type": "stream",
     "text": [
      "CPU times: user 3.63 s, sys: 7.36 s, total: 11 s\n",
      "Wall time: 1min 14s\n"
     ]
    }
   ],
   "source": [
    "%%time\n",
    "filtered_dir = Path(\"/net/cci/cschlick/Filtered_COD3/\")\n",
    "err_files = [path for path in filtered_dir.glob(\"**/*\") if path.suffix == \".err\"] # all err files"
   ]
  },
  {
   "cell_type": "code",
   "execution_count": 6,
   "id": "preceding-monkey",
   "metadata": {},
   "outputs": [
    {
     "name": "stdout",
     "output_type": "stream",
     "text": [
      "Success: 74249\n",
      "CPU times: user 3.19 s, sys: 3.6 s, total: 6.79 s\n",
      "Wall time: 1min 4s\n"
     ]
    }
   ],
   "source": [
    "%%time\n",
    "success_converted = [] # successfully converted err files\n",
    "for err_file in err_files:\n",
    "  with err_file.open(\"r\") as fh:\n",
    "    lines = fh.readlines()\n",
    "    if len(lines)=elementsand \"1 molecule converted\" in lines[0]:\n",
    "      success_converted.append(Path(err_file.parent,err_file.stem+\".mol2\"))\n",
    "print(\"Success:\",len(success_converted))"
   ]
  },
  {
   "cell_type": "code",
   "execution_count": 11,
   "id": "historical-aruba",
   "metadata": {},
   "outputs": [],
   "source": [
    "# elements and parameters\n",
    "elements_considered = [\"O\",\"C\",\"H\",\"N\",\"P\",\"S\",\"Cl\",\"B\",\"F\",\"I\",\"Br\"]\n",
    "# I only converted files in this directory that were of these elements,\n",
    "# but we will verify that when reading"
   ]
  },
  {
   "cell_type": "markdown",
   "id": "1464aa4f-3f75-48a5-b0c9-0307b9e46202",
   "metadata": {},
   "source": [
    "## Load .mol2 files as RDKit molecules"
   ]
  },
  {
   "cell_type": "code",
   "execution_count": 16,
   "id": "composed-nation",
   "metadata": {},
   "outputs": [],
   "source": [
    "def worker(mol2_file):\n",
    "  # read mol2file\n",
    "  rdmol = Chem.MolFromMol2File(mol2_file.as_posix(),removeHs=False)\n",
    "  \n",
    "  if rdmol is not None:\n",
    "    elements = [atom.GetSymbol() for atom in rdmol.GetAtoms()]\n",
    "    if not set(elements).issubset(elements_considered):\n",
    "      rdmol = None\n",
    "  results = {\"filepath\":mol2_file,\"rdmol\":rdmol}\n",
    "  return results"
   ]
  },
  {
   "cell_type": "code",
   "execution_count": 17,
   "id": "spanish-intake",
   "metadata": {},
   "outputs": [
    {
     "name": "stderr",
     "output_type": "stream",
     "text": [
      "100%|██████████| 74249/74249 [00:00<00:00, 2907233.74it/s]\n"
     ]
    }
   ],
   "source": [
    "from rdkit import RDLogger\n",
    "RDLogger.DisableLog('rdApp.*') \n",
    "\n",
    "work = success_converted\n",
    "with closing(Pool(processes=32)) as pool:\n",
    "  results = []\n",
    "  for result in tqdm.tqdm(pool.map(worker, work), total=len(work)):\n",
    "      results.append(result)\n",
    "  pool.terminate()"
   ]
  },
  {
   "cell_type": "code",
   "execution_count": 18,
   "id": "lesser-clarity",
   "metadata": {},
   "outputs": [
    {
     "name": "stdout",
     "output_type": "stream",
     "text": [
      "Success initialized: 63018\n",
      "Failed initialized: 11231\n"
     ]
    }
   ],
   "source": [
    "success_initialized = []\n",
    "failed_initialized = []\n",
    "for result in results:\n",
    "  if result[\"rdmol\"] is not None:\n",
    "    success_initialized.append(result)\n",
    "  else:\n",
    "    failed_initialized.append(result)\n",
    "print(\"Success initialized:\",len(success_initialized))\n",
    "print(\"Failed initialized:\",len(failed_initialized))"
   ]
  },
  {
   "cell_type": "markdown",
   "id": "58b8061c-1a9b-4414-b58a-f4837c70bc95",
   "metadata": {},
   "source": [
    "# Fragment molecules on all bonds and angles"
   ]
  },
  {
   "cell_type": "code",
   "execution_count": 19,
   "id": "amateur-deviation",
   "metadata": {},
   "outputs": [],
   "source": [
    "angle_fragmenter = AngleFragmenter()\n",
    "bond_fragmenter = BondFragmenter()"
   ]
  },
  {
   "cell_type": "code",
   "execution_count": 20,
   "id": "norman-executive",
   "metadata": {},
   "outputs": [],
   "source": [
    "def worker(work_dict):\n",
    "  rdmol = work_dict[\"rdmol\"]\n",
    "  angle_fragments = angle_fragmenter.fragment(rdmol)\n",
    "  angle_fragments = [frag for frag in angle_fragments if \"H\" not in frag.atom_symbols]\n",
    "\n",
    "  \n",
    "  bond_fragments = bond_fragmenter.fragment(rdmol)\n",
    "  bond_fragments = [frag for frag in bond_fragments if \"H\" not in frag.atom_symbols]\n",
    "  \n",
    "  for frag in angle_fragments:\n",
    "    frag.properties[\"filepath\"]=work_dict[\"filepath\"]\n",
    "    conf = frag.rdmol.GetConformer()\n",
    "    i,j,k = frag.atom_indices\n",
    "    angle_deg = Chem.rdMolTransforms.GetAngleDeg(conf,i,j,k)\n",
    "    frag.properties[\"angle_deg\"] = angle_deg\n",
    "\n",
    "    \n",
    "  for frag in bond_fragments:\n",
    "    frag.properties[\"filepath\"]=work_dict[\"filepath\"]\n",
    "    \n",
    "    conf = frag.rdmol.GetConformer()\n",
    "    i,j = frag.atom_indices\n",
    "    bond_length = Chem.rdMolTransforms.GetBondLength(conf,i,j)\n",
    "    frag.properties[\"bond_length\"] = bond_length\n",
    "    \n",
    "  work_dict[\"angle_fragments\"]=angle_fragments\n",
    "  work_dict[\"bond_fragments\"]=bond_fragments\n",
    "  return work_dict"
   ]
  },
  {
   "cell_type": "code",
   "execution_count": 21,
   "id": "flexible-forward",
   "metadata": {},
   "outputs": [
    {
     "name": "stderr",
     "output_type": "stream",
     "text": [
      "100%|██████████| 63018/63018 [00:00<00:00, 1123757.06it/s]\n"
     ]
    }
   ],
   "source": [
    "work = success_initialized\n",
    "with closing(Pool(processes=32)) as pool:\n",
    "  results = []\n",
    "  for result in tqdm.tqdm(pool.map(worker, work), total=len(work)):\n",
    "      results.append(result)\n",
    "  pool.terminate()"
   ]
  },
  {
   "cell_type": "code",
   "execution_count": 22,
   "id": "pleased-turkey",
   "metadata": {},
   "outputs": [],
   "source": [
    "angle_fragments = []\n",
    "bond_fragments = []\n",
    "for result in results:\n",
    "  angle_fragments+=result[\"angle_fragments\"]\n",
    "  bond_fragments+=result[\"bond_fragments\"]"
   ]
  },
  {
   "cell_type": "code",
   "execution_count": 24,
   "id": "unusual-roberts",
   "metadata": {},
   "outputs": [
    {
     "name": "stdout",
     "output_type": "stream",
     "text": [
      "CPU times: user 14.4 s, sys: 838 ms, total: 15.2 s\n",
      "Wall time: 18.7 s\n"
     ]
    }
   ],
   "source": [
    "%%time\n",
    "fragments_path = Path(\"/net/cci/cschlick/Filtered_COD3/fragmentation_results.pkl\")\n",
    "with fragments_path.open(\"wb\") as fh:\n",
    "  pickle.dump(results,fh)"
   ]
  },
  {
   "cell_type": "markdown",
   "id": "about-appreciation",
   "metadata": {},
   "source": [
    "## Stop"
   ]
  }
 ],
 "metadata": {
  "kernelspec": {
   "display_name": "Python 3",
   "language": "python",
   "name": "python3"
  },
  "language_info": {
   "codemirror_mode": {
    "name": "ipython",
    "version": 3
   },
   "file_extension": ".py",
   "mimetype": "text/x-python",
   "name": "python",
   "nbconvert_exporter": "python",
   "pygments_lexer": "ipython3",
   "version": "3.9.4"
  }
 },
 "nbformat": 4,
 "nbformat_minor": 5
}
