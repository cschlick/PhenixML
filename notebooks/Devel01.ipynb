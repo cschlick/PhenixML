{
 "cells": [
  {
   "cell_type": "code",
   "execution_count": 1,
   "id": "44402412-41a5-41f3-9542-31c2b84bbc96",
   "metadata": {},
   "outputs": [],
   "source": [
    "from pathlib import Path\n",
    "from rdkit import Chem\n",
    "from iotbx.data_manager import DataManager\n",
    "import numpy as np\n"
   ]
  },
  {
   "cell_type": "code",
   "execution_count": 2,
   "id": "36f73c5d-f523-4e8a-af70-fd17c51ca2ae",
   "metadata": {},
   "outputs": [],
   "source": [
    "import sys\n",
    "sys.path.append(\"../PhenixML/\")"
   ]
  },
  {
   "cell_type": "markdown",
   "id": "41b8609a-fec8-48f6-95aa-e7bfc0cf3b41",
   "metadata": {
    "tags": []
   },
   "source": [
    "# Old fragments"
   ]
  },
  {
   "cell_type": "code",
   "execution_count": 16,
   "id": "9763ea17-0121-42bb-992a-7a8da7d27a55",
   "metadata": {},
   "outputs": [],
   "source": [
    "def build_fragment_heterograph(atom_graph,atom_idxs,connect_idxs,frag_idxs):\n",
    "    # build fragment graph\n",
    "\n",
    "    frag_name = \"fragment\"\n",
    "\n",
    "\n",
    "\n",
    "    # initialize empty dictionary\n",
    "    hg = {}\n",
    "    hg[(\"atom\", \"atom_connects_atom\", \"atom\")] = connect_idxs\n",
    "\n",
    "    idxs_renamed = {}\n",
    "    idxs_renamed[\"atom\"] = idxs[\"n1\"]\n",
    "    idxs_renamed[frag_name] = frag_idxs\n",
    "\n",
    "    idxs[\"atom\"] = atom_idxs\n",
    "    idxs[\"connect\"] = connect_idxs\n",
    "    idxs[frag_name] = frag_idxs\n",
    "\n",
    "    terms = [\"atom\",frag_name] # debug\n",
    "    levels = terms\n",
    "    \n",
    "    \n",
    "    idxs_to_ordering = {}\n",
    "    for term in terms:\n",
    "      idxs_to_ordering[term] = {\n",
    "          tuple(subgraph_idxs): ordering\n",
    "          for (ordering, subgraph_idxs) in enumerate(list(idxs[term]))\n",
    "      }\n",
    "\n",
    "    # this needs rewriting. Current is based on espaloma\n",
    "    for small_idx in range(1, len(terms)+1):\n",
    "      for big_idx in range(small_idx + 1, len(terms)+1):\n",
    "          for pos_idx in range(frag_idxs.shape[1]):\n",
    "              hg[\n",
    "                  (\n",
    "                      \"atom\",\n",
    "                      \"atom_as_%s_in_%s\" % (pos_idx,frag_name),\n",
    "                      frag_name\n",
    "                  )\n",
    "              ] = np.stack(\n",
    "                  [\n",
    "                      np.array(\n",
    "                          [\n",
    "                              idxs_to_ordering[\"atom\"][tuple(x)]\n",
    "                              for x in idxs[frag_name][\n",
    "                                  :, pos_idx : pos_idx + small_idx\n",
    "                              ]\n",
    "                          ]\n",
    "                      ),\n",
    "                      np.arange(idxs[frag_name].shape[0]),\n",
    "                  ],\n",
    "                  axis=1,\n",
    "              )\n",
    "              # #comment out has relationships. I think this is ok since we are only using the higher level nodes for readout\n",
    "              # hg[\n",
    "              #     (\n",
    "              #         \"n%s\" % big_idx,\n",
    "              #         \"n%s_has_%s_n%s\" % (big_idx, pos_idx, small_idx),\n",
    "              #         \"n%s\" % small_idx,\n",
    "              #     )\n",
    "              # ] = np.stack(\n",
    "              #     [\n",
    "              #         np.arange(idxs[\"n%s\" % big_idx].shape[0]),\n",
    "              #         np.array(\n",
    "              #             [\n",
    "              #                 idxs_to_ordering[\"n%s\" % small_idx][tuple(x)]\n",
    "              #                 for x in idxs[\"n%s\" % big_idx][\n",
    "              #                     :, pos_idx : pos_idx + small_idx\n",
    "              #                 ]\n",
    "              #             ]\n",
    "              #         ),\n",
    "              #     ],\n",
    "              #     axis=1,\n",
    "              # )\n",
    "    import dgl\n",
    "    hg = dgl.heterograph({key: list(value) for key, value in hg.items()})\n",
    "\n",
    "    hg.nodes[\"atom\"].data[\"h0\"] = atom_graph.ndata[\"h0\"].type(torch.get_default_dtype())\n",
    "    # set the n1 nodes to have the features from the atoms in the homograph\n",
    "\n",
    "    # include indices in the idxs to nodes in the homograph\n",
    "    for term in levels:\n",
    "        hg.nodes[term].data[\"idxs\"] = torch.tensor(idxs[term])\n",
    "\n",
    "    return hg"
   ]
  },
  {
   "cell_type": "code",
   "execution_count": 17,
   "id": "b0719266-c506-453a-b818-a52a1aa81b10",
   "metadata": {},
   "outputs": [],
   "source": [
    "idxs = get_indices_from_mol(mol)\n",
    "atom_idxs = idxs[\"n1\"]\n",
    "connect_idxs = idxs[\"n2\"]\n",
    "frag_idxs = idxs[\"n3\"]"
   ]
  },
  {
   "cell_type": "code",
   "execution_count": 18,
   "id": "c85ee84e-996b-4f47-961b-38d92b847f5b",
   "metadata": {},
   "outputs": [],
   "source": [
    "hg = build_fragment_heterograph(g,atom_idxs,connect_idxs,frag_idxs)"
   ]
  },
  {
   "cell_type": "code",
   "execution_count": 19,
   "id": "d2301e68-e251-426e-b089-90d846531cc9",
   "metadata": {},
   "outputs": [],
   "source": [
    "from phenixml.models.message_passing import MessagePassing\n",
    "from phenixml.models.readout import JanossyReadout"
   ]
  },
  {
   "cell_type": "code",
   "execution_count": 20,
   "id": "5728b8be-377f-4606-87ac-351b4c754f70",
   "metadata": {},
   "outputs": [],
   "source": [
    "#from molgraph.esp_fragments.sequential import _Sequential, EspSequential\n",
    "#from molgraph.esp_fragments.pooling import EspJanossyPooling"
   ]
  },
  {
   "cell_type": "markdown",
   "id": "5c7c4b17-af2d-4472-89fa-6b284fd633eb",
   "metadata": {
    "tags": []
   },
   "source": [
    "## My version"
   ]
  },
  {
   "cell_type": "code",
   "execution_count": 21,
   "id": "5664774c-97ad-45fe-a727-0a86f5ca88ce",
   "metadata": {},
   "outputs": [],
   "source": [
    "n_units = 128\n",
    "n_layers = 3\n",
    "fragment_size = 3\n",
    "config = []\n",
    "for n_layer in range(n_layers):\n",
    "  config+=[n_units,\"relu\"]\n",
    "  \n",
    "  \n",
    "sc = lambda in_feats,out_feats: dgl.nn.pytorch.conv.sageconv.SAGEConv(in_feats,out_feats,\"mean\",bias=True) # dgl saveconv layer\n",
    "\n",
    "representation = MessagePassing(\n",
    "    feature_units=hg.nodes[\"atom\"].data[\"h0\"].shape[1],\n",
    "    layer=sc, # use SAGEConv implementation in DGL\n",
    "    #layer=esp.nn.dgl_legacy.gn(\"SAGEConv\"),\n",
    "    config=config,\n",
    ") "
   ]
  },
  {
   "cell_type": "code",
   "execution_count": 22,
   "id": "e5a7926a-d53b-4303-af9b-7752b43de33c",
   "metadata": {},
   "outputs": [],
   "source": [
    "n_units = 128\n",
    "n_layers = 2\n",
    "config = []\n",
    "for n_layer in range(n_layers):\n",
    "  config+=[n_units,\"relu\"]\n",
    "  \n",
    "readout = JanossyReadout(\n",
    "    in_features=n_units, config=config,\n",
    "    out_features=[\"feat1\",\"feat2\"],\n",
    "    fragment_size = 3,\n",
    ")\n",
    "\n"
   ]
  },
  {
   "cell_type": "markdown",
   "id": "dc0f2010-3b75-452b-b019-1a1c5b6a555e",
   "metadata": {},
   "source": [
    "## Esp version\n"
   ]
  },
  {
   "cell_type": "code",
   "execution_count": 33,
   "id": "6bfd572d-5312-44fb-8ab2-a9ee844c11dd",
   "metadata": {},
   "outputs": [],
   "source": [
    "from molgraph.esp_fragments.sequential import _Sequential, EspSequential\n",
    "from molgraph.esp_fragments.pooling import EspJanossyPooling\n",
    "from molgraph.build_graphs import *\n",
    "g = build_homograph(mol)\n",
    "hg = build_heterograph_from_homo_mol(g,mol,levels=[\"n1\",\"n2\",\"n3\"])\n"
   ]
  },
  {
   "cell_type": "code",
   "execution_count": 35,
   "id": "bda7371b-23aa-4912-915f-0677955a1ff5",
   "metadata": {},
   "outputs": [],
   "source": [
    "\n",
    "n_units = 128\n",
    "n_layers = 3\n",
    "config = []\n",
    "for n_layer in range(n_layers):\n",
    "  config+=[n_units,\"relu\"]\n",
    "  \n",
    "  \n",
    "sc = lambda in_feats,out_feats: dgl.nn.pytorch.conv.sageconv.SAGEConv(in_feats,out_feats,\"mean\",bias=True) # dgl saveconv layer\n",
    "\n",
    "representation = EspSequential(\n",
    "    feature_units=g.ndata[\"h0\"].shape[1],\n",
    "    layer=sc, # use SAGEConv implementation in DGL\n",
    "    #layer=esp.nn.dgl_legacy.gn(\"SAGEConv\"),\n",
    "    config=config,\n",
    ") \n",
    "n_units = 128\n",
    "n_layers = 2\n",
    "config = []\n",
    "for n_layer in range(n_layers):\n",
    "  config+=[n_units,\"relu\"]\n",
    "  \n",
    "readout = EspJanossyPooling(\n",
    "    in_features=n_units, config=config,\n",
    "    out_features={              \n",
    "        #1: {\"xyz\": 3},\n",
    "        3: {\"eq\": 1},\n",
    "        #4: {\"cmplx\": 2},\n",
    "        #4: {\"tor\": 1},\n",
    "        },\n",
    ")"
   ]
  },
  {
   "cell_type": "code",
   "execution_count": null,
   "id": "2ae20ae5-9190-4f2c-8818-927cbe428154",
   "metadata": {},
   "outputs": [],
   "source": []
  },
  {
   "cell_type": "code",
   "execution_count": 23,
   "id": "e80faed0-f4a2-4e0e-a493-10b9a2ea1613",
   "metadata": {},
   "outputs": [
    {
     "name": "stdout",
     "output_type": "stream",
     "text": [
      "CPU times: user 2.08 s, sys: 148 ms, total: 2.23 s\n",
      "Wall time: 81.8 ms\n"
     ]
    }
   ],
   "source": [
    "%time g = representation(hg)"
   ]
  },
  {
   "cell_type": "code",
   "execution_count": 25,
   "id": "e304f79e-a50e-454f-bd31-aabddd6b9a4f",
   "metadata": {},
   "outputs": [
    {
     "data": {
      "text/plain": [
       "['atom_as_0_in_fragment',\n",
       " 'atom_as_1_in_fragment',\n",
       " 'atom_as_2_in_fragment',\n",
       " 'atom_connects_atom']"
      ]
     },
     "execution_count": 25,
     "metadata": {},
     "output_type": "execute_result"
    }
   ],
   "source": [
    "hg.etypes"
   ]
  },
  {
   "cell_type": "code",
   "execution_count": 24,
   "id": "57d8df08-a77d-42b6-be4d-506716a32729",
   "metadata": {},
   "outputs": [
    {
     "name": "stdout",
     "output_type": "stream",
     "text": [
      "CPU times: user 1.05 s, sys: 42.3 ms, total: 1.09 s\n",
      "Wall time: 21 ms\n"
     ]
    }
   ],
   "source": [
    "%time g = readout(hg)"
   ]
  },
  {
   "cell_type": "code",
   "execution_count": null,
   "id": "41679591-bdd1-4f77-8ac1-d65cb73aacf7",
   "metadata": {},
   "outputs": [],
   "source": [
    "#angle_fragments = list(itertools.chain.from_iterable([fragmenter(container) for container in containers]))"
   ]
  }
 ],
 "metadata": {
  "kernelspec": {
   "display_name": "Python 3 (ipykernel)",
   "language": "python",
   "name": "python3"
  },
  "language_info": {
   "codemirror_mode": {
    "name": "ipython",
    "version": 3
   },
   "file_extension": ".py",
   "mimetype": "text/x-python",
   "name": "python",
   "nbconvert_exporter": "python",
   "pygments_lexer": "ipython3",
   "version": "3.9.7"
  }
 },
 "nbformat": 4,
 "nbformat_minor": 5
}
