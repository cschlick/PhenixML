{
 "cells": [
  {
   "cell_type": "code",
   "execution_count": 1,
   "id": "e7a9f03e-0136-480d-8bde-f3399fc54c9f",
   "metadata": {},
   "outputs": [],
   "source": [
    "import sys\n",
    "sys.path.append(\"../PhenixML/\")\n",
    "\n",
    "from rdkit import Chem\n",
    "from rdkit.Chem import AllChem\n",
    "from rdkit.Chem import rdFMCS\n",
    "from rdkit.Chem import Draw\n",
    "from rdkit.Chem.Draw import IPythonConsole\n",
    "from rdkit.Chem import rdDepictor\n",
    "from rdkit.Chem.Draw import rdMolDraw2D\n",
    "import rdkit\n",
    "\n",
    "import io\n",
    "import numpy as np\n",
    "import matplotlib.pyplot as plt\n",
    "import py3Dmol\n",
    "from phenixml.fragmentation.fragments import MolContainer, Fragment"
   ]
  },
  {
   "cell_type": "code",
   "execution_count": 2,
   "id": "8502509b-f7c1-4328-a18e-a87c27fd3dad",
   "metadata": {},
   "outputs": [],
   "source": [
    "container = MolContainer.from_file_name(\"data/ccd/MTN.pdb\")\n",
    "#container = MolContainer.from_file_name(\"data/protein_data/1aba.pdb\")"
   ]
  },
  {
   "cell_type": "code",
   "execution_count": 3,
   "id": "28c73b77-80ab-4b45-adef-79f566a18a6d",
   "metadata": {},
   "outputs": [],
   "source": [
    "from phenixml.fragmentation.fragmenters import AngleFragmenter"
   ]
  },
  {
   "cell_type": "code",
   "execution_count": 4,
   "id": "cee5268d-7548-4b93-9bb1-519c3497f57d",
   "metadata": {},
   "outputs": [
    {
     "ename": "TypeError",
     "evalue": "__init__() got an unexpected keyword argument 'ignore_elements'",
     "output_type": "error",
     "traceback": [
      "\u001b[0;31m---------------------------------------------------------------------------\u001b[0m",
      "\u001b[0;31mTypeError\u001b[0m                                 Traceback (most recent call last)",
      "\u001b[0;32m/var/folders/z6/pfl9r4bn47b071n0294gyqym0000gn/T/ipykernel_50278/384999994.py\u001b[0m in \u001b[0;36m<module>\u001b[0;34m\u001b[0m\n\u001b[0;32m----> 1\u001b[0;31m \u001b[0mfragments\u001b[0m \u001b[0;34m=\u001b[0m \u001b[0mAngleFragmenter\u001b[0m\u001b[0;34m(\u001b[0m\u001b[0mignore_elements\u001b[0m\u001b[0;34m=\u001b[0m\u001b[0;34m[\u001b[0m\u001b[0;34m\"H\"\u001b[0m\u001b[0;34m]\u001b[0m\u001b[0;34m)\u001b[0m\u001b[0;34m(\u001b[0m\u001b[0mcontainer\u001b[0m\u001b[0;34m)\u001b[0m\u001b[0;34m\u001b[0m\u001b[0;34m\u001b[0m\u001b[0m\n\u001b[0m",
      "\u001b[0;31mTypeError\u001b[0m: __init__() got an unexpected keyword argument 'ignore_elements'"
     ]
    }
   ],
   "source": [
    "fragments = AngleFragmenter(ignore_elements=[\"H\"])(container)"
   ]
  },
  {
   "cell_type": "code",
   "execution_count": 5,
   "id": "22c775b0-c528-47d0-92c8-7694b38492a8",
   "metadata": {},
   "outputs": [],
   "source": [
    "from phenixml.fragmentation.display import FragmentDisplay"
   ]
  },
  {
   "cell_type": "code",
   "execution_count": 6,
   "id": "762cf721-6a05-4d44-8d9e-55c3ce730038",
   "metadata": {},
   "outputs": [
    {
     "ename": "NameError",
     "evalue": "name 'fragments' is not defined",
     "output_type": "error",
     "traceback": [
      "\u001b[0;31m---------------------------------------------------------------------------\u001b[0m",
      "\u001b[0;31mNameError\u001b[0m                                 Traceback (most recent call last)",
      "\u001b[0;32m/var/folders/z6/pfl9r4bn47b071n0294gyqym0000gn/T/ipykernel_50278/2515086329.py\u001b[0m in \u001b[0;36m<module>\u001b[0;34m\u001b[0m\n\u001b[0;32m----> 1\u001b[0;31m \u001b[0mFragmentDisplay\u001b[0m\u001b[0;34m.\u001b[0m\u001b[0mgrid_fragments\u001b[0m\u001b[0;34m(\u001b[0m\u001b[0mfragments\u001b[0m\u001b[0;34m,\u001b[0m\u001b[0mnmax\u001b[0m\u001b[0;34m=\u001b[0m\u001b[0;36m10\u001b[0m\u001b[0;34m)\u001b[0m\u001b[0;34m\u001b[0m\u001b[0;34m\u001b[0m\u001b[0m\n\u001b[0m",
      "\u001b[0;31mNameError\u001b[0m: name 'fragments' is not defined"
     ]
    }
   ],
   "source": [
    "FragmentDisplay.grid_fragments(fragments,nmax=10)"
   ]
  },
  {
   "cell_type": "code",
   "execution_count": null,
   "id": "5dfe75a7-d1cf-4029-8ee3-14dbde2dbf7f",
   "metadata": {},
   "outputs": [],
   "source": []
  },
  {
   "cell_type": "code",
   "execution_count": null,
   "id": "e67c02af-a331-472d-b8f4-1f1036b4daee",
   "metadata": {},
   "outputs": [],
   "source": []
  }
 ],
 "metadata": {
  "kernelspec": {
   "display_name": "Python 3 (ipykernel)",
   "language": "python",
   "name": "python3"
  },
  "language_info": {
   "codemirror_mode": {
    "name": "ipython",
    "version": 3
   },
   "file_extension": ".py",
   "mimetype": "text/x-python",
   "name": "python",
   "nbconvert_exporter": "python",
   "pygments_lexer": "ipython3",
   "version": "3.9.7"
  }
 },
 "nbformat": 4,
 "nbformat_minor": 5
}
