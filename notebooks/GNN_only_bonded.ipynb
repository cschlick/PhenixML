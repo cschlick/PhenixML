{
 "cells": [
  {
   "cell_type": "code",
   "execution_count": 1,
   "id": "44402412-41a5-41f3-9542-31c2b84bbc96",
   "metadata": {},
   "outputs": [
    {
     "name": "stderr",
     "output_type": "stream",
     "text": [
      "Using backend: pytorch\n"
     ]
    }
   ],
   "source": [
    "from pathlib import Path\n",
    "from rdkit import Chem\n",
    "from iotbx.data_manager import DataManager\n",
    "import numpy as np\n",
    "import tqdm\n",
    "import torch\n",
    "import torch.nn as nn\n",
    "import dgl"
   ]
  },
  {
   "cell_type": "code",
   "execution_count": 2,
   "id": "36f73c5d-f523-4e8a-af70-fd17c51ca2ae",
   "metadata": {},
   "outputs": [],
   "source": [
    "import sys\n",
    "sys.path.append(\"../PhenixML/\")"
   ]
  },
  {
   "cell_type": "code",
   "execution_count": 3,
   "id": "09133243-613b-4948-8092-243d0ef10246",
   "metadata": {},
   "outputs": [
    {
     "name": "stdout",
     "output_type": "stream",
     "text": [
      "Total MOL2 files: 10000\n"
     ]
    }
   ],
   "source": [
    "# get molecules\n",
    "from pathlib import Path\n",
    "mol_dir = Path(\"/dev/shm/cschlick/geostd_passed\")\n",
    "#mol_dir = Path(\"/dev/shm/cschlick/csd_passed/\")\n",
    "mol_files = [file for file in mol_dir.glob(\"**/*\") if file.suffix == \".mol\"][:10000]\n",
    "print(\"Total MOL2 files:\",len(mol_files))\n"
   ]
  },
  {
   "cell_type": "code",
   "execution_count": 4,
   "id": "efafd0fa-ce33-4433-8b58-0a2396e0c61a",
   "metadata": {},
   "outputs": [
    {
     "name": "stderr",
     "output_type": "stream",
     "text": [
      "RDKit WARNING: [22:57:51] WARNING: not removing hydrogen atom without neighbors\n",
      "[22:57:51] WARNING: not removing hydrogen atom without neighbors\n",
      "RDKit ERROR: [22:57:52] Explicit valence for atom # 13 Cl, 5, is greater than permitted\n",
      "[22:57:52] Explicit valence for atom # 13 Cl, 5, is greater than permitted\n"
     ]
    }
   ],
   "source": [
    "from phenixml.fragments.fragments import ModelContainer, Fragment\n",
    "containers = [ModelContainer.from_file_name(file,removeHs=True) for file in mol_files]\n",
    "container = containers[0]"
   ]
  },
  {
   "cell_type": "code",
   "execution_count": 5,
   "id": "0732033a-7355-419f-a70b-edc1a441a80d",
   "metadata": {},
   "outputs": [],
   "source": [
    "frag_name = \"fragment\"\n",
    "node_name = \"atom\""
   ]
  },
  {
   "cell_type": "code",
   "execution_count": 6,
   "id": "25a93603-fa7a-49ae-8e7c-b54343003a06",
   "metadata": {},
   "outputs": [],
   "source": [
    "from phenixml.fragments.fragmenters import BondFragmenter, FragmenterBase\n",
    "from phenixml.fragments.fragmenters import AngleFragmenter\n",
    "from phenixml.labelers.labelers import AngleFragLabeler"
   ]
  },
  {
   "cell_type": "code",
   "execution_count": 7,
   "id": "b9b73a4a-cf82-4732-b7ec-33075c478020",
   "metadata": {},
   "outputs": [],
   "source": [
    "from phenixml.fragments.fragments import ModelContainer, Fragment\n",
    "from phenixml.featurizers.atom_featurizers import RDKIT_Fingerprint\n",
    "from phenixml.graphs.graph_utils import build_fragment_heterograph, build_atom_graph_from_rdkit, get_indices_from_mol\n",
    "from rdkit.Chem import rdMolTransforms\n",
    "\n",
    "# debug\n",
    "from molgraph.build_graphs import build_heterograph_from_homo_mol\n",
    "\n",
    "class MolGraph:\n",
    "  def __init__(self,model_container,\n",
    "               fragmenter=AngleFragmenter(),\n",
    "               bond_fragmenter = BondFragmenter(),\n",
    "               nonbonded_fragmenter = None,\n",
    "               fragment_labeler=AngleFragLabeler(),\n",
    "               atom_featurizer=RDKIT_Fingerprint(),\n",
    "              frag_name = \"fragment\",\n",
    "              node_name = \"atom\",\n",
    "              label_ref_name = \"ref\"):\n",
    "    \n",
    "    \n",
    "    \n",
    "    self.model_container = model_container\n",
    "    self.fragmenter = fragmenter\n",
    "    self.atom_featurizer = atom_featurizer\n",
    "    \n",
    "    # use rdkit\n",
    "    self.atom_graph = build_atom_graph_from_rdkit(model_container.rdkit_mol,atom_featurizer=atom_featurizer)\n",
    "    \n",
    "#     # fragment\n",
    "#     connect_fragments = edge_fragmenter.fragment(model_container)\n",
    "#     fragments = fragmenter.fragment(model_container)\n",
    "    \n",
    "#     connect_idxs = np.array([fragment.atom_selection for fragment in connect_fragments])\n",
    "#     fragment_idxs = np.array([fragment.atom_selection for fragment in fragments])\n",
    "    \n",
    "#     self.heterograph = build_fragment_heterograph(atom_graph = self.atom_graph,\n",
    "#                                                   connect_idxs=connect_idxs,\n",
    "#                                                   frag_idxs=fragment_idxs,\n",
    "#                                                   frag_name = frag_name,\n",
    "#                                                   node_name = node_name,\n",
    "#                                                   connect_name = connect_name)\n",
    "    \n",
    "    \n",
    "    \n",
    "#     labels = [fragment_labeler(fragment) for fragment in fragments]\n",
    "#     labels = np.array(labels)[:,np.newaxis]\n",
    "#     self.heterograph.nodes[frag_name].data[label_ref_name] = torch.tensor(labels,dtype=torch.get_default_dtype())\n",
    "\n",
    "    rdkit_mol = container.rdkit_mol\n",
    "    idxs = get_indices_from_mol(rdkit_mol)\n",
    "    self.idxs = idxs\n",
    "    atom_idxs = np.arange(self.atom_graph.number_of_nodes())[:,np.newaxis]\n",
    "    fragments = fragmenter.fragment(self.model_container)\n",
    "    fragment_idxs = np.array([fragment.atom_selection for fragment in fragments])\n",
    "    #fragment_idxs = np.vstack([fragment_idxs,np.flip(fragment_idxs,axis=1)])\n",
    "    bonded_fragments = bond_fragmenter.fragment(self.model_container)\n",
    "    bonded_idxs = np.array([fragment.atom_selection for fragment in bonded_fragments])\n",
    "    bonded_idxs = np.vstack([bonded_idxs,np.flip(bonded_idxs,axis=1)])\n",
    "    if nonbonded_fragmenter:\n",
    "      nonbonded_fragments = nonbonded_fragmenter.fragment(self.model_container)\n",
    "      nonbonded_idxs = np.array([fragment.atom_selection for fragment in nonbonded_fragments])\n",
    "      nonbonded_idxs = np.vstack([nonbonded_idxs,np.flip(nonbonded_idxs,axis=1)])\n",
    "    else:\n",
    "      nonbonded_idxs = None\n",
    "    self.heterograph = build_fragment_heterograph(atom_graph = self.atom_graph,\n",
    "                                            atom_idxs = atom_idxs,\n",
    "                                            bonded_idxs=bonded_idxs,\n",
    "                                            nonbonded_idxs=nonbonded_idxs,\n",
    "                                            frag_idxs=fragment_idxs,\n",
    "                                            frag_name = frag_name,\n",
    "                                            node_name = node_name)\n",
    "    \n",
    "    labels = np.array([fragment_labeler(fragment) for fragment in fragments])\n",
    "    #labels = np.concatenate([labels,labels])\n",
    "    labels = labels[:,np.newaxis]\n",
    "    self.heterograph.nodes[frag_name].data[label_ref_name] = torch.tensor(labels,dtype=torch.get_default_dtype())\n",
    "    \n",
    "\n",
    "    # conf = rdkit_mol.GetConformer()\n",
    "    # angles_rad = []\n",
    "    # for idx1,idx2,idx3 in idxs[\"n3\"]:\n",
    "    #   angle_rad = Chem.rdMolTransforms.GetAngleRad(conf,int(idx1),int(idx2),int(idx3))\n",
    "    #   angles_rad.append(angle_rad)\n",
    "    # angles_rad = np.array(angles_rad)[:,np.newaxis]\n",
    "    # self.heterograph.nodes[frag_name].data[\"ref\"] = torch.tensor(angles_rad,dtype=torch.get_default_dtype())\n",
    "    \n",
    "  @property\n",
    "  def rdkit_mol(self):\n",
    "    return self.model_container.rdkit_mol"
   ]
  },
  {
   "cell_type": "code",
   "execution_count": 8,
   "id": "92dd4530-8686-4224-ac73-07c0cf2f3687",
   "metadata": {},
   "outputs": [],
   "source": [
    "molgraph = MolGraph(containers[0])"
   ]
  },
  {
   "cell_type": "code",
   "execution_count": null,
   "id": "45fb02c8-7ec0-4894-ac1f-b6a64a2e44d4",
   "metadata": {},
   "outputs": [],
   "source": []
  },
  {
   "cell_type": "code",
   "execution_count": 9,
   "id": "7149e5a5-b1d9-4cde-8852-68a807c6bf07",
   "metadata": {},
   "outputs": [
    {
     "name": "stderr",
     "output_type": "stream",
     "text": [
      "100%|██████████████████████████████████████████████████████████████████████████████████████████████████████████████████████████████████████| 10000/10000 [02:27<00:00, 67.59it/s]\n"
     ]
    }
   ],
   "source": [
    "molgraphs = []\n",
    "for container in tqdm.tqdm(containers):\n",
    "  try:\n",
    "    molgraph = MolGraph(container)\n",
    "    # molgraph = MolGraph(container,\n",
    "    #                 fragmenter=angle_fragmenter,\n",
    "    #                 edge_fragmenter=bond_fragmenter,\n",
    "    #                 fragment_labeler=angle_labeler,\n",
    "    #                 frag_name = frag_name,\n",
    "    #                 node_name = node_name,\n",
    "    #                 connect_name = connect_name)\n",
    "    molgraphs.append(molgraph)\n",
    "  except:\n",
    "    pass"
   ]
  },
  {
   "cell_type": "code",
   "execution_count": 10,
   "id": "20d64d4d-db86-4ed2-a146-1a6bfeee4985",
   "metadata": {},
   "outputs": [],
   "source": [
    "batch = dgl.batch([molgraph.heterograph for molgraph in molgraphs])"
   ]
  },
  {
   "cell_type": "code",
   "execution_count": 11,
   "id": "81eae619-2b04-48b2-81b4-e809c1e53fe9",
   "metadata": {},
   "outputs": [
    {
     "data": {
      "text/plain": [
       "Graph(num_nodes={'atom': 226000, 'fragment': 332504},\n",
       "      num_edges={('atom', 'atom_as_0_in_fragment', 'fragment'): 332504, ('atom', 'atom_as_1_in_fragment', 'fragment'): 332504, ('atom', 'atom_as_2_in_fragment', 'fragment'): 332504, ('atom', 'atom_bonded_atom', 'atom'): 480276},\n",
       "      metagraph=[('atom', 'fragment', 'atom_as_0_in_fragment'), ('atom', 'fragment', 'atom_as_1_in_fragment'), ('atom', 'fragment', 'atom_as_2_in_fragment'), ('atom', 'atom', 'atom_bonded_atom')])"
      ]
     },
     "execution_count": 11,
     "metadata": {},
     "output_type": "execute_result"
    }
   ],
   "source": [
    "batch"
   ]
  },
  {
   "cell_type": "code",
   "execution_count": 12,
   "id": "eb28c54c-7268-4fa7-b0b7-dfee0c92175b",
   "metadata": {},
   "outputs": [],
   "source": [
    "# model\n",
    "\n",
    "#mine\n",
    "from phenixml.models.message_passing import MessagePassing\n",
    "from phenixml.models.readout import JanossyReadout\n",
    "\n",
    "\n",
    "n_units = 128\n",
    "n_layers = 3\n",
    "fragment_size = 3\n",
    "feature_units = molgraphs[0].heterograph.nodes[node_name].data[\"h0\"].shape[1]\n",
    "\n",
    "config = []\n",
    "for n_layer in range(n_layers):\n",
    "  config+=[n_units,\"relu\"]\n",
    "  \n",
    "  \n",
    "sc = lambda in_feats,out_feats: dgl.nn.pytorch.conv.sageconv.SAGEConv(in_feats,out_feats,\"mean\",bias=True) # dgl saveconv layer\n",
    "\n",
    "message_passing = MessagePassing(\n",
    "    feature_units=feature_units,\n",
    "    layer=sc, # use SAGEConv implementation in DGL\n",
    "    #layer=esp.nn.dgl_legacy.gn(\"SAGEConv\"),\n",
    "    config=config,\n",
    "    atom_node_name = node_name,\n",
    "    fragment_name = frag_name,\n",
    "    edge_type=\"bonded\"\n",
    ") \n",
    "\n",
    "message_passing2 = MessagePassing(\n",
    "    feature_units=feature_units,\n",
    "    layer=sc, # use SAGEConv implementation in DGL\n",
    "    #layer=esp.nn.dgl_legacy.gn(\"SAGEConv\"),\n",
    "    config=config,\n",
    "    atom_node_name = node_name,\n",
    "    fragment_name = frag_name,\n",
    "    edge_type=\"nonbonded\"\n",
    ") \n",
    "\n",
    "n_units = 128\n",
    "n_layers = 2\n",
    "config = []\n",
    "for n_layer in range(n_layers):\n",
    "  config+=[n_units,\"relu\"]\n",
    "  \n",
    "readout = JanossyReadout(\n",
    "    in_features=n_units, config=config,\n",
    "    out_features={\"eq\":1},\n",
    "    atom_node_name = node_name,\n",
    "    fragment_name = frag_name,\n",
    "    fragment_size = 3\n",
    ")\n",
    "model = nn.Sequential(message_passing,readout)\n",
    "opt = torch.optim.Adam(model.parameters(),lr=1e-4)\n",
    "\n",
    "\n",
    "# esp\n",
    "# from molgraph.esp_fragments.sequential import EspSequential\n",
    "# from molgraph.esp_fragments.pooling import EspJanossyPooling\n",
    "\n",
    "\n",
    "# n_units = 128\n",
    "# n_layers = 3\n",
    "# config = []\n",
    "# for n_layer in range(n_layers):\n",
    "#   config+=[n_units,\"relu\"]\n",
    "  \n",
    "  \n",
    "# sc = lambda in_feats,out_feats: dgl.nn.pytorch.conv.sageconv.SAGEConv(in_feats,out_feats,\"mean\",bias=True) # dgl saveconv layer\n",
    "\n",
    "# message_passing = EspSequential(\n",
    "#     feature_units=batch.nodes[node_name].data[\"h0\"].shape[1],\n",
    "#     layer=sc, # use SAGEConv implementation in DGL\n",
    "#     #layer=esp.nn.dgl_legacy.gn(\"SAGEConv\"),\n",
    "#     config=config,\n",
    "# )  \n",
    "\n",
    "# n_units = 128\n",
    "# n_layers = 2\n",
    "# config = []\n",
    "# for n_layer in range(n_layers):\n",
    "#   config+=[n_units,\"relu\"]\n",
    "  \n",
    "# readout = EspJanossyPooling(\n",
    "#     in_features=n_units, config=config,\n",
    "#     out_features={              \n",
    "#         #1: {\"xyz\": 3},\n",
    "#          3: {\"eq\":1}\n",
    "#         #3: {\"eq\": 1},\n",
    "#         #4: {\"cmplx\": 2},\n",
    "#         #4: {\"tor\": 1},\n",
    "#         },\n",
    "# )\n",
    "\n",
    "# model = nn.Sequential(message_passing,readout)\n",
    "# opt = torch.optim.Adam(model.parameters(),lr=1e-4)"
   ]
  },
  {
   "cell_type": "code",
   "execution_count": 13,
   "id": "7ecd06dc-1a73-4994-a073-6b79df581e1a",
   "metadata": {},
   "outputs": [
    {
     "data": {
      "text/plain": [
       "Graph(num_nodes={'atom': 226000, 'fragment': 332504},\n",
       "      num_edges={('atom', 'atom_as_0_in_fragment', 'fragment'): 332504, ('atom', 'atom_as_1_in_fragment', 'fragment'): 332504, ('atom', 'atom_as_2_in_fragment', 'fragment'): 332504, ('atom', 'atom_bonded_atom', 'atom'): 480276},\n",
       "      metagraph=[('atom', 'fragment', 'atom_as_0_in_fragment'), ('atom', 'fragment', 'atom_as_1_in_fragment'), ('atom', 'fragment', 'atom_as_2_in_fragment'), ('atom', 'atom', 'atom_bonded_atom')])"
      ]
     },
     "execution_count": 13,
     "metadata": {},
     "output_type": "execute_result"
    }
   ],
   "source": [
    "model(batch)"
   ]
  },
  {
   "cell_type": "code",
   "execution_count": 14,
   "id": "fbce0620-0416-4033-9709-dd2fa4cc7cbd",
   "metadata": {},
   "outputs": [],
   "source": [
    "def loss_fn(g):\n",
    "  # a heterograph\n",
    "  metric = torch.nn.MSELoss()\n",
    "  loss = metric(g.nodes[frag_name].data[\"eq\"],g.nodes[frag_name].data[\"ref\"])\n",
    "  return loss"
   ]
  },
  {
   "cell_type": "code",
   "execution_count": null,
   "id": "97d62bc7-f87c-4d61-95ae-4fc5e7194aae",
   "metadata": {},
   "outputs": [],
   "source": []
  },
  {
   "cell_type": "code",
   "execution_count": 15,
   "id": "9ff1ed44-67ec-443a-a2ff-7cddabb0290a",
   "metadata": {},
   "outputs": [],
   "source": [
    "batch = batch.to(\"cuda:1\")\n",
    "model = model.to(\"cuda:1\")\n"
   ]
  },
  {
   "cell_type": "code",
   "execution_count": 16,
   "id": "55619237-058a-4a1d-8d9b-0e37940b7f7d",
   "metadata": {},
   "outputs": [
    {
     "name": "stderr",
     "output_type": "stream",
     "text": [
      "100%|████████████████████████████████████████████████████████████████████████████████████████████████████████████████████████████████████████| 2000/2000 [05:58<00:00,  5.57it/s]\n"
     ]
    }
   ],
   "source": [
    "epoch_losses = []\n",
    "n_epoch=2000\n",
    "avg_loss = \"inf\"\n",
    "\n",
    "for epoch in tqdm.tqdm(range(n_epoch)):\n",
    "    \n",
    "  g = model(batch)\n",
    "  loss = loss_fn(g)\n",
    "  opt.zero_grad()\n",
    "  loss.backward()\n",
    "  opt.step()\n",
    "  \n",
    "  epoch_losses.append(loss.item())\n",
    "  \n"
   ]
  },
  {
   "cell_type": "code",
   "execution_count": 17,
   "id": "3cdf5f3f-31a9-4c8a-a545-bfe1e77f2dd6",
   "metadata": {},
   "outputs": [
    {
     "data": {
      "text/plain": [
       "[<matplotlib.lines.Line2D at 0x7fe350348970>]"
      ]
     },
     "execution_count": 17,
     "metadata": {},
     "output_type": "execute_result"
    },
    {
     "data": {
      "image/png": "[encoded data removed]",
      "text/plain": [
       "<Figure size 432x288 with 1 Axes>"
      ]
     },
     "metadata": {
      "needs_background": "light"
     },
     "output_type": "display_data"
    }
   ],
   "source": [
    "%matplotlib inline\n",
    "import matplotlib.pyplot as plt\n",
    "\n",
    "def to_np(tensor):\n",
    "  return tensor.detach().cpu().numpy()\n",
    "\n",
    "plt.plot(epoch_losses)\n",
    "#plt.plot(loss_history_n3[10:])"
   ]
  },
  {
   "cell_type": "code",
   "execution_count": 18,
   "id": "bd18ef00-e0ec-42e8-b869-7136b84a7a92",
   "metadata": {},
   "outputs": [
    {
     "data": {
      "text/plain": [
       "0.0017638257704675198"
      ]
     },
     "execution_count": 18,
     "metadata": {},
     "output_type": "execute_result"
    }
   ],
   "source": [
    "epoch_losses[-1]"
   ]
  },
  {
   "cell_type": "code",
   "execution_count": 1,
   "id": "74fac5a4-9d95-495e-8621-ad28ab5b6994",
   "metadata": {},
   "outputs": [],
   "source": [
    "import pandas as pd\n",
    "import seaborn as sns\n",
    "import matplotlib.pyplot as plt\n",
    "\n",
    "\n",
    "\n",
    "def plot_geom_eval(a,b,mode=\"bond\",s=0.01):\n",
    "  \n",
    "\n",
    "    \n",
    "  fig, axs = plt.subplots(1,2,figsize=(16,5))\n",
    "  axs = axs.flatten()\n",
    "  \n",
    "  # scatter plot\n",
    "  ax = axs[0]\n",
    "  ax.scatter(a,b,s=s)\n",
    "  #sns.kdeplot(a,b,fill=True)\n",
    "  if mode == \"bond\":\n",
    "    ax.set_xlim(1,1.8)\n",
    "    ax.set_ylim(1,1.8)\n",
    "    units = \"(ang.)\"\n",
    "  elif mode == \"angle\":\n",
    "    ax.set_xlim(50,140)\n",
    "    ax.set_ylim(50,140)\n",
    "    units = \"(deg.)\"\n",
    "  ax.plot([0,200],[0,200],color=\"black\")\n",
    "  ax.set_xlabel(\"Reference \"+units,fontsize=14)\n",
    "  ax.set_ylabel(\"Predicted \"+units,fontsize=14)\n",
    "  \n",
    "  \n",
    "  # histogram\n",
    "  ax = axs[1]\n",
    "  sns.histplot(a-b,ax=ax,kde=True,stat=\"density\")\n",
    "  if mode == \"bond\":\n",
    "    ax.set_xlim(-3,3)\n",
    "  elif mode == \"angle\":\n",
    "    ax.set_xlim(-20,20)\n",
    "  ax.set_xlabel(\"Error (reference-predicted) \"+units,fontsize=14)\n",
    "  ax.set_ylabel(\"Density estimate\",fontsize=14)\n",
    "  mae = np.abs(a-b).mean()\n",
    "  ax.set_title(\"MAE:\"+str(mae))\n"
   ]
  },
  {
   "cell_type": "code",
   "execution_count": 2,
   "id": "3b3361c1-11eb-4423-8d8d-849d3ed20508",
   "metadata": {},
   "outputs": [
    {
     "ename": "NameError",
     "evalue": "name 'g' is not defined",
     "output_type": "error",
     "traceback": [
      "\u001b[0;31m---------------------------------------------------------------------------\u001b[0m",
      "\u001b[0;31mNameError\u001b[0m                                 Traceback (most recent call last)",
      "\u001b[0;32m/tmp/ipykernel_582/451356828.py\u001b[0m in \u001b[0;36m<module>\u001b[0;34m\u001b[0m\n\u001b[0;32m----> 1\u001b[0;31m \u001b[0ma\u001b[0m\u001b[0;34m,\u001b[0m\u001b[0mb\u001b[0m \u001b[0;34m=\u001b[0m \u001b[0mg\u001b[0m\u001b[0;34m.\u001b[0m\u001b[0mnodes\u001b[0m\u001b[0;34m[\u001b[0m\u001b[0mfrag_name\u001b[0m\u001b[0;34m]\u001b[0m\u001b[0;34m.\u001b[0m\u001b[0mdata\u001b[0m\u001b[0;34m[\u001b[0m\u001b[0;34m\"ref\"\u001b[0m\u001b[0;34m]\u001b[0m\u001b[0;34m,\u001b[0m \u001b[0mg\u001b[0m\u001b[0;34m.\u001b[0m\u001b[0mnodes\u001b[0m\u001b[0;34m[\u001b[0m\u001b[0mfrag_name\u001b[0m\u001b[0;34m]\u001b[0m\u001b[0;34m.\u001b[0m\u001b[0mdata\u001b[0m\u001b[0;34m[\u001b[0m\u001b[0;34m\"eq\"\u001b[0m\u001b[0;34m]\u001b[0m\u001b[0;34m,\u001b[0m\u001b[0;34m\u001b[0m\u001b[0;34m\u001b[0m\u001b[0m\n\u001b[0m\u001b[1;32m      2\u001b[0m \u001b[0ma\u001b[0m\u001b[0;34m,\u001b[0m\u001b[0mb\u001b[0m \u001b[0;34m=\u001b[0m \u001b[0mto_np\u001b[0m\u001b[0;34m(\u001b[0m\u001b[0ma\u001b[0m\u001b[0;34m)\u001b[0m\u001b[0;34m.\u001b[0m\u001b[0mflatten\u001b[0m\u001b[0;34m(\u001b[0m\u001b[0;34m)\u001b[0m\u001b[0;34m,\u001b[0m\u001b[0mto_np\u001b[0m\u001b[0;34m(\u001b[0m\u001b[0mb\u001b[0m\u001b[0;34m)\u001b[0m\u001b[0;34m.\u001b[0m\u001b[0mflatten\u001b[0m\u001b[0;34m(\u001b[0m\u001b[0;34m)\u001b[0m\u001b[0;34m\u001b[0m\u001b[0;34m\u001b[0m\u001b[0m\n\u001b[1;32m      3\u001b[0m \u001b[0ma\u001b[0m\u001b[0;34m,\u001b[0m\u001b[0mb\u001b[0m \u001b[0;34m=\u001b[0m \u001b[0mnp\u001b[0m\u001b[0;34m.\u001b[0m\u001b[0mdegrees\u001b[0m\u001b[0;34m(\u001b[0m\u001b[0ma\u001b[0m\u001b[0;34m)\u001b[0m\u001b[0;34m,\u001b[0m \u001b[0mnp\u001b[0m\u001b[0;34m.\u001b[0m\u001b[0mdegrees\u001b[0m\u001b[0;34m(\u001b[0m\u001b[0mb\u001b[0m\u001b[0;34m)\u001b[0m\u001b[0;34m\u001b[0m\u001b[0;34m\u001b[0m\u001b[0m\n\u001b[1;32m      4\u001b[0m \u001b[0;31m#a,b = to_np(a).flatten(),to_np(b).flatten()\u001b[0m\u001b[0;34m\u001b[0m\u001b[0;34m\u001b[0m\u001b[0m\n",
      "\u001b[0;31mNameError\u001b[0m: name 'g' is not defined"
     ]
    }
   ],
   "source": [
    "a,b = g.nodes[frag_name].data[\"ref\"], g.nodes[frag_name].data[\"eq\"],\n",
    "a,b = to_np(a).flatten(),to_np(b).flatten()\n",
    "a,b = np.degrees(a), np.degrees(b)\n",
    "#a,b = to_np(a).flatten(),to_np(b).flatten()"
   ]
  },
  {
   "cell_type": "code",
   "execution_count": 21,
   "id": "fa8d2f7f-a1f3-41a3-8c54-ad985789b633",
   "metadata": {},
   "outputs": [
    {
     "data": {
      "image/png": "[encoded data removed]",
      "text/plain": [
       "<Figure size 1152x360 with 2 Axes>"
      ]
     },
     "metadata": {
      "needs_background": "light"
     },
     "output_type": "display_data"
    }
   ],
   "source": [
    "plot_geom_eval(a,b,s=0.005,mode=\"angle\")"
   ]
  },
  {
   "cell_type": "code",
   "execution_count": 22,
   "id": "5ddcb387-ff2d-4701-b141-42ca001e95a4",
   "metadata": {},
   "outputs": [
    {
     "data": {
      "text/plain": [
       "\u001b[0;31mSignature:\u001b[0m \u001b[0mg\u001b[0m\u001b[0;34m.\u001b[0m\u001b[0medge_type_subgraph\u001b[0m\u001b[0;34m(\u001b[0m\u001b[0metypes\u001b[0m\u001b[0;34m)\u001b[0m\u001b[0;34m\u001b[0m\u001b[0;34m\u001b[0m\u001b[0m\n",
       "\u001b[0;31mDocstring:\u001b[0m Alias of :func:`dgl.edge_type_subgraph`.\n",
       "\u001b[0;31mSource:\u001b[0m   \n",
       "\u001b[0;32mdef\u001b[0m \u001b[0medge_type_subgraph\u001b[0m\u001b[0;34m(\u001b[0m\u001b[0mgraph\u001b[0m\u001b[0;34m,\u001b[0m \u001b[0metypes\u001b[0m\u001b[0;34m)\u001b[0m\u001b[0;34m:\u001b[0m\u001b[0;34m\u001b[0m\n",
       "\u001b[0;34m\u001b[0m    \u001b[0;34m\"\"\"Return the subgraph induced on given edge types.\u001b[0m\n",
       "\u001b[0;34m\u001b[0m\n",
       "\u001b[0;34m    An edge-type-induced subgraph contains all the edges of the given subset of\u001b[0m\n",
       "\u001b[0;34m    the edge types of a graph. It also contains all nodes of a particular type\u001b[0m\n",
       "\u001b[0;34m    if some nodes of the type are incident to these edges.\u001b[0m\n",
       "\u001b[0;34m    In addition to extracting the subgraph, DGL also copies the features of the\u001b[0m\n",
       "\u001b[0;34m    extracted nodes and edges to the resulting graph.\u001b[0m\n",
       "\u001b[0;34m    The copy is *lazy* and incurs data movement only when needed.\u001b[0m\n",
       "\u001b[0;34m\u001b[0m\n",
       "\u001b[0;34m    Parameters\u001b[0m\n",
       "\u001b[0;34m    ----------\u001b[0m\n",
       "\u001b[0;34m    graph : DGLGraph\u001b[0m\n",
       "\u001b[0;34m        The graph to extract subgraphs from.\u001b[0m\n",
       "\u001b[0;34m    etypes : list[str] or list[(str, str, str)]\u001b[0m\n",
       "\u001b[0;34m        The type names of the edges in the subgraph. The allowed type name\u001b[0m\n",
       "\u001b[0;34m        formats are:\u001b[0m\n",
       "\u001b[0;34m\u001b[0m\n",
       "\u001b[0;34m        * ``(str, str, str)`` for source node type, edge type and destination node type.\u001b[0m\n",
       "\u001b[0;34m        * or one ``str`` for the edge type name  if the name can uniquely identify a\u001b[0m\n",
       "\u001b[0;34m          triplet format in the graph.\u001b[0m\n",
       "\u001b[0;34m\u001b[0m\n",
       "\u001b[0;34m    Returns\u001b[0m\n",
       "\u001b[0;34m    -------\u001b[0m\n",
       "\u001b[0;34m    G : DGLGraph\u001b[0m\n",
       "\u001b[0;34m        The subgraph.\u001b[0m\n",
       "\u001b[0;34m\u001b[0m\n",
       "\u001b[0;34m    Notes\u001b[0m\n",
       "\u001b[0;34m    -----\u001b[0m\n",
       "\u001b[0;34m\u001b[0m\n",
       "\u001b[0;34m    This function discards the batch information. Please use\u001b[0m\n",
       "\u001b[0;34m    :func:`dgl.DGLGraph.set_batch_num_nodes`\u001b[0m\n",
       "\u001b[0;34m    and :func:`dgl.DGLGraph.set_batch_num_edges` on the transformed graph\u001b[0m\n",
       "\u001b[0;34m    to maintain the information.\u001b[0m\n",
       "\u001b[0;34m\u001b[0m\n",
       "\u001b[0;34m    Examples\u001b[0m\n",
       "\u001b[0;34m    --------\u001b[0m\n",
       "\u001b[0;34m    The following example uses PyTorch backend.\u001b[0m\n",
       "\u001b[0;34m\u001b[0m\n",
       "\u001b[0;34m    >>> import dgl\u001b[0m\n",
       "\u001b[0;34m    >>> import torch\u001b[0m\n",
       "\u001b[0;34m\u001b[0m\n",
       "\u001b[0;34m    Instantiate a heterograph.\u001b[0m\n",
       "\u001b[0;34m\u001b[0m\n",
       "\u001b[0;34m    >>> g = dgl.heterograph({\u001b[0m\n",
       "\u001b[0;34m    >>>     ('user', 'plays', 'game'): ([0, 1, 1, 2], [0, 0, 2, 1]),\u001b[0m\n",
       "\u001b[0;34m    >>>     ('user', 'follows', 'user'): ([0, 1, 1], [1, 2, 2])\u001b[0m\n",
       "\u001b[0;34m    >>> })\u001b[0m\n",
       "\u001b[0;34m    >>> # Set edge features\u001b[0m\n",
       "\u001b[0;34m    >>> g.edges['follows'].data['h'] = torch.tensor([[0.], [1.], [2.]])\u001b[0m\n",
       "\u001b[0;34m\u001b[0m\n",
       "\u001b[0;34m    Get subgraphs.\u001b[0m\n",
       "\u001b[0;34m\u001b[0m\n",
       "\u001b[0;34m    >>> sub_g = g.edge_type_subgraph(['follows'])\u001b[0m\n",
       "\u001b[0;34m    >>> sub_g\u001b[0m\n",
       "\u001b[0;34m    Graph(num_nodes=3, num_edges=3,\u001b[0m\n",
       "\u001b[0;34m          ndata_schemes={}\u001b[0m\n",
       "\u001b[0;34m          edata_schemes={'h': Scheme(shape=(1,), dtype=torch.float32)})\u001b[0m\n",
       "\u001b[0;34m\u001b[0m\n",
       "\u001b[0;34m    Get the shared edge features.\u001b[0m\n",
       "\u001b[0;34m\u001b[0m\n",
       "\u001b[0;34m    >>> sub_g.edges['follows'].data['h']\u001b[0m\n",
       "\u001b[0;34m    tensor([[0.],\u001b[0m\n",
       "\u001b[0;34m            [1.],\u001b[0m\n",
       "\u001b[0;34m            [2.]])\u001b[0m\n",
       "\u001b[0;34m\u001b[0m\n",
       "\u001b[0;34m    See Also\u001b[0m\n",
       "\u001b[0;34m    --------\u001b[0m\n",
       "\u001b[0;34m    node_type_subgraph\u001b[0m\n",
       "\u001b[0;34m    \"\"\"\u001b[0m\u001b[0;34m\u001b[0m\n",
       "\u001b[0;34m\u001b[0m    \u001b[0metype_ids\u001b[0m \u001b[0;34m=\u001b[0m \u001b[0;34m[\u001b[0m\u001b[0mgraph\u001b[0m\u001b[0;34m.\u001b[0m\u001b[0mget_etype_id\u001b[0m\u001b[0;34m(\u001b[0m\u001b[0metype\u001b[0m\u001b[0;34m)\u001b[0m \u001b[0;32mfor\u001b[0m \u001b[0metype\u001b[0m \u001b[0;32min\u001b[0m \u001b[0metypes\u001b[0m\u001b[0;34m]\u001b[0m\u001b[0;34m\u001b[0m\n",
       "\u001b[0;34m\u001b[0m    \u001b[0;31m# meta graph is homogeneous graph, still using int64\u001b[0m\u001b[0;34m\u001b[0m\n",
       "\u001b[0;34m\u001b[0m    \u001b[0mmeta_src\u001b[0m\u001b[0;34m,\u001b[0m \u001b[0mmeta_dst\u001b[0m\u001b[0;34m,\u001b[0m \u001b[0m_\u001b[0m \u001b[0;34m=\u001b[0m \u001b[0mgraph\u001b[0m\u001b[0;34m.\u001b[0m\u001b[0m_graph\u001b[0m\u001b[0;34m.\u001b[0m\u001b[0mmetagraph\u001b[0m\u001b[0;34m.\u001b[0m\u001b[0mfind_edges\u001b[0m\u001b[0;34m(\u001b[0m\u001b[0mutils\u001b[0m\u001b[0;34m.\u001b[0m\u001b[0mtoindex\u001b[0m\u001b[0;34m(\u001b[0m\u001b[0metype_ids\u001b[0m\u001b[0;34m,\u001b[0m \u001b[0;34m\"int64\"\u001b[0m\u001b[0;34m)\u001b[0m\u001b[0;34m)\u001b[0m\u001b[0;34m\u001b[0m\n",
       "\u001b[0;34m\u001b[0m    \u001b[0mrel_graphs\u001b[0m \u001b[0;34m=\u001b[0m \u001b[0;34m[\u001b[0m\u001b[0mgraph\u001b[0m\u001b[0;34m.\u001b[0m\u001b[0m_graph\u001b[0m\u001b[0;34m.\u001b[0m\u001b[0mget_relation_graph\u001b[0m\u001b[0;34m(\u001b[0m\u001b[0mi\u001b[0m\u001b[0;34m)\u001b[0m \u001b[0;32mfor\u001b[0m \u001b[0mi\u001b[0m \u001b[0;32min\u001b[0m \u001b[0metype_ids\u001b[0m\u001b[0;34m]\u001b[0m\u001b[0;34m\u001b[0m\n",
       "\u001b[0;34m\u001b[0m    \u001b[0mmeta_src\u001b[0m \u001b[0;34m=\u001b[0m \u001b[0mmeta_src\u001b[0m\u001b[0;34m.\u001b[0m\u001b[0mtonumpy\u001b[0m\u001b[0;34m(\u001b[0m\u001b[0;34m)\u001b[0m\u001b[0;34m\u001b[0m\n",
       "\u001b[0;34m\u001b[0m    \u001b[0mmeta_dst\u001b[0m \u001b[0;34m=\u001b[0m \u001b[0mmeta_dst\u001b[0m\u001b[0;34m.\u001b[0m\u001b[0mtonumpy\u001b[0m\u001b[0;34m(\u001b[0m\u001b[0;34m)\u001b[0m\u001b[0;34m\u001b[0m\n",
       "\u001b[0;34m\u001b[0m    \u001b[0mntypes_invmap\u001b[0m \u001b[0;34m=\u001b[0m \u001b[0;34m{\u001b[0m\u001b[0mn\u001b[0m\u001b[0;34m:\u001b[0m \u001b[0mi\u001b[0m \u001b[0;32mfor\u001b[0m \u001b[0mi\u001b[0m\u001b[0;34m,\u001b[0m \u001b[0mn\u001b[0m \u001b[0;32min\u001b[0m \u001b[0menumerate\u001b[0m\u001b[0;34m(\u001b[0m\u001b[0mset\u001b[0m\u001b[0;34m(\u001b[0m\u001b[0mmeta_src\u001b[0m\u001b[0;34m)\u001b[0m \u001b[0;34m|\u001b[0m \u001b[0mset\u001b[0m\u001b[0;34m(\u001b[0m\u001b[0mmeta_dst\u001b[0m\u001b[0;34m)\u001b[0m\u001b[0;34m)\u001b[0m\u001b[0;34m}\u001b[0m\u001b[0;34m\u001b[0m\n",
       "\u001b[0;34m\u001b[0m    \u001b[0mmapped_meta_src\u001b[0m \u001b[0;34m=\u001b[0m \u001b[0;34m[\u001b[0m\u001b[0mntypes_invmap\u001b[0m\u001b[0;34m[\u001b[0m\u001b[0mv\u001b[0m\u001b[0;34m]\u001b[0m \u001b[0;32mfor\u001b[0m \u001b[0mv\u001b[0m \u001b[0;32min\u001b[0m \u001b[0mmeta_src\u001b[0m\u001b[0;34m]\u001b[0m\u001b[0;34m\u001b[0m\n",
       "\u001b[0;34m\u001b[0m    \u001b[0mmapped_meta_dst\u001b[0m \u001b[0;34m=\u001b[0m \u001b[0;34m[\u001b[0m\u001b[0mntypes_invmap\u001b[0m\u001b[0;34m[\u001b[0m\u001b[0mv\u001b[0m\u001b[0;34m]\u001b[0m \u001b[0;32mfor\u001b[0m \u001b[0mv\u001b[0m \u001b[0;32min\u001b[0m \u001b[0mmeta_dst\u001b[0m\u001b[0;34m]\u001b[0m\u001b[0;34m\u001b[0m\n",
       "\u001b[0;34m\u001b[0m    \u001b[0mnode_frames\u001b[0m \u001b[0;34m=\u001b[0m \u001b[0;34m[\u001b[0m\u001b[0mgraph\u001b[0m\u001b[0;34m.\u001b[0m\u001b[0m_node_frames\u001b[0m\u001b[0;34m[\u001b[0m\u001b[0mi\u001b[0m\u001b[0;34m]\u001b[0m \u001b[0;32mfor\u001b[0m \u001b[0mi\u001b[0m \u001b[0;32min\u001b[0m \u001b[0mntypes_invmap\u001b[0m\u001b[0;34m]\u001b[0m\u001b[0;34m\u001b[0m\n",
       "\u001b[0;34m\u001b[0m    \u001b[0medge_frames\u001b[0m \u001b[0;34m=\u001b[0m \u001b[0;34m[\u001b[0m\u001b[0mgraph\u001b[0m\u001b[0;34m.\u001b[0m\u001b[0m_edge_frames\u001b[0m\u001b[0;34m[\u001b[0m\u001b[0mi\u001b[0m\u001b[0;34m]\u001b[0m \u001b[0;32mfor\u001b[0m \u001b[0mi\u001b[0m \u001b[0;32min\u001b[0m \u001b[0metype_ids\u001b[0m\u001b[0;34m]\u001b[0m\u001b[0;34m\u001b[0m\n",
       "\u001b[0;34m\u001b[0m    \u001b[0minduced_ntypes\u001b[0m \u001b[0;34m=\u001b[0m \u001b[0;34m[\u001b[0m\u001b[0mgraph\u001b[0m\u001b[0;34m.\u001b[0m\u001b[0m_ntypes\u001b[0m\u001b[0;34m[\u001b[0m\u001b[0mi\u001b[0m\u001b[0;34m]\u001b[0m \u001b[0;32mfor\u001b[0m \u001b[0mi\u001b[0m \u001b[0;32min\u001b[0m \u001b[0mntypes_invmap\u001b[0m\u001b[0;34m]\u001b[0m\u001b[0;34m\u001b[0m\n",
       "\u001b[0;34m\u001b[0m    \u001b[0minduced_etypes\u001b[0m \u001b[0;34m=\u001b[0m \u001b[0;34m[\u001b[0m\u001b[0mgraph\u001b[0m\u001b[0;34m.\u001b[0m\u001b[0m_etypes\u001b[0m\u001b[0;34m[\u001b[0m\u001b[0mi\u001b[0m\u001b[0;34m]\u001b[0m \u001b[0;32mfor\u001b[0m \u001b[0mi\u001b[0m \u001b[0;32min\u001b[0m \u001b[0metype_ids\u001b[0m\u001b[0;34m]\u001b[0m   \u001b[0;31m# get the \"name\" of edge type\u001b[0m\u001b[0;34m\u001b[0m\n",
       "\u001b[0;34m\u001b[0m    \u001b[0mnum_nodes_per_induced_type\u001b[0m \u001b[0;34m=\u001b[0m \u001b[0;34m[\u001b[0m\u001b[0mgraph\u001b[0m\u001b[0;34m.\u001b[0m\u001b[0mnumber_of_nodes\u001b[0m\u001b[0;34m(\u001b[0m\u001b[0mntype\u001b[0m\u001b[0;34m)\u001b[0m \u001b[0;32mfor\u001b[0m \u001b[0mntype\u001b[0m \u001b[0;32min\u001b[0m \u001b[0minduced_ntypes\u001b[0m\u001b[0;34m]\u001b[0m\u001b[0;34m\u001b[0m\n",
       "\u001b[0;34m\u001b[0m\u001b[0;34m\u001b[0m\n",
       "\u001b[0;34m\u001b[0m    \u001b[0mmetagraph\u001b[0m \u001b[0;34m=\u001b[0m \u001b[0mgraph_index\u001b[0m\u001b[0;34m.\u001b[0m\u001b[0mfrom_edge_list\u001b[0m\u001b[0;34m(\u001b[0m\u001b[0;34m(\u001b[0m\u001b[0mmapped_meta_src\u001b[0m\u001b[0;34m,\u001b[0m \u001b[0mmapped_meta_dst\u001b[0m\u001b[0;34m)\u001b[0m\u001b[0;34m,\u001b[0m \u001b[0;32mTrue\u001b[0m\u001b[0;34m)\u001b[0m\u001b[0;34m\u001b[0m\n",
       "\u001b[0;34m\u001b[0m    \u001b[0;31m# num_nodes_per_type should be int64\u001b[0m\u001b[0;34m\u001b[0m\n",
       "\u001b[0;34m\u001b[0m    \u001b[0mhgidx\u001b[0m \u001b[0;34m=\u001b[0m \u001b[0mheterograph_index\u001b[0m\u001b[0;34m.\u001b[0m\u001b[0mcreate_heterograph_from_relations\u001b[0m\u001b[0;34m(\u001b[0m\u001b[0;34m\u001b[0m\n",
       "\u001b[0;34m\u001b[0m        \u001b[0mmetagraph\u001b[0m\u001b[0;34m,\u001b[0m \u001b[0mrel_graphs\u001b[0m\u001b[0;34m,\u001b[0m \u001b[0mutils\u001b[0m\u001b[0;34m.\u001b[0m\u001b[0mtoindex\u001b[0m\u001b[0;34m(\u001b[0m\u001b[0mnum_nodes_per_induced_type\u001b[0m\u001b[0;34m,\u001b[0m \u001b[0;34m\"int64\"\u001b[0m\u001b[0;34m)\u001b[0m\u001b[0;34m)\u001b[0m\u001b[0;34m\u001b[0m\n",
       "\u001b[0;34m\u001b[0m    \u001b[0mhg\u001b[0m \u001b[0;34m=\u001b[0m \u001b[0mDGLHeteroGraph\u001b[0m\u001b[0;34m(\u001b[0m\u001b[0mhgidx\u001b[0m\u001b[0;34m,\u001b[0m \u001b[0minduced_ntypes\u001b[0m\u001b[0;34m,\u001b[0m \u001b[0minduced_etypes\u001b[0m\u001b[0;34m,\u001b[0m \u001b[0mnode_frames\u001b[0m\u001b[0;34m,\u001b[0m \u001b[0medge_frames\u001b[0m\u001b[0;34m)\u001b[0m\u001b[0;34m\u001b[0m\n",
       "\u001b[0;34m\u001b[0m    \u001b[0;32mreturn\u001b[0m \u001b[0mhg\u001b[0m\u001b[0;34m\u001b[0m\u001b[0;34m\u001b[0m\u001b[0m\n",
       "\u001b[0;31mFile:\u001b[0m      ~/miniconda3/envs/restraintsML/lib/python3.9/site-packages/dgl/subgraph.py\n",
       "\u001b[0;31mType:\u001b[0m      method\n"
      ]
     },
     "metadata": {},
     "output_type": "display_data"
    }
   ],
   "source": [
    "g.edge_type_subgraph?"
   ]
  },
  {
   "cell_type": "code",
   "execution_count": null,
   "id": "1e40e11a-4ff4-48f0-8a6d-bc9b3abc006f",
   "metadata": {},
   "outputs": [],
   "source": []
  }
 ],
 "metadata": {
  "kernelspec": {
   "display_name": "Python 3 (ipykernel)",
   "language": "python",
   "name": "python3"
  },
  "language_info": {
   "codemirror_mode": {
    "name": "ipython",
    "version": 3
   },
   "file_extension": ".py",
   "mimetype": "text/x-python",
   "name": "python",
   "nbconvert_exporter": "python",
   "pygments_lexer": "ipython3",
   "version": "3.9.7"
  }
 },
 "nbformat": 4,
 "nbformat_minor": 5
}
