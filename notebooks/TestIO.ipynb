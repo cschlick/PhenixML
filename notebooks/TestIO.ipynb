{
 "cells": [
  {
   "cell_type": "code",
   "execution_count": 5,
   "id": "alone-running",
   "metadata": {},
   "outputs": [],
   "source": [
    "import sys\n",
    "sys.path.append(\"../\")\n",
    "from iotbx.data_manager import DataManager\n",
    "from iotbx.pdb.fetch import fetch\n",
    "dm = DataManager()\n",
    "acc = \"6D31\"\n",
    "ret = fetch(acc)\n",
    "s = ret.read().decode(\"utf-8\") \n",
    "dm.process_model_str(acc,s)\n",
    "model = dm.get_model()\n"
   ]
  },
  {
   "cell_type": "code",
   "execution_count": 7,
   "id": "loving-pantyhose",
   "metadata": {},
   "outputs": [],
   "source": [
    "from phenixml.utils.rdkit_utils import cctbx_model_to_rdkit, elbow_to_rdkit"
   ]
  },
  {
   "cell_type": "code",
   "execution_count": 9,
   "id": "genuine-handling",
   "metadata": {},
   "outputs": [],
   "source": [
    "m = cctbx_model_to_rdkit(model)"
   ]
  },
  {
   "cell_type": "code",
   "execution_count": 15,
   "id": "cheap-siemens",
   "metadata": {},
   "outputs": [
    {
     "data": {
      "text/plain": [
       "False"
      ]
     },
     "execution_count": 15,
     "metadata": {},
     "output_type": "execute_result"
    }
   ],
   "source": [
    "np.any([1,2,3]==[1,2])"
   ]
  },
  {
   "cell_type": "code",
   "execution_count": 14,
   "id": "recreational-nebraska",
   "metadata": {},
   "outputs": [],
   "source": [
    "import numpy as np"
   ]
  },
  {
   "cell_type": "code",
   "execution_count": null,
   "id": "visible-draft",
   "metadata": {},
   "outputs": [],
   "source": []
  }
 ],
 "metadata": {
  "kernelspec": {
   "display_name": "Python 3",
   "language": "python",
   "name": "python3"
  },
  "language_info": {
   "codemirror_mode": {
    "name": "ipython",
    "version": 3
   },
   "file_extension": ".py",
   "mimetype": "text/x-python",
   "name": "python",
   "nbconvert_exporter": "python",
   "pygments_lexer": "ipython3",
   "version": "3.8.6"
  }
 },
 "nbformat": 4,
 "nbformat_minor": 5
}
