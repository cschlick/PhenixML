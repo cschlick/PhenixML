{
 "cells": [
  {
   "cell_type": "code",
   "execution_count": 5,
   "id": "1eb95bf0-1e72-4e0c-ac7c-0d0b52f6e39b",
   "metadata": {},
   "outputs": [],
   "source": [
    "import sys\n",
    "sys.path.append(\"../\")\n",
    "from iotbx.data_manager import DataManager\n",
    "from iotbx.pdb.fetch import fetch\n",
    "dm = DataManager()\n",
    "acc = \"6D31\"\n",
    "ret = fetch(acc)\n",
    "s = ret.read().decode(\"utf-8\") \n",
    "dm.process_model_str(acc,s)\n",
    "model = dm.get_model()\n"
   ]
  },
  {
   "cell_type": "code",
   "execution_count": 7,
   "id": "bbda45f3-e77f-46ee-8f73-dbd814c1f6fe",
   "metadata": {},
   "outputs": [],
   "source": [
    "from phenixml.utils.rdkit_utils import cctbx_model_to_rdkit, elbow_to_rdkit"
   ]
  },
  {
   "cell_type": "code",
   "execution_count": 9,
   "id": "07050eda-925c-44f9-a14a-0dbf695928c3",
   "metadata": {},
   "outputs": [],
   "source": [
    "m = cctbx_model_to_rdkit(model)"
   ]
  },
  {
   "cell_type": "code",
   "execution_count": 15,
   "id": "ddb34215-4705-4975-814c-83a93f96b8fa",
   "metadata": {},
   "outputs": [
    {
     "data": {
      "text/plain": [
       "False"
      ]
     },
     "execution_count": 15,
     "metadata": {},
     "output_type": "execute_result"
    }
   ],
   "source": [
    "np.any([1,2,3]==[1,2])"
   ]
  },
  {
   "cell_type": "code",
   "execution_count": 14,
   "id": "533a9c2f-53ed-48a1-b0cd-83bca60ed617",
   "metadata": {},
   "outputs": [],
   "source": [
    "import numpy as np"
   ]
  },
  {
   "cell_type": "code",
   "execution_count": null,
   "id": "c60fc5f4-f249-44b9-a399-77aa64aca30c",
   "metadata": {},
   "outputs": [],
   "source": []
  }
 ],
 "metadata": {
  "kernelspec": {
   "display_name": "Python 3",
   "language": "python",
   "name": "python3"
  },
  "language_info": {
   "codemirror_mode": {
    "name": "ipython",
    "version": 3
   },
   "file_extension": ".py",
   "mimetype": "text/x-python",
   "name": "python",
   "nbconvert_exporter": "python",
   "pygments_lexer": "ipython3",
   "version": "3.9.4"
  }
 },
 "nbformat": 4,
 "nbformat_minor": 5
}
