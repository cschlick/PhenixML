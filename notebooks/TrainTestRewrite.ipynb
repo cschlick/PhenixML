{
 "cells": [
  {
   "cell_type": "code",
   "execution_count": 1,
   "id": "44402412-41a5-41f3-9542-31c2b84bbc96",
   "metadata": {},
   "outputs": [
    {
     "name": "stderr",
     "output_type": "stream",
     "text": [
      "Using backend: pytorch\n"
     ]
    }
   ],
   "source": [
    "from pathlib import Path\n",
    "from rdkit import Chem\n",
    "from iotbx.data_manager import DataManager\n",
    "import numpy as np\n",
    "import tqdm\n",
    "import torch\n",
    "import torch.nn as nn\n",
    "import dgl"
   ]
  },
  {
   "cell_type": "code",
   "execution_count": 2,
   "id": "36f73c5d-f523-4e8a-af70-fd17c51ca2ae",
   "metadata": {},
   "outputs": [],
   "source": [
    "import sys\n",
    "sys.path.append(\"../PhenixML/\")"
   ]
  },
  {
   "cell_type": "code",
   "execution_count": 3,
   "id": "09133243-613b-4948-8092-243d0ef10246",
   "metadata": {},
   "outputs": [
    {
     "name": "stdout",
     "output_type": "stream",
     "text": [
      "Total MOL2 files: 1000\n"
     ]
    }
   ],
   "source": [
    "# get molecules\n",
    "from pathlib import Path\n",
    "mol_dir = Path(\"/dev/shm/cschlick/geostd_passed\")\n",
    "#mol_dir = Path(\"/dev/shm/cschlick/csd_passed/\")\n",
    "mol_files = [file for file in mol_dir.glob(\"**/*\") if file.suffix == \".mol\"][:1000]\n",
    "print(\"Total MOL2 files:\",len(mol_files))\n"
   ]
  },
  {
   "cell_type": "code",
   "execution_count": 4,
   "id": "efafd0fa-ce33-4433-8b58-0a2396e0c61a",
   "metadata": {},
   "outputs": [],
   "source": [
    "from phenixml.fragments.fragments import ModelContainer, Fragment\n",
    "containers = [ModelContainer.from_file_name(file,removeHs=True) for file in mol_files]\n",
    "container = containers[0]"
   ]
  },
  {
   "cell_type": "code",
   "execution_count": 5,
   "id": "0732033a-7355-419f-a70b-edc1a441a80d",
   "metadata": {},
   "outputs": [],
   "source": [
    "frag_name = \"n3\"\n",
    "node_name = \"n1\"\n",
    "connect_name = \"neighbors\""
   ]
  },
  {
   "cell_type": "code",
   "execution_count": 6,
   "id": "beddc08b-f941-404a-9dfb-aef153dec434",
   "metadata": {},
   "outputs": [],
   "source": [
    "from phenixml.utils.rdkit_utils import enumerate_angles, enumerate_bonds, enumerate_torsions\n",
    "from phenixml.fragments.fragments import Fragment, ModelContainer\n",
    "import itertools\n",
    "\n",
    "\n",
    "class FragmenterBase:\n",
    "  \"\"\"\n",
    "  Base class to generate molecular fragments from a molecule container\n",
    "  \"\"\"\n",
    "  def __init__(self):\n",
    "    pass\n",
    "  \n",
    "  def __call__(self,obj):\n",
    "    return self.fragment(obj)\n",
    "  \n",
    "  def fragment(self,container):\n",
    "    raise NotImplementedError\n",
    "    \n",
    "    \n",
    "\n",
    "class BondFragmenter(FragmenterBase):\n",
    "  \"\"\"\n",
    "  Return the bonded pair fragments for a molecule\n",
    "  \"\"\"\n",
    "\n",
    "  def fragment(self,container):\n",
    "    assert isinstance(container,ModelContainer)\n",
    "    \n",
    "    \n",
    "    # rdkit\n",
    "    idxs = enumerate_bonds(container.rdkit_mol)\n",
    "    fragments = [Fragment(container,atom_selection=idx) for idx in idxs]\n",
    "    return fragments\n",
    "    \n",
    "class AngleFragmenter(FragmenterBase):\n",
    "  \"\"\"\n",
    "  Return the angle fragments for a molecule\n",
    "  \"\"\"\n",
    "  \n",
    "\n",
    "    \n",
    "  def fragment(self,container):\n",
    "    assert isinstance(container,ModelContainer)\n",
    "    \n",
    "    \n",
    "    # rdkit\n",
    "    angle_idxs = enumerate_angles(container.rdkit_mol)\n",
    "    fragments = [Fragment(container,atom_selection=angle_idx) for angle_idx in angle_idxs]\n",
    "    return fragments\n",
    "  \n",
    "  \n"
   ]
  },
  {
   "cell_type": "code",
   "execution_count": 7,
   "id": "a691196c-5721-445d-b0f8-fb0b4a2a71a9",
   "metadata": {},
   "outputs": [],
   "source": [
    "from rdkit import Chem\n",
    "from rdkit.Chem import rdMolTransforms\n",
    "\n",
    "class FragLabelerBase:\n",
    "  def __init__(self,name=\"label\"):\n",
    "    self.name = label\n",
    "  \n",
    "  def __call__(self,obj):\n",
    "    return self.label(obj)\n",
    "  \n",
    "  def label(self,obj):\n",
    "    raise NotImplementedError\n",
    "\n",
    "\n",
    "class AngleFragLabeler(FragLabelerBase):\n",
    "  \"\"\"\n",
    "  Return the angle of three atoms in a fragment.\n",
    "  \"\"\"\n",
    "  \n",
    "  def __init__(self,degrees=False,assert_bonded=True,name=\"angle\"):\n",
    "    self.degrees=degrees\n",
    "    self.assert_bonded = True\n",
    "    self.name = name\n",
    "    \n",
    "  def label(self,fragment):\n",
    "    \n",
    "    assert len(fragment)==3, \"Cannot calculate angle for fragment if not containing 3 atoms\"\n",
    "    \n",
    "    # rdkit\n",
    "    rdkit_mol = fragment.rdkit_mol\n",
    "    \n",
    "    # first make sure the middle atom is the middle of the selection. For now we don't try to fix.\n",
    "    idx0,idx1,idx2 = fragment.atom_selection\n",
    "    idx0,idx1,idx2 = int(idx0), int(idx1), int(idx2)\n",
    "\n",
    "    atom0,atom1,atom2 = rdkit_mol.GetAtomWithIdx(idx0), rdkit_mol.GetAtomWithIdx(idx1), rdkit_mol.GetAtomWithIdx(idx2)\n",
    "    nbrs = [nbr.GetIdx() for nbr in atom1.GetNeighbors()]\n",
    "    assert atom0.GetIdx() in nbrs and atom2.GetIdx() in nbrs, \"This angle fragment is malformed. Atom0 or Atom2 are not bonded to Atom 1\"\n",
    "    conf = rdkit_mol.GetConformer()\n",
    "    angle_rad = rdMolTransforms.GetAngleRad(conf,idx0,idx1,idx2)\n",
    "    if self.degrees:\n",
    "      angle = np.degrees(angle_rad)\n",
    "    else:\n",
    "      angle = angle_rad\n",
    "    return angle\n",
    "    "
   ]
  },
  {
   "cell_type": "code",
   "execution_count": 8,
   "id": "874f049a-af7e-42b9-a09e-038fe96cb3a5",
   "metadata": {},
   "outputs": [],
   "source": [
    "bond_fragmenter = BondFragmenter()\n",
    "angle_fragmenter = AngleFragmenter()\n",
    "angle_labeler = AngleFragLabeler()"
   ]
  },
  {
   "cell_type": "code",
   "execution_count": 9,
   "id": "f4870429-2958-4f9c-ad09-43ab5d49c00b",
   "metadata": {},
   "outputs": [],
   "source": [
    "fragments = angle_fragmenter(containers[0])\n",
    "fragment = fragments[0]"
   ]
  },
  {
   "cell_type": "code",
   "execution_count": 24,
   "id": "b9b73a4a-cf82-4732-b7ec-33075c478020",
   "metadata": {},
   "outputs": [],
   "source": [
    "from phenixml.fragments.fragments import ModelContainer, Fragment\n",
    "from phenixml.featurizers.atom_featurizers import RDKIT_Fingerprint\n",
    "from phenixml.graphs.graph_utils import build_fragment_heterograph, build_atom_graph_from_rdkit, get_indices_from_mol\n",
    "from rdkit.Chem import rdMolTransforms\n",
    "\n",
    "class MolGraph:\n",
    "  def __init__(self,model_container,\n",
    "               fragmenter=None,\n",
    "               edge_fragmenter = None,\n",
    "               fragment_labeler=None,\n",
    "               atom_featurizer=RDKIT_Fingerprint(),\n",
    "              frag_name = \"fragment\",\n",
    "              node_name = \"atom\",\n",
    "              connect_name = \"connects\",\n",
    "              label_ref_name = \"ref\"):\n",
    "    \n",
    "    \n",
    "    \n",
    "    self.model_container = model_container\n",
    "    self.fragmenter = fragmenter\n",
    "    self.atom_featurizer = atom_featurizer\n",
    "    \n",
    "    # use rdkit\n",
    "    self.atom_graph = build_atom_graph_from_rdkit(model_container.rdkit_mol,atom_featurizer=atom_featurizer)\n",
    "    \n",
    "#     # fragment\n",
    "#     connect_fragments = edge_fragmenter.fragment(model_container)\n",
    "#     fragments = fragmenter.fragment(model_container)\n",
    "    \n",
    "#     connect_idxs = np.array([fragment.atom_selection for fragment in connect_fragments])\n",
    "#     fragment_idxs = np.array([fragment.atom_selection for fragment in fragments])\n",
    "    \n",
    "#     self.heterograph = build_fragment_heterograph(atom_graph = self.atom_graph,\n",
    "#                                                   connect_idxs=connect_idxs,\n",
    "#                                                   frag_idxs=fragment_idxs,\n",
    "#                                                   frag_name = frag_name,\n",
    "#                                                   node_name = node_name,\n",
    "#                                                   connect_name = connect_name)\n",
    "    \n",
    "    \n",
    "    \n",
    "#     labels = [fragment_labeler(fragment) for fragment in fragments]\n",
    "#     labels = np.array(labels)[:,np.newaxis]\n",
    "#     self.heterograph.nodes[frag_name].data[label_ref_name] = torch.tensor(labels,dtype=torch.get_default_dtype())\n",
    "\n",
    "    rdkit_mol = container.rdkit_mol\n",
    "    idxs = get_indices_from_mol(rdkit_mol)\n",
    "    self.heterograph = build_fragment_heterograph(atom_graph = self.atom_graph,\n",
    "                                            atom_idxs = idxs[\"n1\"],\n",
    "                                            connect_idxs=idxs[\"n2\"],\n",
    "                                            frag_idxs=idxs[\"n3\"],\n",
    "                                            frag_name = frag_name,\n",
    "                                            node_name = node_name,\n",
    "                                            connect_name = connect_name)\n",
    "\n",
    "\n",
    "    conf = rdkit_mol.GetConformer()\n",
    "    angles_rad = []\n",
    "    for idx1,idx2,idx3 in idxs[\"n3\"]:\n",
    "      angle_rad = Chem.rdMolTransforms.GetAngleRad(conf,int(idx1),int(idx2),int(idx3))\n",
    "      angles_rad.append(angle_rad)\n",
    "    angles_rad = np.array(angles_rad)[:,np.newaxis]\n",
    "    self.heterograph.nodes[frag_name].data[\"ref\"] = torch.tensor(angles_rad,dtype=torch.get_default_dtype())\n",
    "    \n",
    "  @property\n",
    "  def rdkit_mol(self):\n",
    "    return self.model_container.rdkit_mol"
   ]
  },
  {
   "cell_type": "code",
   "execution_count": 25,
   "id": "e88d95d7-596a-46e0-9c8a-2dcde919c154",
   "metadata": {},
   "outputs": [
    {
     "data": {
      "text/plain": [
       "Graph(num_nodes={'n1': 17, 'n3': 50},\n",
       "      num_edges={('n1', 'n1_as_0_in_n3', 'n3'): 50, ('n1', 'n1_as_1_in_n3', 'n3'): 50, ('n1', 'n1_as_2_in_n3', 'n3'): 50, ('n1', 'n1_neighbors_n1', 'n1'): 34},\n",
       "      metagraph=[('n1', 'n3', 'n1_as_0_in_n3'), ('n1', 'n3', 'n1_as_1_in_n3'), ('n1', 'n3', 'n1_as_2_in_n3'), ('n1', 'n1', 'n1_neighbors_n1')])"
      ]
     },
     "execution_count": 25,
     "metadata": {},
     "output_type": "execute_result"
    }
   ],
   "source": [
    "container = containers[0]\n",
    "molgraph = MolGraph(container,\n",
    "                    fragmenter=angle_fragmenter,\n",
    "                    edge_fragmenter=bond_fragmenter,\n",
    "                    fragment_labeler=angle_labeler,\n",
    "                    frag_name = frag_name,\n",
    "                    node_name = node_name,\n",
    "                    connect_name = connect_name)\n",
    "molgraph.heterograph"
   ]
  },
  {
   "cell_type": "code",
   "execution_count": 26,
   "id": "d86e7fc4-9d8a-48f7-901c-38d59ff786b7",
   "metadata": {},
   "outputs": [
    {
     "data": {
      "text/plain": [
       "Graph(num_nodes={'atom': 17, 'fragment': 50},\n",
       "      num_edges={('atom', 'atom_as_0_in_fragment', 'fragment'): 50, ('atom', 'atom_as_1_in_fragment', 'fragment'): 50, ('atom', 'atom_as_2_in_fragment', 'fragment'): 50, ('atom', 'atom_connects_atom', 'atom'): 34},\n",
       "      metagraph=[('atom', 'fragment', 'atom_as_0_in_fragment'), ('atom', 'fragment', 'atom_as_1_in_fragment'), ('atom', 'fragment', 'atom_as_2_in_fragment'), ('atom', 'atom', 'atom_connects_atom')])"
      ]
     },
     "execution_count": 26,
     "metadata": {},
     "output_type": "execute_result"
    }
   ],
   "source": [
    "MolGraph(container,fragmenter=angle_fragmenter,edge_fragmenter=bond_fragmenter,fragment_labeler=angle_labeler).heterograph"
   ]
  },
  {
   "cell_type": "code",
   "execution_count": 27,
   "id": "9ffaed40-3fc9-4363-b566-55868a543e8e",
   "metadata": {},
   "outputs": [
    {
     "data": {
      "text/plain": [
       "Graph(num_nodes={'n1': 23836, 'n3': 71394},\n",
       "      num_edges={('n1', 'n1_as_0_in_n3', 'n3'): 71394, ('n1', 'n1_as_1_in_n3', 'n3'): 71394, ('n1', 'n1_as_2_in_n3', 'n3'): 71394, ('n1', 'n1_neighbors_n1', 'n1'): 51004},\n",
       "      metagraph=[('n1', 'n3', 'n1_as_0_in_n3'), ('n1', 'n3', 'n1_as_1_in_n3'), ('n1', 'n3', 'n1_as_2_in_n3'), ('n1', 'n1', 'n1_neighbors_n1')])"
      ]
     },
     "execution_count": 27,
     "metadata": {},
     "output_type": "execute_result"
    }
   ],
   "source": [
    "batch"
   ]
  },
  {
   "cell_type": "code",
   "execution_count": 28,
   "id": "7149e5a5-b1d9-4cde-8852-68a807c6bf07",
   "metadata": {},
   "outputs": [
    {
     "name": "stderr",
     "output_type": "stream",
     "text": [
      "100%|███████████████████████████████████████| 1000/1000 [00:12<00:00, 78.13it/s]\n"
     ]
    }
   ],
   "source": [
    "molgraphs = []\n",
    "for container in tqdm.tqdm(containers):\n",
    "  try:\n",
    "    molgraph = MolGraph(container,\n",
    "                    fragmenter=angle_fragmenter,\n",
    "                    edge_fragmenter=bond_fragmenter,\n",
    "                    fragment_labeler=angle_labeler,\n",
    "                    frag_name = frag_name,\n",
    "                    node_name = node_name,\n",
    "                    connect_name = connect_name)\n",
    "    molgraphs.append(molgraph)\n",
    "  except:\n",
    "    pass"
   ]
  },
  {
   "cell_type": "code",
   "execution_count": 29,
   "id": "20d64d4d-db86-4ed2-a146-1a6bfeee4985",
   "metadata": {},
   "outputs": [],
   "source": [
    "batch = dgl.batch([molgraph.heterograph for molgraph in molgraphs])"
   ]
  },
  {
   "cell_type": "code",
   "execution_count": 30,
   "id": "81eae619-2b04-48b2-81b4-e809c1e53fe9",
   "metadata": {},
   "outputs": [
    {
     "data": {
      "text/plain": [
       "Graph(num_nodes={'n1': 23836, 'n3': 71394},\n",
       "      num_edges={('n1', 'n1_as_0_in_n3', 'n3'): 71394, ('n1', 'n1_as_1_in_n3', 'n3'): 71394, ('n1', 'n1_as_2_in_n3', 'n3'): 71394, ('n1', 'n1_neighbors_n1', 'n1'): 51004},\n",
       "      metagraph=[('n1', 'n3', 'n1_as_0_in_n3'), ('n1', 'n3', 'n1_as_1_in_n3'), ('n1', 'n3', 'n1_as_2_in_n3'), ('n1', 'n1', 'n1_neighbors_n1')])"
      ]
     },
     "execution_count": 30,
     "metadata": {},
     "output_type": "execute_result"
    }
   ],
   "source": [
    "batch"
   ]
  },
  {
   "cell_type": "code",
   "execution_count": 31,
   "id": "eb28c54c-7268-4fa7-b0b7-dfee0c92175b",
   "metadata": {},
   "outputs": [],
   "source": [
    "# model\n",
    "\n",
    "#mine\n",
    "from phenixml.models.message_passing import MessagePassing\n",
    "from phenixml.models.readout import JanossyReadout\n",
    "\n",
    "\n",
    "n_units = 128\n",
    "n_layers = 3\n",
    "fragment_size = 3\n",
    "feature_units = molgraphs[0].heterograph.nodes[node_name].data[\"h0\"].shape[1]\n",
    "\n",
    "config = []\n",
    "for n_layer in range(n_layers):\n",
    "  config+=[n_units,\"relu\"]\n",
    "  \n",
    "  \n",
    "sc = lambda in_feats,out_feats: dgl.nn.pytorch.conv.sageconv.SAGEConv(in_feats,out_feats,\"mean\",bias=True) # dgl saveconv layer\n",
    "\n",
    "message_passing = MessagePassing(\n",
    "    feature_units=feature_units,\n",
    "    layer=sc, # use SAGEConv implementation in DGL\n",
    "    #layer=esp.nn.dgl_legacy.gn(\"SAGEConv\"),\n",
    "    config=config,\n",
    "    atom_node_name = node_name,\n",
    "    fragment_name = frag_name,\n",
    "    connect_name = connect_name,\n",
    ") \n",
    "\n",
    "n_units = 128\n",
    "n_layers = 2\n",
    "config = []\n",
    "for n_layer in range(n_layers):\n",
    "  config+=[n_units,\"relu\"]\n",
    "  \n",
    "readout = JanossyReadout(\n",
    "    in_features=n_units, config=config,\n",
    "    out_features={\"eq\":1},\n",
    "    atom_node_name = node_name,\n",
    "    fragment_name = frag_name,\n",
    "    fragment_size = 3\n",
    ")\n",
    "\n",
    "model = nn.Sequential(message_passing,readout)\n",
    "opt = torch.optim.Adam(model.parameters(),lr=1e-4)\n",
    "\n",
    "\n",
    "# esp\n",
    "# from molgraph.esp_fragments.sequential import EspSequential\n",
    "# from molgraph.esp_fragments.pooling import EspJanossyPooling\n",
    "\n",
    "\n",
    "# n_units = 128\n",
    "# n_layers = 3\n",
    "# config = []\n",
    "# for n_layer in range(n_layers):\n",
    "#   config+=[n_units,\"relu\"]\n",
    "  \n",
    "  \n",
    "# sc = lambda in_feats,out_feats: dgl.nn.pytorch.conv.sageconv.SAGEConv(in_feats,out_feats,\"mean\",bias=True) # dgl saveconv layer\n",
    "\n",
    "# message_passing = EspSequential(\n",
    "#     feature_units=batch.nodes[node_name].data[\"h0\"].shape[1],\n",
    "#     layer=sc, # use SAGEConv implementation in DGL\n",
    "#     #layer=esp.nn.dgl_legacy.gn(\"SAGEConv\"),\n",
    "#     config=config,\n",
    "# )  \n",
    "\n",
    "# n_units = 128\n",
    "# n_layers = 2\n",
    "# config = []\n",
    "# for n_layer in range(n_layers):\n",
    "#   config+=[n_units,\"relu\"]\n",
    "  \n",
    "# readout = EspJanossyPooling(\n",
    "#     in_features=n_units, config=config,\n",
    "#     out_features={              \n",
    "#         #1: {\"xyz\": 3},\n",
    "#          3: {\"eq\":1}\n",
    "#         #3: {\"eq\": 1},\n",
    "#         #4: {\"cmplx\": 2},\n",
    "#         #4: {\"tor\": 1},\n",
    "#         },\n",
    "# )\n",
    "\n",
    "# model = nn.Sequential(message_passing,readout)\n",
    "# opt = torch.optim.Adam(model.parameters(),lr=1e-4)"
   ]
  },
  {
   "cell_type": "code",
   "execution_count": 32,
   "id": "7ecd06dc-1a73-4994-a073-6b79df581e1a",
   "metadata": {},
   "outputs": [
    {
     "data": {
      "text/plain": [
       "Graph(num_nodes={'n1': 23836, 'n3': 71394},\n",
       "      num_edges={('n1', 'n1_as_0_in_n3', 'n3'): 71394, ('n1', 'n1_as_1_in_n3', 'n3'): 71394, ('n1', 'n1_as_2_in_n3', 'n3'): 71394, ('n1', 'n1_neighbors_n1', 'n1'): 51004},\n",
       "      metagraph=[('n1', 'n3', 'n1_as_0_in_n3'), ('n1', 'n3', 'n1_as_1_in_n3'), ('n1', 'n3', 'n1_as_2_in_n3'), ('n1', 'n1', 'n1_neighbors_n1')])"
      ]
     },
     "execution_count": 32,
     "metadata": {},
     "output_type": "execute_result"
    }
   ],
   "source": [
    "message_passing(batch)\n",
    "readout(batch)"
   ]
  },
  {
   "cell_type": "code",
   "execution_count": 33,
   "id": "fbce0620-0416-4033-9709-dd2fa4cc7cbd",
   "metadata": {},
   "outputs": [],
   "source": [
    "def loss_fn(g):\n",
    "  # a heterograph\n",
    "  metric = torch.nn.MSELoss()\n",
    "  loss = metric(g.nodes[frag_name].data[\"eq\"],g.nodes[frag_name].data[\"ref\"])\n",
    "  return loss"
   ]
  },
  {
   "cell_type": "code",
   "execution_count": null,
   "id": "97d62bc7-f87c-4d61-95ae-4fc5e7194aae",
   "metadata": {},
   "outputs": [],
   "source": []
  },
  {
   "cell_type": "code",
   "execution_count": 34,
   "id": "9ff1ed44-67ec-443a-a2ff-7cddabb0290a",
   "metadata": {},
   "outputs": [],
   "source": [
    "batch = batch.to(\"cuda:1\")\n",
    "model = model.to(\"cuda:1\")\n"
   ]
  },
  {
   "cell_type": "code",
   "execution_count": 35,
   "id": "55619237-058a-4a1d-8d9b-0e37940b7f7d",
   "metadata": {},
   "outputs": [
    {
     "name": "stderr",
     "output_type": "stream",
     "text": [
      "100%|███████████████████████████████████████| 1000/1000 [00:41<00:00, 24.00it/s]\n"
     ]
    }
   ],
   "source": [
    "epoch_losses = []\n",
    "n_epoch=1000\n",
    "avg_loss = \"inf\"\n",
    "\n",
    "for epoch in tqdm.tqdm(range(n_epoch)):\n",
    "    \n",
    "  g = model(batch)\n",
    "  loss = loss_fn(g)\n",
    "  opt.zero_grad()\n",
    "  loss.backward()\n",
    "  opt.step()\n",
    "  \n",
    "  epoch_losses.append(loss.item())\n",
    "  \n"
   ]
  },
  {
   "cell_type": "code",
   "execution_count": 37,
   "id": "3cdf5f3f-31a9-4c8a-a545-bfe1e77f2dd6",
   "metadata": {},
   "outputs": [
    {
     "data": {
      "text/plain": [
       "[<matplotlib.lines.Line2D at 0x7f5e643ca100>]"
      ]
     },
     "execution_count": 37,
     "metadata": {},
     "output_type": "execute_result"
    },
    {
     "data": {
      "image/png": "[encoded data removed]",
      "text/plain": [
       "<Figure size 432x288 with 1 Axes>"
      ]
     },
     "metadata": {
      "needs_background": "light"
     },
     "output_type": "display_data"
    }
   ],
   "source": [
    "%matplotlib inline\n",
    "import matplotlib.pyplot as plt\n",
    "\n",
    "def to_np(tensor):\n",
    "  return tensor.detach().cpu().numpy()\n",
    "\n",
    "plt.plot(epoch_losses)\n",
    "#plt.plot(loss_history_n3[10:])"
   ]
  },
  {
   "cell_type": "code",
   "execution_count": 38,
   "id": "74fac5a4-9d95-495e-8621-ad28ab5b6994",
   "metadata": {},
   "outputs": [],
   "source": [
    "import pandas as pd\n",
    "import seaborn as sns\n",
    "\n",
    "\n",
    "\n",
    "def plot_geom_eval(a,b,mode=\"bond\",s=0.01):\n",
    "  \n",
    "\n",
    "    \n",
    "  fig, axs = plt.subplots(1,2,figsize=(16,5))\n",
    "  axs = axs.flatten()\n",
    "  \n",
    "  # scatter plot\n",
    "  ax = axs[0]\n",
    "  ax.scatter(a,b,s=s)\n",
    "  #sns.kdeplot(a,b,fill=True)\n",
    "  if mode == \"bond\":\n",
    "    ax.set_xlim(1,1.8)\n",
    "    ax.set_ylim(1,1.8)\n",
    "  elif mode == \"angle\":\n",
    "    ax.set_xlim(50,140)\n",
    "    ax.set_ylim(50,140)\n",
    "  ax.plot([0,200],[0,200],color=\"black\")\n",
    "  ax.set_xlabel(\"Experimental\",fontsize=14)\n",
    "  \n",
    "  # historgram\n",
    "  ax = axs[1]\n",
    "  sns.histplot(a-b,ax=ax,kde=True,stat=\"density\")\n",
    "  if mode == \"bond\":\n",
    "    ax.set_xlim(-3,3)\n",
    "  elif mode == \"angle\":\n",
    "    ax.set_xlim(-20,20)\n"
   ]
  },
  {
   "cell_type": "code",
   "execution_count": 39,
   "id": "3b3361c1-11eb-4423-8d8d-849d3ed20508",
   "metadata": {},
   "outputs": [],
   "source": [
    "a,b = g.nodes[frag_name].data[\"eq\"],g.nodes[frag_name].data[\"ref\"]\n",
    "a,b = to_np(a).flatten(),to_np(b).flatten()\n",
    "a,b = np.degrees(a), np.degrees(b)\n",
    "#a,b = to_np(a).flatten(),to_np(b).flatten()"
   ]
  },
  {
   "cell_type": "code",
   "execution_count": 40,
   "id": "e1b40caf-3d92-4967-95e3-e887e4462e71",
   "metadata": {},
   "outputs": [
    {
     "data": {
      "image/png": "[encoded data removed]",
      "text/plain": [
       "<Figure size 1152x360 with 2 Axes>"
      ]
     },
     "metadata": {
      "needs_background": "light"
     },
     "output_type": "display_data"
    }
   ],
   "source": [
    "plot_geom_eval(a,b,s=0.005,mode=\"angle\")"
   ]
  },
  {
   "cell_type": "code",
   "execution_count": null,
   "id": "842315c3-1cc1-4971-bd5b-aeae184e774d",
   "metadata": {},
   "outputs": [],
   "source": []
  },
  {
   "cell_type": "code",
   "execution_count": 30,
   "id": "5c8a2650-261c-4b19-9c7b-51a0532946be",
   "metadata": {},
   "outputs": [
    {
     "data": {
      "image/png": "[encoded data removed]",
      "text/plain": [
       "<Figure size 432x288 with 1 Axes>"
      ]
     },
     "metadata": {
      "needs_background": "light"
     },
     "output_type": "display_data"
    }
   ],
   "source": [
    "a,b = g.nodes[\"fragment\"].data[\"pred\"],g.nodes[\"fragment\"].data[\"ref\"]\n",
    "plot_geom_eval(a,b,s=0.001)"
   ]
  },
  {
   "cell_type": "code",
   "execution_count": 43,
   "id": "99b68597-5193-49a3-8f91-f63a7f199bb0",
   "metadata": {},
   "outputs": [
    {
     "data": {
      "text/plain": [
       "['atom_as_0_in_fragment',\n",
       " 'atom_as_1_in_fragment',\n",
       " 'atom_as_2_in_fragment',\n",
       " 'atom_connects_atom']"
      ]
     },
     "execution_count": 43,
     "metadata": {},
     "output_type": "execute_result"
    }
   ],
   "source": [
    "batch.etypes"
   ]
  },
  {
   "cell_type": "code",
   "execution_count": 44,
   "id": "50c005d8-fcee-453c-9dfa-2d540928b842",
   "metadata": {},
   "outputs": [
    {
     "data": {
      "text/plain": [
       "dict_keys(['idxs', 'ref', 'h0', 'h1', 'h2', 'pred'])"
      ]
     },
     "execution_count": 44,
     "metadata": {},
     "output_type": "execute_result"
    }
   ],
   "source": [
    "batch.nodes[\"fragment\"].data.keys()"
   ]
  },
  {
   "cell_type": "code",
   "execution_count": null,
   "id": "5ddcb387-ff2d-4701-b141-42ca001e95a4",
   "metadata": {},
   "outputs": [],
   "source": []
  }
 ],
 "metadata": {
  "kernelspec": {
   "display_name": "Python 3 (ipykernel)",
   "language": "python",
   "name": "python3"
  },
  "language_info": {
   "codemirror_mode": {
    "name": "ipython",
    "version": 3
   },
   "file_extension": ".py",
   "mimetype": "text/x-python",
   "name": "python",
   "nbconvert_exporter": "python",
   "pygments_lexer": "ipython3",
   "version": "3.9.7"
  }
 },
 "nbformat": 4,
 "nbformat_minor": 5
}
