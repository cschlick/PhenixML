{
 "cells": [
  {
   "cell_type": "code",
   "execution_count": 1,
   "id": "looking-smith",
   "metadata": {},
   "outputs": [],
   "source": [
    "import sys\n",
    "sys.path.append(\"../../\")\n",
    "from multiprocessing import Pool\n",
    "import tqdm\n",
    "import pickle\n",
    "from pathlib import Path\n",
    "from contextlib import closing\n",
    "from rdkit import Chem\n",
    "import numpy as np\n",
    "import pandas as pd"
   ]
  },
  {
   "cell_type": "markdown",
   "id": "outside-banana",
   "metadata": {},
   "source": [
    "# Load fragmentation results"
   ]
  },
  {
   "cell_type": "code",
   "execution_count": 2,
   "id": "superior-kingston",
   "metadata": {},
   "outputs": [
    {
     "name": "stdout",
     "output_type": "stream",
     "text": [
      "CPU times: user 23.1 s, sys: 3.4 s, total: 26.5 s\n",
      "Wall time: 26.6 s\n"
     ]
    }
   ],
   "source": [
    "%%time\n",
    "fragments_path = Path(\"/net/cci/cschlick/Filtered_COD3/fragmentation_results.pkl\")\n",
    "with fragments_path.open(\"rb\") as fh:\n",
    "  fragmentation_results = pickle.load(fh)"
   ]
  },
  {
   "cell_type": "code",
   "execution_count": 3,
   "id": "lovely-blink",
   "metadata": {},
   "outputs": [],
   "source": [
    "fragmentation_results_dict = {}\n",
    "for result in fragmentation_results:\n",
    "  fragmentation_results_dict[result[\"filepath\"].stem]=result"
   ]
  },
  {
   "cell_type": "markdown",
   "id": "following-roulette",
   "metadata": {},
   "source": [
    "## Featurize fragments"
   ]
  },
  {
   "cell_type": "code",
   "execution_count": 4,
   "id": "central-constitutional",
   "metadata": {},
   "outputs": [],
   "source": [
    "from phenixml.featurizers.ani_featurizer import ANIFeaturizer"
   ]
  },
  {
   "cell_type": "code",
   "execution_count": 5,
   "id": "declared-matthew",
   "metadata": {},
   "outputs": [],
   "source": [
    "# elements and parameters\n",
    "covalent_organic = [\"O\",\"C\",\"H\",\"N\",\"P\",\"S\",\"Cl\",\"B\",\"F\",\"I\",\"Br\"]\n",
    "metals = [\"Na\",\"K\",\"Ca\",\"Fe\",\"Mn\",\"Zn\",\"Mg\",\"Cu\",\"Co\"]\n",
    "\n",
    "params = {'radial_cutoff': 4.6,\n",
    " 'radial_nu': 32,\n",
    " 'radial_probes': [0.7,\n",
    "                  1.4,\n",
    "                  1.9,\n",
    "                  2.4,\n",
    "                  3.2,\n",
    "                  3.8,\n",
    "                  4.4],\n",
    " 'angular_cutoff': 3.1,\n",
    " 'angular_nu': 4,\n",
    " 'angular_probes': [0.0, 1.57, 3.14, 4.71],\n",
    " 'angular_radial_probes': [0.7,1.4,1.9,2.4],\n",
    " 'angular_zeta': 8,\n",
    " 'min_probed_value': 0.0,\n",
    " 'exclude_hydrogens': False,\n",
    " 'elements_considered': covalent_organic}"
   ]
  },
  {
   "cell_type": "code",
   "execution_count": 6,
   "id": "willing-mistake",
   "metadata": {},
   "outputs": [],
   "source": [
    "mode = \"bond\"\n",
    "if mode == \"angle\":\n",
    "  fragment_key = \"angle_fragments\"\n",
    "elif mode == \"bond\":\n",
    "  fragment_key = \"bond_fragments\"\n",
    "\n",
    "def worker(cod_id):\n",
    "  frags = fragmentation_results_dict[cod_id][fragment_key]\n",
    "  featurizer = ANIFeaturizer.from_bond_angle_frags(frags,params)\n",
    "  \n",
    "  if featurizer is None:\n",
    "    return (cod_id,None)\n",
    "  else:\n",
    "    return (cod_id,featurizer.featurize())\n",
    "\n"
   ]
  },
  {
   "cell_type": "code",
   "execution_count": null,
   "id": "nervous-oasis",
   "metadata": {},
   "outputs": [],
   "source": []
  },
  {
   "cell_type": "code",
   "execution_count": 7,
   "id": "religious-aluminum",
   "metadata": {},
   "outputs": [
    {
     "name": "stderr",
     "output_type": "stream",
     "text": [
      "100%|██████████| 63018/63018 [03:22<00:00, 311.75it/s]\n"
     ]
    }
   ],
   "source": [
    "work = fragmentation_results_dict.keys()\n",
    "with closing(Pool(processes=32)) as pool:\n",
    "  results = []\n",
    "  for result in tqdm.tqdm(pool.imap_unordered(worker, work), total=len(work)):\n",
    "      results.append(result)\n",
    "  pool.terminate()"
   ]
  },
  {
   "cell_type": "code",
   "execution_count": 8,
   "id": "automotive-insured",
   "metadata": {},
   "outputs": [],
   "source": [
    "X = []\n",
    "y = []\n",
    "frags = []\n",
    "\n",
    "for cod_id,features in results:\n",
    "  if features is not None:\n",
    "    frgs = fragmentation_results_dict[cod_id][fragment_key]\n",
    "    frags+=frgs\n",
    "    X.append(features)\n",
    "    if mode == 'bond':\n",
    "      y+=[frag.properties[\"bond_length\"] for frag in frgs]\n",
    "    elif mode == \"angle\":\n",
    "      y+=[frag.properties[\"angle_deg\"] for frag in frgs]"
   ]
  },
  {
   "cell_type": "code",
   "execution_count": 9,
   "id": "composite-endorsement",
   "metadata": {},
   "outputs": [],
   "source": [
    "X = np.vstack(X)\n",
    "y = np.array(y)\n",
    "assert(X.shape[0]==len(y))"
   ]
  },
  {
   "cell_type": "code",
   "execution_count": 10,
   "id": "valued-nickname",
   "metadata": {},
   "outputs": [],
   "source": [
    "from sklearn.ensemble import RandomForestRegressor\n"
   ]
  },
  {
   "cell_type": "code",
   "execution_count": 11,
   "id": "dedicated-blues",
   "metadata": {},
   "outputs": [],
   "source": [
    "from sklearn.model_selection import train_test_split\n",
    "space = np.arange(X.shape[0])\n",
    "train, test = train_test_split(space,test_size=0.2)\n",
    "frags_train, frags_test = [frags[i] for i in train], [frags[i] for i in test]\n",
    "\n",
    "  \n",
    "X_train, X_test = X[train],X[test]\n",
    "y_train, y_test = y[train],y[test]"
   ]
  },
  {
   "cell_type": "code",
   "execution_count": 12,
   "id": "blessed-mustang",
   "metadata": {},
   "outputs": [],
   "source": [
    "import joblib\n",
    "import os"
   ]
  },
  {
   "cell_type": "code",
   "execution_count": null,
   "id": "minus-synthesis",
   "metadata": {},
   "outputs": [],
   "source": [
    "import umap"
   ]
  },
  {
   "cell_type": "code",
   "execution_count": null,
   "id": "junior-payday",
   "metadata": {},
   "outputs": [],
   "source": []
  },
  {
   "cell_type": "code",
   "execution_count": 14,
   "id": "mediterranean-script",
   "metadata": {},
   "outputs": [
    {
     "name": "stdout",
     "output_type": "stream",
     "text": [
      "CPU times: user 4d 12h 54min 50s, sys: 1h 47min 38s, total: 4d 14h 42min 29s\n",
      "Wall time: 1h 32min 22s\n"
     ]
    }
   ],
   "source": [
    "%%time\n",
    "min_samples_leaf_grid = [10,20,40,80]\n",
    "models = []\n",
    "for msl in min_samples_leaf_grid:\n",
    "  model = RandomForestRegressor(n_estimators=100,min_samples_leaf=msl, random_state=0,n_jobs=-1)\n",
    "  models.append(model)\n",
    "for model in models:\n",
    "  model.fit(X_train,y_train)"
   ]
  },
  {
   "cell_type": "code",
   "execution_count": 15,
   "id": "approximate-locator",
   "metadata": {},
   "outputs": [],
   "source": [
    "sizes = []\n",
    "for i,model in enumerate(models):\n",
    "\n",
    "  writepath = \"/dev/shm/cschlick/models/rfmodel_ani_\"+mode+\"_msl\"+str(min_samples_leaf_grid[i])+\".joblib\"\n",
    "  joblib.dump(model, writepath, compress=3)  \n",
    "  size_mb = np.round(os.path.getsize(writepath) / 1024 / 1024, 2)\n",
    "  sizes.append(size_mb)"
   ]
  },
  {
   "cell_type": "code",
   "execution_count": 16,
   "id": "dietary-capitol",
   "metadata": {},
   "outputs": [
    {
     "name": "stdout",
     "output_type": "stream",
     "text": [
      "[258.38, 133.4, 69.48, 36.39]\n"
     ]
    }
   ],
   "source": [
    "print(sizes)"
   ]
  },
  {
   "cell_type": "code",
   "execution_count": 17,
   "id": "pressed-quality",
   "metadata": {},
   "outputs": [],
   "source": [
    "model = models[0]"
   ]
  },
  {
   "cell_type": "code",
   "execution_count": 18,
   "id": "polyphonic-cigarette",
   "metadata": {},
   "outputs": [
    {
     "name": "stdout",
     "output_type": "stream",
     "text": [
      "CPU times: user 38.4 s, sys: 1.16 s, total: 39.5 s\n",
      "Wall time: 4.27 s\n"
     ]
    }
   ],
   "source": [
    "%%time\n",
    "y_pred = model.predict(X_test)"
   ]
  },
  {
   "cell_type": "code",
   "execution_count": 19,
   "id": "helpful-carter",
   "metadata": {},
   "outputs": [
    {
     "data": {
      "text/plain": [
       "Text(0, 0.5, 'Predicted')"
      ]
     },
     "execution_count": 19,
     "metadata": {},
     "output_type": "execute_result"
    },
    {
     "data": {
      "image/png": "[encoded data removed]",
      "text/plain": [
       "<Figure size 432x288 with 1 Axes>"
      ]
     },
     "metadata": {
      "needs_background": "light"
     },
     "output_type": "display_data"
    }
   ],
   "source": [
    "df = pd.DataFrame({\"dists\":y_test.flatten(),\"pred\":y_pred.flatten()})\n",
    "ax = df.plot.scatter(\"dists\",\"pred\",s=0.25)\n",
    "if mode == \"bond\":\n",
    "  ax.set_xlim(1,1.8)\n",
    "  ax.set_ylim(1,1.8)\n",
    "elif mode == \"angle\":\n",
    "  ax.set_xlim(50,140)\n",
    "  ax.set_ylim(50,140)\n",
    "ax.plot([0,200],[0,200],color=\"black\")\n",
    "ax.set_xlabel(\"Experimental\",fontsize=14)\n",
    "ax.set_ylabel(\"Predicted\",fontsize=14)"
   ]
  },
  {
   "cell_type": "code",
   "execution_count": null,
   "id": "every-diana",
   "metadata": {},
   "outputs": [],
   "source": [
    "from sklearn.metrics import mean_squared_error\n",
    "import seaborn as sns\n",
    "residuals = y_test-y_pred\n",
    "sns.histplot(residuals)"
   ]
  },
  {
   "cell_type": "code",
   "execution_count": null,
   "id": "senior-correction",
   "metadata": {},
   "outputs": [],
   "source": [
    "rmse = np.sqrt(mean_squared_error(y_test,y_pred))\n",
    "print(\"RMSE:\",rmse)"
   ]
  },
  {
   "cell_type": "markdown",
   "id": "greek-arctic",
   "metadata": {},
   "source": [
    "## Predict some single molecules"
   ]
  },
  {
   "cell_type": "code",
   "execution_count": null,
   "id": "entertaining-stewart",
   "metadata": {},
   "outputs": [],
   "source": []
  },
  {
   "cell_type": "code",
   "execution_count": null,
   "id": "billion-peace",
   "metadata": {},
   "outputs": [],
   "source": []
  }
 ],
 "metadata": {
  "kernelspec": {
   "display_name": "Python 3",
   "language": "python",
   "name": "python3"
  },
  "language_info": {
   "codemirror_mode": {
    "name": "ipython",
    "version": 3
   },
   "file_extension": ".py",
   "mimetype": "text/x-python",
   "name": "python",
   "nbconvert_exporter": "python",
   "pygments_lexer": "ipython3",
   "version": "3.8.6"
  }
 },
 "nbformat": 4,
 "nbformat_minor": 5
}
