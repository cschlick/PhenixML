{
 "cells": [
  {
   "cell_type": "code",
   "execution_count": 1,
   "id": "loving-reality",
   "metadata": {},
   "outputs": [],
   "source": [
    "import sys\n",
    "sys.path.append(\"../../\")\n",
    "from multiprocessing import Pool\n",
    "import tqdm\n",
    "import pickle\n",
    "from pathlib import Path\n",
    "from contextlib import closing\n",
    "from rdkit import Chem\n",
    "import numpy as np\n",
    "import pandas as pd"
   ]
  },
  {
   "cell_type": "markdown",
   "id": "bacterial-strength",
   "metadata": {},
   "source": [
    "# Load fragmentation results"
   ]
  },
  {
   "cell_type": "code",
   "execution_count": 2,
   "id": "olympic-istanbul",
   "metadata": {},
   "outputs": [
    {
     "name": "stdout",
     "output_type": "stream",
     "text": [
      "CPU times: user 31.7 s, sys: 5.57 s, total: 37.2 s\n",
      "Wall time: 37.3 s\n"
     ]
    }
   ],
   "source": [
    "%%time\n",
    "fragments_path = Path(\"/net/cci/cschlick/Filtered_COD3/fragmentation_results.pkl\")\n",
    "with fragments_path.open(\"rb\") as fh:\n",
    "  fragmentation_results = pickle.load(fh)"
   ]
  },
  {
   "cell_type": "code",
   "execution_count": 3,
   "id": "metropolitan-ancient",
   "metadata": {},
   "outputs": [],
   "source": [
    "fragmentation_results_dict = {}\n",
    "for result in fragmentation_results:\n",
    "  fragmentation_results_dict[result[\"filepath\"].stem]=result"
   ]
  },
  {
   "cell_type": "markdown",
   "id": "crazy-budget",
   "metadata": {},
   "source": [
    "## Featurize fragments"
   ]
  },
  {
   "cell_type": "code",
   "execution_count": 4,
   "id": "associate-clear",
   "metadata": {},
   "outputs": [],
   "source": [
    "from phenixml.featurizers.fingerprints import MorganFeaturizer"
   ]
  },
  {
   "cell_type": "code",
   "execution_count": 5,
   "id": "suspected-murray",
   "metadata": {},
   "outputs": [],
   "source": [
    "mode = \"bond\"\n",
    "if mode == \"angle\":\n",
    "  fragment_key = \"angle_fragments\"\n",
    "elif mode == \"bond\":\n",
    "  fragment_key = \"bond_fragments\"\n",
    "\n",
    "def worker(cod_id):\n",
    "  frags = fragmentation_results_dict[cod_id][fragment_key]\n",
    "  featurizer = MorganFeaturizer(radius=2,nBits=1024)\n",
    "  features = [featurizer.featurize(frag) for frag in frags]\n",
    "  return (cod_id,features)\n",
    "\n"
   ]
  },
  {
   "cell_type": "code",
   "execution_count": 6,
   "id": "present-garage",
   "metadata": {},
   "outputs": [
    {
     "name": "stderr",
     "output_type": "stream",
     "text": [
      "100%|██████████| 63018/63018 [01:54<00:00, 550.04it/s]\n"
     ]
    }
   ],
   "source": [
    "work = fragmentation_results_dict.keys()\n",
    "with closing(Pool(processes=32)) as pool:\n",
    "  results = []\n",
    "  for result in tqdm.tqdm(pool.imap_unordered(worker, work), total=len(work)):\n",
    "      results.append(result)\n",
    "  pool.terminate()"
   ]
  },
  {
   "cell_type": "code",
   "execution_count": null,
   "id": "fuzzy-classic",
   "metadata": {},
   "outputs": [],
   "source": []
  },
  {
   "cell_type": "code",
   "execution_count": 7,
   "id": "informative-shanghai",
   "metadata": {},
   "outputs": [],
   "source": [
    "features = []\n",
    "y = []\n",
    "frags = []\n",
    "for cod_id,feats in results:\n",
    "  if len(feats)>0:\n",
    "    frgs = fragmentation_results_dict[cod_id][fragment_key]\n",
    "    frags+=frgs\n",
    "    features+=feats\n",
    "    if mode == 'bond':\n",
    "      y+=[frag.properties[\"bond_length\"] for frag in frgs]\n",
    "    elif mode == \"angle\":\n",
    "      y+=[frag.properties[\"angle_deg\"] for frag in frgs]"
   ]
  },
  {
   "cell_type": "code",
   "execution_count": 8,
   "id": "passing-updating",
   "metadata": {},
   "outputs": [],
   "source": [
    "X = np.vstack(features)\n",
    "y = np.array(y)\n",
    "assert(X.shape[0]==len(y))"
   ]
  },
  {
   "cell_type": "code",
   "execution_count": 9,
   "id": "shared-million",
   "metadata": {},
   "outputs": [],
   "source": [
    "from sklearn.ensemble import RandomForestRegressor\n",
    "from sklearn.model_selection import train_test_split"
   ]
  },
  {
   "cell_type": "code",
   "execution_count": 10,
   "id": "detailed-philip",
   "metadata": {},
   "outputs": [],
   "source": [
    "space = np.arange(X.shape[0])\n",
    "train, test = train_test_split(space,test_size=0.2)\n",
    "frags_train, frags_test = [frags[i] for i in train], [frags[i] for i in test]\n",
    "\n",
    "  \n",
    "X_train, X_test = X[train],X[test]\n",
    "y_train, y_test = y[train],y[test]"
   ]
  },
  {
   "cell_type": "code",
   "execution_count": 11,
   "id": "amateur-institute",
   "metadata": {},
   "outputs": [
    {
     "name": "stdout",
     "output_type": "stream",
     "text": [
      "(1485448, 1024)\n"
     ]
    }
   ],
   "source": [
    "print(X_train.shape)"
   ]
  },
  {
   "cell_type": "code",
   "execution_count": 12,
   "id": "aggressive-lebanon",
   "metadata": {},
   "outputs": [],
   "source": [
    "import joblib\n",
    "import os"
   ]
  },
  {
   "cell_type": "code",
   "execution_count": 13,
   "id": "ranking-practice",
   "metadata": {},
   "outputs": [
    {
     "name": "stdout",
     "output_type": "stream",
     "text": [
      "CPU times: user 4d 7h 27min 22s, sys: 1h 7min 54s, total: 4d 8h 35min 17s\n",
      "Wall time: 1h 54min 32s\n"
     ]
    }
   ],
   "source": [
    "%%time\n",
    "min_samples_leaf_grid = [20]\n",
    "models = []\n",
    "for msl in min_samples_leaf_grid:\n",
    "  model = RandomForestRegressor(n_estimators=100,min_samples_leaf=msl, random_state=0,n_jobs=-1)\n",
    "  models.append(model)\n",
    "for model in models:\n",
    "  model.fit(X_train,y_train)"
   ]
  },
  {
   "cell_type": "code",
   "execution_count": 17,
   "id": "portuguese-establishment",
   "metadata": {},
   "outputs": [],
   "source": [
    "sizes = []\n",
    "for i,model in enumerate(models):\n",
    "\n",
    "  writepath = \"/dev/shm/cschlick/models/rfmodel_morgan_\"+mode+\"_msl\"+str(min_samples_leaf_grid[i])+\".joblib\"\n",
    "  joblib.dump(model, writepath, compress=3)  # compression is ON!\n",
    "  size_mb = np.round(os.path.getsize(writepath) / 1024 / 1024, 2)\n",
    "  sizes.append(size_mb)"
   ]
  },
  {
   "cell_type": "code",
   "execution_count": 18,
   "id": "sustainable-flooring",
   "metadata": {},
   "outputs": [
    {
     "name": "stdout",
     "output_type": "stream",
     "text": [
      "[51.17]\n"
     ]
    }
   ],
   "source": [
    "print(sizes)"
   ]
  },
  {
   "cell_type": "code",
   "execution_count": 19,
   "id": "gentle-thanksgiving",
   "metadata": {},
   "outputs": [],
   "source": [
    "model = models[0]"
   ]
  },
  {
   "cell_type": "code",
   "execution_count": 20,
   "id": "governmental-candidate",
   "metadata": {},
   "outputs": [
    {
     "name": "stdout",
     "output_type": "stream",
     "text": [
      "CPU times: user 1min 54s, sys: 1.92 s, total: 1min 56s\n",
      "Wall time: 12 s\n"
     ]
    }
   ],
   "source": [
    "%%time\n",
    "y_pred = model.predict(X_test)"
   ]
  },
  {
   "cell_type": "code",
   "execution_count": 21,
   "id": "forward-asbestos",
   "metadata": {},
   "outputs": [
    {
     "data": {
      "text/plain": [
       "Text(0, 0.5, 'Predicted')"
      ]
     },
     "execution_count": 21,
     "metadata": {},
     "output_type": "execute_result"
    },
    {
     "data": {
      "image/png": "[encoded data removed]",
      "text/plain": [
       "<Figure size 432x288 with 1 Axes>"
      ]
     },
     "metadata": {
      "needs_background": "light"
     },
     "output_type": "display_data"
    }
   ],
   "source": [
    "df = pd.DataFrame({\"dists\":y_test.flatten(),\"pred\":y_pred.flatten()})\n",
    "ax = df.plot.scatter(\"dists\",\"pred\",s=0.25)\n",
    "if mode == \"bond\":\n",
    "  ax.set_xlim(1,1.8)\n",
    "  ax.set_ylim(1,1.8)\n",
    "elif mode == \"angle\":\n",
    "  ax.set_xlim(50,140)\n",
    "  ax.set_ylim(50,140)\n",
    "ax.plot([0,200],[0,200],color=\"black\")\n",
    "ax.set_xlabel(\"Experimental\",fontsize=14)\n",
    "ax.set_ylabel(\"Predicted\",fontsize=14)"
   ]
  },
  {
   "cell_type": "code",
   "execution_count": 96,
   "id": "indie-active",
   "metadata": {},
   "outputs": [
    {
     "data": {
      "text/plain": [
       "<AxesSubplot:ylabel='Count'>"
      ]
     },
     "execution_count": 96,
     "metadata": {},
     "output_type": "execute_result"
    },
    {
     "data": {
      "image/png": "[encoded data removed]",
      "text/plain": [
       "<Figure size 432x288 with 1 Axes>"
      ]
     },
     "metadata": {
      "needs_background": "light"
     },
     "output_type": "display_data"
    }
   ],
   "source": [
    "from sklearn.metrics import mean_squared_error\n",
    "import seaborn as sns\n",
    "residuals = y_test-y_pred\n",
    "sns.histplot(residuals)"
   ]
  },
  {
   "cell_type": "code",
   "execution_count": 97,
   "id": "selected-stupid",
   "metadata": {},
   "outputs": [
    {
     "name": "stdout",
     "output_type": "stream",
     "text": [
      "RMSE: 0.437569434774106\n"
     ]
    }
   ],
   "source": [
    "rmse = np.sqrt(mean_squared_error(y_test,y_pred))\n",
    "print(\"RMSE:\",rmse)"
   ]
  },
  {
   "cell_type": "markdown",
   "id": "organizational-artist",
   "metadata": {},
   "source": [
    "## Predict some single molecules"
   ]
  },
  {
   "cell_type": "code",
   "execution_count": null,
   "id": "ordinary-twins",
   "metadata": {},
   "outputs": [],
   "source": []
  },
  {
   "cell_type": "code",
   "execution_count": null,
   "id": "vanilla-stone",
   "metadata": {},
   "outputs": [],
   "source": []
  }
 ],
 "metadata": {
  "kernelspec": {
   "display_name": "Python 3",
   "language": "python",
   "name": "python3"
  },
  "language_info": {
   "codemirror_mode": {
    "name": "ipython",
    "version": 3
   },
   "file_extension": ".py",
   "mimetype": "text/x-python",
   "name": "python",
   "nbconvert_exporter": "python",
   "pygments_lexer": "ipython3",
   "version": "3.8.6"
  }
 },
 "nbformat": 4,
 "nbformat_minor": 5
}
