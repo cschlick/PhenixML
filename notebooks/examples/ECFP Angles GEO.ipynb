{
 "cells": [
  {
   "cell_type": "code",
   "execution_count": 1,
   "id": "44402412-41a5-41f3-9542-31c2b84bbc96",
   "metadata": {},
   "outputs": [],
   "source": [
    "import numpy as np\n",
    "import tqdm\n",
    "from multiprocessing import Pool\n",
    "from contextlib import closing\n",
    "import sys\n",
    "sys.path.append(\"..\")\n",
    "\n",
    "from phenixml.fragments.fragments import MolContainer, Fragment\n",
    "from phenixml.fragmentation.fragmenters import MoleculeFragmenter, BondFragmenter, AngleFragmenter\n",
    "from phenixml.featurizers.fragments.fingerprints import MorganFeaturizer\n",
    "from phenixml.labelers.fragment_labelers import BondFragmentLabeler, AngleFragmentLabeler\n",
    "\n",
    "from phenixml.models.nn_fragments import FragmentKNN\n",
    "from phenixml.visualization.fragment_display import FragmentDisplay\n",
    "from phenixml.visualization.plotting import plot_geom_eval\n",
    "display = FragmentDisplay()\n",
    "\n",
    "\n",
    "from phenixml.utils.mp_utils import pool_with_progress\n",
    "import matplotlib.pyplot as plt"
   ]
  },
  {
   "cell_type": "code",
   "execution_count": 15,
   "id": "5cb81883-0d93-4b70-b40a-f1f48c13cdba",
   "metadata": {},
   "outputs": [
    {
     "name": "stderr",
     "output_type": "stream",
     "text": [
      "100%|████████████████████████████████████████████████████████████████████████████████████████████████████████████████████████████████████████████████████████████████████████| 16151/16151 [00:32<00:00, 489.52it/s]\n"
     ]
    }
   ],
   "source": [
    "# Load molecule containers\n",
    "mol_dir = \"/dev/shm/cschlick/geostd_passed/\"\n",
    "containers = MolContainer.from_folder(mol_dir)"
   ]
  },
  {
   "cell_type": "code",
   "execution_count": 16,
   "id": "722db326-7e94-4d4e-9d9c-b04c6d6c5c91",
   "metadata": {},
   "outputs": [
    {
     "name": "stderr",
     "output_type": "stream",
     "text": [
      "100%|████████████████████████████████████████████████████████████████████████████████████████████████████████████████████████████████████████████████████████████████████████| 16150/16150 [00:24<00:00, 659.37it/s]\n"
     ]
    }
   ],
   "source": [
    "# Fragment the molecules\n",
    "fragmenter = AngleFragmenter(exclude_elements=[\"H\"])\n",
    "fragments = fragmenter(containers)"
   ]
  },
  {
   "cell_type": "code",
   "execution_count": 17,
   "id": "85d662c4-2b9f-488c-a83b-5304dc03cfa9",
   "metadata": {},
   "outputs": [
    {
     "name": "stderr",
     "output_type": "stream",
     "text": [
      "100%|█████████████████████████████████████████████████████████████████████████████████████████████████████████████████████████████████████████████████████████████████████| 550515/550515 [08:35<00:00, 1068.60it/s]\n"
     ]
    }
   ],
   "source": [
    "# Featurize the fragments\n",
    "featurizer = MorganFeaturizer()\n",
    "features = featurizer(fragments,nproc=32)"
   ]
  },
  {
   "cell_type": "code",
   "execution_count": 18,
   "id": "33c1cb10-a8eb-4874-a7f4-f48490c87abe",
   "metadata": {},
   "outputs": [
    {
     "name": "stderr",
     "output_type": "stream",
     "text": [
      "100%|█████████████████████████████████████████████████████████████████████████████████████████████████████████████████████████████████████████████████████████████████████| 550515/550515 [07:25<00:00, 1236.86it/s]\n"
     ]
    }
   ],
   "source": [
    "# label the fragments\n",
    "labeler = AngleFragmentLabeler()\n",
    "labels = labeler(fragments)"
   ]
  },
  {
   "cell_type": "code",
   "execution_count": 19,
   "id": "928be114-7d5b-4647-b059-2a709d2040d6",
   "metadata": {},
   "outputs": [],
   "source": [
    "# train/test split\n",
    "from sklearn.model_selection import train_test_split\n",
    "inds = np.arange(len(fragments))\n",
    "train,test = train_test_split(inds,test_size=0.2)\n",
    "feat_train, feat_test = features[train], features[test]\n",
    "labels_train, labels_test = labels[train], labels[test]\n",
    "frags_train = [fragments[i] for i in train]\n",
    "frags_test = [fragments[i] for i in test]"
   ]
  },
  {
   "cell_type": "markdown",
   "id": "4bf5b338-73df-46b1-b187-cf109c2c7e56",
   "metadata": {},
   "source": [
    "## kNN"
   ]
  },
  {
   "cell_type": "code",
   "execution_count": 20,
   "id": "a3da31b4-6605-4b86-960c-3798027cda47",
   "metadata": {},
   "outputs": [
    {
     "name": "stdout",
     "output_type": "stream",
     "text": [
      "CPU times: user 1h 18min 41s, sys: 4min, total: 1h 22min 41s\n",
      "Wall time: 3min 29s\n"
     ]
    }
   ],
   "source": [
    "%%time\n",
    "# Build the pynndescent index\n",
    "knn = FragmentKNN(frags_train,feat_train,metric=\"rogerstanimoto\")"
   ]
  },
  {
   "cell_type": "code",
   "execution_count": 21,
   "id": "ddc1a186-5b4f-4b0f-9833-854d933c09e4",
   "metadata": {},
   "outputs": [],
   "source": [
    "# choose a single query to illustrate kNN search\n",
    "query_idx = 101\n",
    "query_frag = frags_test[query_idx]\n",
    "query_feature = feat_test[query_idx]\n",
    "query_label = labels_test[query_idx]\n",
    "\n",
    "nbrs,inds = knn.query(query_feature,k=20, return_ind=True)\n",
    "nbr_labels = labels_train[inds]"
   ]
  },
  {
   "cell_type": "code",
   "execution_count": 22,
   "id": "a7b45cb2-7a74-434e-9cc0-3a8ff3632559",
   "metadata": {},
   "outputs": [
    {
     "data": {
      "image/png": "[encoded data removed]",
      "text/plain": [
       "<PIL.PngImagePlugin.PngImageFile image mode=RGB size=300x300 at 0x7FECB027E130>"
      ]
     },
     "execution_count": 22,
     "metadata": {},
     "output_type": "execute_result"
    }
   ],
   "source": [
    "display(query_frag,hideHs=True,size=(300,300))"
   ]
  },
  {
   "cell_type": "code",
   "execution_count": null,
   "id": "0148b062-5542-44ca-b624-ef77acf3a745",
   "metadata": {},
   "outputs": [],
   "source": [
    "display(nbrs,nmax=3)"
   ]
  },
  {
   "cell_type": "code",
   "execution_count": null,
   "id": "1d9d4bce-77f9-439a-925f-89fd46ef48b2",
   "metadata": {},
   "outputs": [],
   "source": [
    "# kNN Regression\n",
    "# Query the knn for the whole test set\n",
    "nbrs,inds = knn.query(feat_test,k=20, return_ind=True)\n",
    "nbr_labels = labels_train[inds]"
   ]
  },
  {
   "cell_type": "code",
   "execution_count": null,
   "id": "3ee72701-87c8-43f0-933a-3d8eb0ca14ae",
   "metadata": {},
   "outputs": [],
   "source": [
    "nbr_mean_label = nbr_labels.mean(axis=1)"
   ]
  },
  {
   "cell_type": "code",
   "execution_count": null,
   "id": "aa22d8e7-5cbf-43d8-92b1-775b7b714341",
   "metadata": {},
   "outputs": [],
   "source": [
    "plot_geom_eval(np.degrees(labels_test),np.degrees(nbr_mean_label),mode=\"angle\")"
   ]
  },
  {
   "cell_type": "code",
   "execution_count": null,
   "id": "eee79786-78c5-4881-9cbe-bbc3e28fc8ca",
   "metadata": {},
   "outputs": [],
   "source": [
    "# evaluate\n",
    "from collections import defaultdict\n",
    "mol_containers = defaultdict(list)\n",
    "\n",
    "labels_test_ref = np.degrees(labels_test)\n",
    "labels_test_pred = np.degrees(nbr_mean_label)\n",
    "\n",
    "for i,fragment in enumerate(frags_test):\n",
    "  \n",
    "  ref,pred = labels_test_ref[i], labels_test_pred[i]\n",
    "  error = np.abs(ref-pred)\n",
    "  mol_containers[fragment.mol_container].append(error)\n",
    "  \n",
    "worst = np.array([np.max(value) for key,value in mol_containers.items()])\n",
    "cutoff = 10\n",
    "n_ok = (worst<=cutoff).sum()\n",
    "n_bad = (worst>cutoff).sum()\n",
    "print(\"Number of mols in test set:\",len(mol_containers))\n",
    "print(\"Mols better than cutoff:\",n_ok)\n",
    "print(\"Mols worse than cutoff:\",n_bad)"
   ]
  },
  {
   "cell_type": "markdown",
   "id": "f1e8400d-42f4-4fcb-934b-7f74bb39a6ac",
   "metadata": {},
   "source": [
    "## MLP Regression"
   ]
  },
  {
   "cell_type": "code",
   "execution_count": 16,
   "id": "3e1782a0-2e56-4293-b38d-189b89340368",
   "metadata": {},
   "outputs": [],
   "source": [
    "import torch\n",
    "from phenixml.models.feature_regression import FeatureModel"
   ]
  },
  {
   "cell_type": "code",
   "execution_count": 17,
   "id": "65c56b2b-fa2e-4d88-8d0c-cd25bcc77859",
   "metadata": {},
   "outputs": [],
   "source": [
    "model = FeatureModel(feat_train.shape[1],256,1,n_hid_layers=1)\n",
    "opt = torch.optim.Adam(model.parameters(),lr=1e-4)\n",
    "metric = torch.nn.MSELoss()"
   ]
  },
  {
   "cell_type": "code",
   "execution_count": 18,
   "id": "1cf834b4-9811-4102-9b6e-54bca742a262",
   "metadata": {},
   "outputs": [],
   "source": [
    "# set up tensors\n",
    "gpuid = 1\n",
    "feat_train_t = torch.tensor(feat_train,dtype=torch.get_default_dtype())\n",
    "feat_test_t = torch.tensor(feat_test,dtype=torch.get_default_dtype())\n",
    "labels_train_t = torch.tensor(labels_train,dtype=torch.get_default_dtype())\n",
    "\n",
    "if gpuid is not None:\n",
    "  feat_train_t = feat_train_t.to(\"cuda:\"+str(gpuid))\n",
    "  labels_train_t = labels_train_t.to(\"cuda:\"+str(gpuid))\n",
    "  model = model.to(\"cuda:\"+str(gpuid))"
   ]
  },
  {
   "cell_type": "code",
   "execution_count": 19,
   "id": "0c5a2ff9-3481-4247-ae08-831091a4602c",
   "metadata": {},
   "outputs": [
    {
     "name": "stderr",
     "output_type": "stream",
     "text": [
      "100%|███████████████████████████████████████████████████████████████████████████████████████████████████████████████████████████████████████████████████████████████████████████| 3000/3000 [04:28<00:00, 11.16it/s]\n"
     ]
    }
   ],
   "source": [
    "# train\n",
    "epoch_losses = []\n",
    "n_epoch=3000\n",
    "\n",
    "\n",
    "for epoch in tqdm.tqdm(range(n_epoch)):\n",
    "    \n",
    "  pred = model(feat_train_t)\n",
    "  loss = metric(pred,labels_train_t)\n",
    "  opt.zero_grad()\n",
    "  loss.backward()\n",
    "  opt.step()\n",
    "  \n",
    "  epoch_losses.append(loss.item())\n",
    "  "
   ]
  },
  {
   "cell_type": "code",
   "execution_count": 20,
   "id": "fdffe79a-f82e-446b-9c55-57fabac41e04",
   "metadata": {},
   "outputs": [
    {
     "data": {
      "text/plain": [
       "[<matplotlib.lines.Line2D at 0x7f041b454a60>]"
      ]
     },
     "execution_count": 20,
     "metadata": {},
     "output_type": "execute_result"
    },
    {
     "data": {
      "image/png": "[encoded data removed]",
      "text/plain": [
       "<Figure size 432x288 with 1 Axes>"
      ]
     },
     "metadata": {
      "needs_background": "light"
     },
     "output_type": "display_data"
    }
   ],
   "source": [
    "plt.plot(epoch_losses)"
   ]
  },
  {
   "cell_type": "code",
   "execution_count": 21,
   "id": "76e57ece-b836-4296-8017-35181abe1580",
   "metadata": {},
   "outputs": [],
   "source": [
    "if gpuid is not None:\n",
    "  model = model.to(\"cpu\")\n",
    "pred = model(feat_test_t)"
   ]
  },
  {
   "cell_type": "code",
   "execution_count": 22,
   "id": "c3506663-1fea-4623-b502-14665387391e",
   "metadata": {},
   "outputs": [
    {
     "data": {
      "image/png": "[encoded data removed]",
      "text/plain": [
       "<Figure size 1152x360 with 2 Axes>"
      ]
     },
     "metadata": {
      "needs_background": "light"
     },
     "output_type": "display_data"
    }
   ],
   "source": [
    "plot_geom_eval(np.degrees(labels_test),np.degrees(to_np(pred)),mode=\"angle\")"
   ]
  },
  {
   "cell_type": "code",
   "execution_count": 23,
   "id": "e18c107d-ad33-48f7-ad54-bc1e86d9b225",
   "metadata": {},
   "outputs": [
    {
     "name": "stdout",
     "output_type": "stream",
     "text": [
      "Number of mols in test set: 15815\n",
      "Mols better than cutoff: 15604\n",
      "Mols worse than cutoff: 211\n"
     ]
    }
   ],
   "source": [
    "# evaluate\n",
    "from collections import defaultdict\n",
    "mol_containers = defaultdict(list)\n",
    "\n",
    "labels_test_ref = np.degrees(labels_test)\n",
    "labels_test_pred = np.degrees(nbr_mean_label)\n",
    "\n",
    "for i,fragment in enumerate(frags_test):\n",
    "  \n",
    "  ref,pred = labels_test_ref[i], labels_test_pred[i]\n",
    "  error = np.abs(ref-pred)\n",
    "  mol_containers[fragment.mol_container].append(error)\n",
    "  \n",
    "worst = np.array([np.max(value) for key,value in mol_containers.items()])\n",
    "cutoff = 10\n",
    "n_ok = (worst<=cutoff).sum()\n",
    "n_bad = (worst>cutoff).sum()\n",
    "print(\"Number of mols in test set:\",len(mol_containers))\n",
    "print(\"Mols better than cutoff:\",n_ok)\n",
    "print(\"Mols worse than cutoff:\",n_bad)"
   ]
  },
  {
   "cell_type": "code",
   "execution_count": null,
   "id": "05a385f8-bdda-42bb-90d6-4e36dac0f630",
   "metadata": {},
   "outputs": [],
   "source": []
  }
 ],
 "metadata": {
  "kernelspec": {
   "display_name": "Python 3 (ipykernel)",
   "language": "python",
   "name": "python3"
  },
  "language_info": {
   "codemirror_mode": {
    "name": "ipython",
    "version": 3
   },
   "file_extension": ".py",
   "mimetype": "text/x-python",
   "name": "python",
   "nbconvert_exporter": "python",
   "pygments_lexer": "ipython3",
   "version": "3.9.7"
  }
 },
 "nbformat": 4,
 "nbformat_minor": 5
}
