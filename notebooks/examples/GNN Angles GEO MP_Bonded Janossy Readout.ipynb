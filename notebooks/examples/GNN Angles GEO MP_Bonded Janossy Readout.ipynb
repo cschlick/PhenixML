{
 "cells": [
  {
   "cell_type": "code",
   "execution_count": null,
   "id": "9d3aec4f-8a16-4235-bc13-dac2bd459663",
   "metadata": {},
   "outputs": [],
   "source": [
    "%%capture\n",
    "# Install \n",
    "!pip install git+https://github.com/cschlick/PhenixML.git\n",
    "# clone for the data files\n",
    "!git clone https://github.com/cschlick/PhenixML.git "
   ]
  },
  {
   "cell_type": "code",
   "execution_count": 1,
   "id": "36f73c5d-f523-4e8a-af70-fd17c51ca2ae",
   "metadata": {},
   "outputs": [
    {
     "name": "stderr",
     "output_type": "stream",
     "text": [
      "Using backend: pytorch\n"
     ]
    }
   ],
   "source": [
    "import sys\n",
    "import matplotlib.pyplot as plt\n",
    "import torch\n",
    "import torch.nn as nn\n",
    "import numpy as np\n",
    "import tqdm\n",
    "from collections import defaultdict\n",
    "\n",
    "\n",
    "sys.path.append(\"PhenixML\")\n",
    "from phenixml.fragments.fragments import Fragment, MolContainer\n",
    "from phenixml.fragmentation.fragmenters import BondFragmenter, AngleFragmenter\n",
    "from phenixml.labelers.fragment_labelers import BondFragmentLabeler,AngleFragmentLabeler\n",
    "from phenixml.featurizers.atom_featurizers import RDKIT_Fingerprint\n",
    "\n",
    "from phenixml.graphs.molgraph import MolGraph\n",
    "from phenixml.graphs.molgraph_dataset import MolGraphDataset\n",
    "\n",
    "from phenixml.utils.torch_utils import to_np\n",
    "from phenixml.visualization.plotting import plot_geom_eval\n",
    "from phenixml.visualization.fragment_display import FragmentDisplay\n",
    "show = FragmentDisplay()"
   ]
  },
  {
   "cell_type": "code",
   "execution_count": 4,
   "id": "09133243-613b-4948-8092-243d0ef10246",
   "metadata": {},
   "outputs": [
    {
     "name": "stderr",
     "output_type": "stream",
     "text": [
      "100%|████████████████████████████████████████████████████████████████████████████████████████████████████████████████████████████████████████████████████████████████████████| 16151/16151 [00:38<00:00, 415.60it/s]\n"
     ]
    }
   ],
   "source": [
    "# get molecules\n",
    "mol_dir = \"PhenixML/data/geostd_mol/\"\n",
    "containers = MolContainer.from_folder(mol_dir,suffix=\".mol\",removeHs=True)"
   ]
  },
  {
   "cell_type": "code",
   "execution_count": 5,
   "id": "7333f4d5-21c2-48fb-815a-3560b9cd4470",
   "metadata": {},
   "outputs": [
    {
     "name": "stderr",
     "output_type": "stream",
     "text": [
      "100%|█████████████████████████████████████████████████████████████████████████████████████████████████████████████████████████████████████████████████████████████████████████| 16150/16150 [05:46<00:00, 46.58it/s]\n"
     ]
    }
   ],
   "source": [
    "# fragment, featurize,label, build graphs\n",
    "molgraphs = MolGraph.from_containers(containers,\n",
    "                         fragmenter=AngleFragmenter(exclude_elements=[]),\n",
    "                         labeler=AngleFragmentLabeler(),skip_failures=True)"
   ]
  },
  {
   "cell_type": "code",
   "execution_count": 6,
   "id": "84c2be53-821b-4e21-9d1a-29fce8c5d476",
   "metadata": {},
   "outputs": [],
   "source": [
    "# set up dataset, train/test split\n",
    "dataset= MolGraphDataset(molgraphs)\n",
    "dataset_train, dataset_test = dataset.train_test_split(test_fraction=0.2)\n",
    "batches = list(dataset_train.batches(batch_size=10000))"
   ]
  },
  {
   "cell_type": "code",
   "execution_count": 7,
   "id": "eb28c54c-7268-4fa7-b0b7-dfee0c92175b",
   "metadata": {},
   "outputs": [],
   "source": [
    "# make model\n",
    "from phenixml.models.message_passing import MessagePassing\n",
    "from phenixml.models.readout import ReadoutLinearJanossy\n",
    "\n",
    "# settings\n",
    "gpuid = 1\n",
    "n_units = 128\n",
    "n_layers_mp = 3\n",
    "fragment_size = 3\n",
    "feature_units = molgraphs[0].heterograph.nodes[\"atom\"].data[\"h0\"].shape[1]\n",
    "\n",
    "\n",
    "# Set up message passing\n",
    "config = []\n",
    "for n_layer in range(n_layers_mp):\n",
    "  config+=[n_units,\"relu\"]\n",
    "\n",
    "message_passing = MessagePassing(\n",
    "    feature_units=feature_units,\n",
    "    config=config) \n",
    "\n",
    "\n",
    "# Set up readout\n",
    "n_layers_readout = 3\n",
    "config = []\n",
    "for n_layer in range(n_layers_readout):\n",
    "  config+=[n_units,\"relu\"]\n",
    "  \n",
    "readout = ReadoutLinearJanossy(\n",
    "    in_features=n_units, \n",
    "    config=config,\n",
    "    out_features={\"pred\":1},\n",
    "    fragment_size = fragment_size)\n",
    "\n",
    "# Sequential message passing, readout\n",
    "model = nn.Sequential(message_passing,readout)\n",
    "opt = torch.optim.Adam(model.parameters(),lr=1e-4)\n",
    "metric = torch.nn.MSELoss()\n",
    "\n",
    "if gpuid is not None:\n",
    "  model = model.to(\"cuda:\"+str(gpuid))"
   ]
  },
  {
   "cell_type": "code",
   "execution_count": 8,
   "id": "55619237-058a-4a1d-8d9b-0e37940b7f7d",
   "metadata": {},
   "outputs": [
    {
     "name": "stderr",
     "output_type": "stream",
     "text": [
      "100%|███████████████████████████████████████████████████████████████████████████████████████████████████████████████████████████████████████████████████████████████████████████| 2000/2000 [10:52<00:00,  3.06it/s]\n"
     ]
    }
   ],
   "source": [
    "# Training loop\n",
    "epoch_losses = []\n",
    "n_epoch=2000\n",
    "\n",
    "for epoch in tqdm.tqdm(range(n_epoch)):\n",
    "  batch_losses = []\n",
    "  for batch in batches:\n",
    "    if gpuid is not None:\n",
    "      batch = batch.to(\"cuda:\"+str(gpuid))\n",
    "    g = model(batch)\n",
    "    loss = metric(g.nodes[\"fragment\"].data[\"ref\"],\n",
    "                  g.nodes[\"fragment\"].data[\"pred\"])\n",
    "    opt.zero_grad()\n",
    "    loss.backward()\n",
    "    opt.step()\n",
    "    batch_losses.append(loss.item())\n",
    "\n",
    "  epoch_losses.append(np.mean(batch_losses))\n",
    "  \n"
   ]
  },
  {
   "cell_type": "code",
   "execution_count": 9,
   "id": "3cdf5f3f-31a9-4c8a-a545-bfe1e77f2dd6",
   "metadata": {},
   "outputs": [
    {
     "data": {
      "text/plain": [
       "[<matplotlib.lines.Line2D at 0x7f3c83533a00>]"
      ]
     },
     "execution_count": 9,
     "metadata": {},
     "output_type": "execute_result"
    },
    {
     "data": {
      "image/png": "[encoded data removed]",
      "text/plain": [
       "<Figure size 432x288 with 1 Axes>"
      ]
     },
     "metadata": {
      "needs_background": "light"
     },
     "output_type": "display_data"
    }
   ],
   "source": [
    "plt.plot(epoch_losses)"
   ]
  },
  {
   "cell_type": "code",
   "execution_count": 10,
   "id": "4e210646-e35e-46a7-bfa4-649be1e9981d",
   "metadata": {},
   "outputs": [
    {
     "data": {
      "image/png": "[encoded data removed]",
      "text/plain": [
       "<Figure size 1152x360 with 2 Axes>"
      ]
     },
     "metadata": {
      "needs_background": "light"
     },
     "output_type": "display_data"
    }
   ],
   "source": [
    "if gpuid is not None:\n",
    "  model = model.to(\"cpu\")\n",
    "test_batch = model(dataset_test.heterograph)\n",
    "a,b = (test_batch.nodes[\"fragment\"].data[\"ref\"], \n",
    "       test_batch.nodes[\"fragment\"].data[\"pred\"])\n",
    "a,b = to_np(a).flatten(),to_np(b).flatten()\n",
    "a,b = np.degrees(a), np.degrees(b)\n",
    "plot_geom_eval(a,b,mode=\"angle\")"
   ]
  },
  {
   "cell_type": "code",
   "execution_count": 49,
   "id": "21e87a89-7e33-41b8-be66-3ef37115e7a9",
   "metadata": {},
   "outputs": [],
   "source": [
    "# evaluate\n",
    "mol_containers = defaultdict(list)\n",
    "for i,fragment in enumerate(dataset_test.fragments):\n",
    "  \n",
    "  ref,pred = (test_batch.nodes[\"fragment\"].data[\"ref\"][i].item(),\n",
    "              test_batch.nodes[\"fragment\"].data[\"pred\"][i].item())\n",
    "  ref,pred = np.degrees(ref),np.degrees(pred)\n",
    "  error = np.abs(ref-pred)\n",
    "  mol_containers[fragment.mol_container].append(error)\n",
    "  \n",
    "worst = np.array([np.max(value) for key,value in mol_containers.items()])\n",
    "cutoff = 10\n",
    "n_ok = (worst<=cutoff).sum()\n",
    "n_bad = (worst>cutoff).sum()\n",
    "print(\"Number of mols in test set:\",len(mol_containers))\n",
    "print(\"Mols better than cutoff:\",n_ok)\n",
    "print(\"Mols worse than cutoff:\",n_bad)"
   ]
  },
  {
   "cell_type": "code",
   "execution_count": null,
   "id": "946e6433-2dc5-498d-9233-bf30f4caa4de",
   "metadata": {},
   "outputs": [],
   "source": []
  },
  {
   "cell_type": "code",
   "execution_count": 53,
   "id": "a031f8f2-e6e1-424a-b7b5-3a90cd47cad8",
   "metadata": {},
   "outputs": [],
   "source": []
  },
  {
   "cell_type": "code",
   "execution_count": 57,
   "id": "9cbf7279-04c9-4932-accd-0abd32518b3b",
   "metadata": {},
   "outputs": [],
   "source": [
    "worst = sorted(worst)"
   ]
  },
  {
   "cell_type": "code",
   "execution_count": 63,
   "id": "95e9693d-6c59-4015-af13-c1b4dd2ef748",
   "metadata": {},
   "outputs": [
    {
     "data": {
      "text/plain": [
       "<matplotlib.lines.Line2D at 0x7f54c45c4d00>"
      ]
     },
     "execution_count": 63,
     "metadata": {},
     "output_type": "execute_result"
    },
    {
     "data": {
      "image/png": "[encoded data removed]",
      "text/plain": [
       "<Figure size 432x288 with 1 Axes>"
      ]
     },
     "metadata": {
      "needs_background": "light"
     },
     "output_type": "display_data"
    }
   ],
   "source": [
    "plt.plot(worst)\n",
    "plt.axhline(y=10,color=\"black\")"
   ]
  },
  {
   "cell_type": "code",
   "execution_count": 69,
   "id": "0ea55fd8-4bc6-48fa-985f-69610a3f9aaf",
   "metadata": {},
   "outputs": [],
   "source": [
    "activation = {}\n",
    "def get_activation(name):\n",
    "    def hook(model, input, output):\n",
    "        activation[name] = output.detach()\n",
    "    return hook\n",
    "readout.sequential_3.register_forward_hook(get_activation(\"sequential_3\"))\n",
    "output = model(test_batch)\n",
    "rep = to_np(activation[\"sequential_3\"])"
   ]
  },
  {
   "cell_type": "code",
   "execution_count": 74,
   "id": "0c99ddfd-9607-4262-920d-67ddc362efee",
   "metadata": {},
   "outputs": [
    {
     "data": {
      "text/plain": [
       "<torch.utils.hooks.RemovableHandle at 0x7f54a06205b0>"
      ]
     },
     "execution_count": 74,
     "metadata": {},
     "output_type": "execute_result"
    }
   ],
   "source": []
  },
  {
   "cell_type": "code",
   "execution_count": 75,
   "id": "4c2ccb52-1387-4dac-bd07-01a6aacebfad",
   "metadata": {},
   "outputs": [],
   "source": []
  },
  {
   "cell_type": "code",
   "execution_count": 80,
   "id": "8f084695-d116-4d41-a3e0-21cac017509d",
   "metadata": {},
   "outputs": [],
   "source": []
  },
  {
   "cell_type": "code",
   "execution_count": 79,
   "id": "48e0bbba-4678-4cc1-9bb2-0c57016e494a",
   "metadata": {},
   "outputs": [],
   "source": [
    "import umap"
   ]
  },
  {
   "cell_type": "code",
   "execution_count": 81,
   "id": "879cfe2e-9054-40d8-9e55-66fefd3a0972",
   "metadata": {},
   "outputs": [],
   "source": [
    "fit = umap.UMAP()"
   ]
  },
  {
   "cell_type": "code",
   "execution_count": null,
   "id": "06c90bc5-7960-4443-be80-d7c99e631973",
   "metadata": {},
   "outputs": [],
   "source": [
    "%time u = fit.fit_transform(rep)"
   ]
  },
  {
   "cell_type": "code",
   "execution_count": null,
   "id": "4fb3556a-d289-48ee-b5f7-1f3ad19c4001",
   "metadata": {},
   "outputs": [],
   "source": [
    "# knn demo"
   ]
  },
  {
   "cell_type": "code",
   "execution_count": null,
   "id": "5729ab9e-4e61-4aa7-8183-5a33d9218005",
   "metadata": {},
   "outputs": [],
   "source": []
  },
  {
   "cell_type": "code",
   "execution_count": null,
   "id": "a6473799-9775-488c-956c-1636a329588b",
   "metadata": {},
   "outputs": [],
   "source": []
  },
  {
   "cell_type": "code",
   "execution_count": null,
   "id": "5a730442-7ebf-48d5-b211-e3c13c88e867",
   "metadata": {},
   "outputs": [],
   "source": []
  },
  {
   "cell_type": "code",
   "execution_count": null,
   "id": "dab8b0fc-827d-49e6-939b-50a0daf9b16f",
   "metadata": {},
   "outputs": [],
   "source": []
  },
  {
   "cell_type": "code",
   "execution_count": null,
   "id": "9c9a617c-728e-430a-b299-55ea6e6ee7c1",
   "metadata": {},
   "outputs": [],
   "source": []
  },
  {
   "cell_type": "code",
   "execution_count": null,
   "id": "ec75fc8b-42ea-428f-b397-65ab581b5d78",
   "metadata": {},
   "outputs": [],
   "source": [
    "model.fc2.register_forward_hook(get_activation('fc2'))\n",
    "x = torch.randn(1, 25)\n",
    "output = model(x)\n",
    "print(activation['fc2'])"
   ]
  },
  {
   "cell_type": "markdown",
   "id": "8721a36b-d948-409a-84bd-0432262d6c26",
   "metadata": {},
   "source": [
    "# Check outliers\n"
   ]
  },
  {
   "cell_type": "code",
   "execution_count": 11,
   "id": "a6dc27e2-aec4-4c97-8296-fa99c89b4659",
   "metadata": {},
   "outputs": [],
   "source": [
    "fragments = dataset_test.fragments"
   ]
  },
  {
   "cell_type": "code",
   "execution_count": 12,
   "id": "16726f84-1291-4fbc-b796-37f9e6104b79",
   "metadata": {},
   "outputs": [],
   "source": [
    "ref = np.degrees(to_np(test_batch.nodes[\"fragment\"].data[\"ref\"][:,0]))\n",
    "pred = np.degrees(to_np(test_batch.nodes[\"fragment\"].data[\"pred\"][:,0]))\n",
    "error = np.abs(ref-pred)"
   ]
  },
  {
   "cell_type": "code",
   "execution_count": 28,
   "id": "689494df-c598-4e45-a81f-a86b33c04ba2",
   "metadata": {},
   "outputs": [],
   "source": [
    "bad = set(np.where(error>30)[0])\n",
    "#ref_sel = set(np.where(ref>65)[0])\n",
    "pred_sel = set(np.where(b>130)[0])\n",
    "sels = list(bad.intersection(*[bad,pred_sel]))\n"
   ]
  },
  {
   "cell_type": "code",
   "execution_count": 67,
   "id": "00050f4c-291b-4498-b76e-ba70cefb787d",
   "metadata": {},
   "outputs": [
    {
     "data": {
      "text/plain": [
       "177944"
      ]
     },
     "execution_count": 67,
     "metadata": {},
     "output_type": "execute_result"
    }
   ],
   "source": []
  },
  {
   "cell_type": "code",
   "execution_count": 68,
   "id": "7e692dab-225e-4e99-aa80-254ab3873c35",
   "metadata": {},
   "outputs": [
    {
     "name": "stdout",
     "output_type": "stream",
     "text": [
      "Ref: 177.21771 Pred: 74.162346\n"
     ]
    },
    {
     "data": {
      "application/3dmoljs_load.v0": "<div id=\"3dmolviewer_1648944696363953\"  style=\"position: relative; width: 600px; height: 600px\">\n        <p id=\"3dmolwarning_1648944696363953\" style=\"background-color:#ffcccc;color:black\">You appear to be running in JupyterLab (or JavaScript failed to load for some other reason).  You need to install the 3dmol extension: <br>\n        <tt>jupyter labextension install jupyterlab_3dmol</tt></p>\n        </div>\n<script>\n\nvar loadScriptAsync = function(uri){\n  return new Promise((resolve, reject) => {\n    var tag = document.createElement('script');\n    tag.src = uri;\n    tag.async = true;\n    tag.onload = () => {\n      resolve();\n    };\n  var firstScriptTag = document.getElementsByTagName('script')[0];\n  firstScriptTag.parentNode.insertBefore(tag, firstScriptTag);\n});\n};\n\nif(typeof $3Dmolpromise === 'undefined') {\n$3Dmolpromise = null;\n  $3Dmolpromise = loadScriptAsync('https://3dmol.org/build/3Dmol.js');\n}\n\nvar viewer_1648944696363953 = null;\nvar warn = document.getElementById(\"3dmolwarning_1648944696363953\");\nif(warn) {\n    warn.parentNode.removeChild(warn);\n}\n$3Dmolpromise.then(function() {\nviewer_1648944696363953 = $3Dmol.createViewer($(\"#3dmolviewer_1648944696363953\"),{backgroundColor:\"white\"});\nviewer_1648944696363953.zoomTo();\n\tviewer_1648944696363953.addModel(\"\\n     RDKit          3D\\n\\n 35 46  0  0  0  0  0  0  0  0999 V2000\\n    3.7900   11.5690    4.4260 Fe  0  0  0  0  0 10  0  0  0  0  0  0\\n    3.5240   10.1780   -0.2800 Si  0  0  0  0  0  4  0  0  0  0  0  0\\n    8.0110   12.2370    6.8380 Si  0  0  0  0  0  4  0  0  0  0  0  0\\n    4.0100    9.9530    2.5090 C   0  0  0  0  0  0  0  0  0  0  0  0\\n    2.7570   10.6550    2.8020 C   0  0  1  0  0  0  0  0  0  0  0  0\\n    2.0710   10.5230    4.0130 C   0  0  1  0  0  0  0  0  0  0  0  0\\n    2.7210    9.9660    5.1370 C   0  0  1  0  0  0  0  0  0  0  0  0\\n    4.0760    9.5960    4.9960 C   0  0  1  0  0  0  0  0  0  0  0  0\\n    4.7310    9.7480    3.7650 C   0  0  2  0  0  0  0  0  0  0  0  0\\n    4.5080    9.7550    1.2550 C   0  0  0  0  0  0  0  0  0  0  0  0\\n    5.8480    9.1180    1.0880 C   0  0  0  0  0  0  0  0  0  0  0  0\\n    6.1330    7.8720    1.6310 C   0  0  0  0  0  0  0  0  0  0  0  0\\n    7.3700    7.2810    1.4760 C   0  0  0  0  0  0  0  0  0  0  0  0\\n    8.3590    7.9140    0.7500 C   0  0  0  0  0  0  0  0  0  0  0  0\\n    8.1000    9.1330    0.1820 C   0  0  0  0  0  0  0  0  0  0  0  0\\n    6.8590    9.7410    0.3520 C   0  0  0  0  0  0  0  0  0  0  0  0\\n    3.3620   12.0260   -0.4960 C   0  0  0  0  0  0  0  0  0  0  0  0\\n    1.8130    9.4120   -0.2170 C   0  0  0  0  0  0  0  0  0  0  0  0\\n    4.3580    9.4720   -1.7990 C   0  0  0  0  0  0  0  0  0  0  0  0\\n    5.9270   12.7680    4.9830 C   0  0  0  0  0  0  0  0  0  0  0  0\\n    4.9120   12.4800    5.9970 C   0  0  1  0  0  0  0  0  0  0  0  0\\n    3.5990   12.9610    5.9210 C   0  0  1  0  0  0  0  0  0  0  0  0\\n    3.0990   13.4850    4.7060 C   0  0  1  0  0  0  0  0  0  0  0  0\\n    3.9560   13.4480    3.5850 C   0  0  1  0  0  0  0  0  0  0  0  0\\n    5.2610   12.9510    3.6910 C   0  0  2  0  0  0  0  0  0  0  0  0\\n    7.2770   12.6760    5.1790 C   0  0  0  0  0  0  0  0  0  0  0  0\\n    8.2140   12.8150    4.0190 C   0  0  0  0  0  0  0  0  0  0  0  0\\n    8.9930   13.9640    3.8580 C   0  0  0  0  0  0  0  0  0  0  0  0\\n    9.8770   14.0880    2.8050 C   0  0  0  0  0  0  0  0  0  0  0  0\\n   10.0270   13.0740    1.8930 C   0  0  0  0  0  0  0  0  0  0  0  0\\n    9.2860   11.9260    2.0360 C   0  0  0  0  0  0  0  0  0  0  0  0\\n    8.3810   11.8000    3.0870 C   0  0  0  0  0  0  0  0  0  0  0  0\\n    9.8640   12.3820    6.7840 C   0  0  0  0  0  0  0  0  0  0  0  0\\n    7.4030   13.3110    8.2280 C   0  0  0  0  0  0  0  0  0  0  0  0\\n    7.6090   10.4440    7.2140 C   0  0  0  0  0  0  0  0  0  0  0  0\\n  1  5  1  0\\n  6  1  1  1\\n  7  1  1  1\\n  8  1  1  1\\n  1  9  1  0\\n  1 21  1  0\\n 22  1  1  6\\n 23  1  1  6\\n 24  1  1  6\\n  1 25  1  0\\n  2 10  1  0\\n  2 17  1  0\\n  2 18  1  0\\n  2 19  1  0\\n  3 26  1  0\\n  3 33  1  0\\n  3 34  1  0\\n  3 35  1  0\\n  5  4  1  1\\n  9  4  1  6\\n  4 10  2  0\\n  5  6  1  0\\n  6  7  1  0\\n  7  8  1  0\\n  8  9  1  0\\n 10 11  1  0\\n 11 12  2  0\\n 11 16  1  0\\n 12 13  1  0\\n 13 14  2  0\\n 14 15  1  0\\n 15 16  2  0\\n 21 20  1  6\\n 25 20  1  1\\n 20 26  2  0\\n 21 22  1  0\\n 22 23  1  0\\n 23 24  1  0\\n 24 25  1  0\\n 26 27  1  0\\n 27 28  2  0\\n 27 32  1  0\\n 28 29  1  0\\n 29 30  2  0\\n 30 31  1  0\\n 31 32  2  0\\nM  CHG  1   1  11\\nM  RAD  1   1   2\\nM  END\\n\");\n\tviewer_1648944696363953.setStyle({\"stick\": {}});\n\tviewer_1648944696363953.setStyle({\"serial\": [4, 0, 20]},{\"stick\": {\"color\": \"#f542f5\"}, \"sphere\": {\"radius\": 0.5, \"color\": \"#f542f5\"}});\n\tviewer_1648944696363953.setHoverable({},true,\"function(atom,viewer,event,container) {\\n                   if(!atom.label) {\\n                    atom.label = viewer.addLabel(atom.atom+\\\":\\\"+atom.index,{position: atom, backgroundColor: 'mintcream', fontColor:'black'});\\n                   }}\",\"function(atom,viewer) { \\n                   if(atom.label) {\\n                    viewer.removeLabel(atom.label);\\n                    delete atom.label;\\n                   }\\n                }\");\n\tviewer_1648944696363953.zoomTo();\nviewer_1648944696363953.render();\n});\n</script>",
      "text/html": [
       "<div id=\"3dmolviewer_1648944696363953\"  style=\"position: relative; width: 600px; height: 600px\">\n",
       "        <p id=\"3dmolwarning_1648944696363953\" style=\"background-color:#ffcccc;color:black\">You appear to be running in JupyterLab (or JavaScript failed to load for some other reason).  You need to install the 3dmol extension: <br>\n",
       "        <tt>jupyter labextension install jupyterlab_3dmol</tt></p>\n",
       "        </div>\n",
       "<script>\n",
       "\n",
       "var loadScriptAsync = function(uri){\n",
       "  return new Promise((resolve, reject) => {\n",
       "    var tag = document.createElement('script');\n",
       "    tag.src = uri;\n",
       "    tag.async = true;\n",
       "    tag.onload = () => {\n",
       "      resolve();\n",
       "    };\n",
       "  var firstScriptTag = document.getElementsByTagName('script')[0];\n",
       "  firstScriptTag.parentNode.insertBefore(tag, firstScriptTag);\n",
       "});\n",
       "};\n",
       "\n",
       "if(typeof $3Dmolpromise === 'undefined') {\n",
       "$3Dmolpromise = null;\n",
       "  $3Dmolpromise = loadScriptAsync('https://3dmol.org/build/3Dmol.js');\n",
       "}\n",
       "\n",
       "var viewer_1648944696363953 = null;\n",
       "var warn = document.getElementById(\"3dmolwarning_1648944696363953\");\n",
       "if(warn) {\n",
       "    warn.parentNode.removeChild(warn);\n",
       "}\n",
       "$3Dmolpromise.then(function() {\n",
       "viewer_1648944696363953 = $3Dmol.createViewer($(\"#3dmolviewer_1648944696363953\"),{backgroundColor:\"white\"});\n",
       "viewer_1648944696363953.zoomTo();\n",
       "\tviewer_1648944696363953.addModel(\"\\n     RDKit          3D\\n\\n 35 46  0  0  0  0  0  0  0  0999 V2000\\n    3.7900   11.5690    4.4260 Fe  0  0  0  0  0 10  0  0  0  0  0  0\\n    3.5240   10.1780   -0.2800 Si  0  0  0  0  0  4  0  0  0  0  0  0\\n    8.0110   12.2370    6.8380 Si  0  0  0  0  0  4  0  0  0  0  0  0\\n    4.0100    9.9530    2.5090 C   0  0  0  0  0  0  0  0  0  0  0  0\\n    2.7570   10.6550    2.8020 C   0  0  1  0  0  0  0  0  0  0  0  0\\n    2.0710   10.5230    4.0130 C   0  0  1  0  0  0  0  0  0  0  0  0\\n    2.7210    9.9660    5.1370 C   0  0  1  0  0  0  0  0  0  0  0  0\\n    4.0760    9.5960    4.9960 C   0  0  1  0  0  0  0  0  0  0  0  0\\n    4.7310    9.7480    3.7650 C   0  0  2  0  0  0  0  0  0  0  0  0\\n    4.5080    9.7550    1.2550 C   0  0  0  0  0  0  0  0  0  0  0  0\\n    5.8480    9.1180    1.0880 C   0  0  0  0  0  0  0  0  0  0  0  0\\n    6.1330    7.8720    1.6310 C   0  0  0  0  0  0  0  0  0  0  0  0\\n    7.3700    7.2810    1.4760 C   0  0  0  0  0  0  0  0  0  0  0  0\\n    8.3590    7.9140    0.7500 C   0  0  0  0  0  0  0  0  0  0  0  0\\n    8.1000    9.1330    0.1820 C   0  0  0  0  0  0  0  0  0  0  0  0\\n    6.8590    9.7410    0.3520 C   0  0  0  0  0  0  0  0  0  0  0  0\\n    3.3620   12.0260   -0.4960 C   0  0  0  0  0  0  0  0  0  0  0  0\\n    1.8130    9.4120   -0.2170 C   0  0  0  0  0  0  0  0  0  0  0  0\\n    4.3580    9.4720   -1.7990 C   0  0  0  0  0  0  0  0  0  0  0  0\\n    5.9270   12.7680    4.9830 C   0  0  0  0  0  0  0  0  0  0  0  0\\n    4.9120   12.4800    5.9970 C   0  0  1  0  0  0  0  0  0  0  0  0\\n    3.5990   12.9610    5.9210 C   0  0  1  0  0  0  0  0  0  0  0  0\\n    3.0990   13.4850    4.7060 C   0  0  1  0  0  0  0  0  0  0  0  0\\n    3.9560   13.4480    3.5850 C   0  0  1  0  0  0  0  0  0  0  0  0\\n    5.2610   12.9510    3.6910 C   0  0  2  0  0  0  0  0  0  0  0  0\\n    7.2770   12.6760    5.1790 C   0  0  0  0  0  0  0  0  0  0  0  0\\n    8.2140   12.8150    4.0190 C   0  0  0  0  0  0  0  0  0  0  0  0\\n    8.9930   13.9640    3.8580 C   0  0  0  0  0  0  0  0  0  0  0  0\\n    9.8770   14.0880    2.8050 C   0  0  0  0  0  0  0  0  0  0  0  0\\n   10.0270   13.0740    1.8930 C   0  0  0  0  0  0  0  0  0  0  0  0\\n    9.2860   11.9260    2.0360 C   0  0  0  0  0  0  0  0  0  0  0  0\\n    8.3810   11.8000    3.0870 C   0  0  0  0  0  0  0  0  0  0  0  0\\n    9.8640   12.3820    6.7840 C   0  0  0  0  0  0  0  0  0  0  0  0\\n    7.4030   13.3110    8.2280 C   0  0  0  0  0  0  0  0  0  0  0  0\\n    7.6090   10.4440    7.2140 C   0  0  0  0  0  0  0  0  0  0  0  0\\n  1  5  1  0\\n  6  1  1  1\\n  7  1  1  1\\n  8  1  1  1\\n  1  9  1  0\\n  1 21  1  0\\n 22  1  1  6\\n 23  1  1  6\\n 24  1  1  6\\n  1 25  1  0\\n  2 10  1  0\\n  2 17  1  0\\n  2 18  1  0\\n  2 19  1  0\\n  3 26  1  0\\n  3 33  1  0\\n  3 34  1  0\\n  3 35  1  0\\n  5  4  1  1\\n  9  4  1  6\\n  4 10  2  0\\n  5  6  1  0\\n  6  7  1  0\\n  7  8  1  0\\n  8  9  1  0\\n 10 11  1  0\\n 11 12  2  0\\n 11 16  1  0\\n 12 13  1  0\\n 13 14  2  0\\n 14 15  1  0\\n 15 16  2  0\\n 21 20  1  6\\n 25 20  1  1\\n 20 26  2  0\\n 21 22  1  0\\n 22 23  1  0\\n 23 24  1  0\\n 24 25  1  0\\n 26 27  1  0\\n 27 28  2  0\\n 27 32  1  0\\n 28 29  1  0\\n 29 30  2  0\\n 30 31  1  0\\n 31 32  2  0\\nM  CHG  1   1  11\\nM  RAD  1   1   2\\nM  END\\n\");\n",
       "\tviewer_1648944696363953.setStyle({\"stick\": {}});\n",
       "\tviewer_1648944696363953.setStyle({\"serial\": [4, 0, 20]},{\"stick\": {\"color\": \"#f542f5\"}, \"sphere\": {\"radius\": 0.5, \"color\": \"#f542f5\"}});\n",
       "\tviewer_1648944696363953.setHoverable({},true,\"function(atom,viewer,event,container) {\\n                   if(!atom.label) {\\n                    atom.label = viewer.addLabel(atom.atom+\\\":\\\"+atom.index,{position: atom, backgroundColor: 'mintcream', fontColor:'black'});\\n                   }}\",\"function(atom,viewer) { \\n                   if(atom.label) {\\n                    viewer.removeLabel(atom.label);\\n                    delete atom.label;\\n                   }\\n                }\");\n",
       "\tviewer_1648944696363953.zoomTo();\n",
       "viewer_1648944696363953.render();\n",
       "});\n",
       "</script>"
      ]
     },
     "metadata": {},
     "output_type": "display_data"
    },
    {
     "data": {
      "text/plain": [
       "<py3Dmol.view at 0x7f54c458e190>"
      ]
     },
     "execution_count": 68,
     "metadata": {},
     "output_type": "execute_result"
    }
   ],
   "source": [
    "sel = np.argmax(error)\n",
    "print(\"Ref:\",a[sel],\"Pred:\",b[sel])\n",
    "fragment = fragments[sel]\n",
    "show.show_fragment(fragment,show3d=True)"
   ]
  },
  {
   "cell_type": "code",
   "execution_count": 35,
   "id": "0d55f4ae-c83c-42e6-86cc-a0eb97e43bf5",
   "metadata": {},
   "outputs": [
    {
     "name": "stdout",
     "output_type": "stream",
     "text": [
      "Ref: 164.75269 Pred: 134.2014\n"
     ]
    },
    {
     "data": {
      "application/3dmoljs_load.v0": "<div id=\"3dmolviewer_16489436769170952\"  style=\"position: relative; width: 600px; height: 600px\">\n        <p id=\"3dmolwarning_16489436769170952\" style=\"background-color:#ffcccc;color:black\">You appear to be running in JupyterLab (or JavaScript failed to load for some other reason).  You need to install the 3dmol extension: <br>\n        <tt>jupyter labextension install jupyterlab_3dmol</tt></p>\n        </div>\n<script>\n\nvar loadScriptAsync = function(uri){\n  return new Promise((resolve, reject) => {\n    var tag = document.createElement('script');\n    tag.src = uri;\n    tag.async = true;\n    tag.onload = () => {\n      resolve();\n    };\n  var firstScriptTag = document.getElementsByTagName('script')[0];\n  firstScriptTag.parentNode.insertBefore(tag, firstScriptTag);\n});\n};\n\nif(typeof $3Dmolpromise === 'undefined') {\n$3Dmolpromise = null;\n  $3Dmolpromise = loadScriptAsync('https://3dmol.org/build/3Dmol.js');\n}\n\nvar viewer_16489436769170952 = null;\nvar warn = document.getElementById(\"3dmolwarning_16489436769170952\");\nif(warn) {\n    warn.parentNode.removeChild(warn);\n}\n$3Dmolpromise.then(function() {\nviewer_16489436769170952 = $3Dmol.createViewer($(\"#3dmolviewer_16489436769170952\"),{backgroundColor:\"white\"});\nviewer_16489436769170952.zoomTo();\n\tviewer_16489436769170952.addModel(\"\\n     RDKit          3D\\n\\n 22 33  0  0  0  0  0  0  0  0999 V2000\\n    6.1300    1.3040    6.7040 C   0  0  0  0  0  0  0  0  0  0  0  0\\n    1.9080    0.4700    2.1330 Fe  0  0  0  0  0 10  0  0  0  0  0  0\\n    5.7310    3.4560    4.9770 S   0  0  0  0  0  0  0  0  0  0  0  0\\n    6.3900   -0.6890    8.0710 O   0  0  0  0  0  0  0  0  0  0  0  0\\n    5.7180    0.0580    7.1420 C   0  0  0  0  0  0  0  0  0  0  0  0\\n    4.1660    1.3900    5.2010 C   0  0  0  0  0  0  0  0  0  0  0  0\\n    3.5790    2.2370    4.1750 C   0  0  0  0  0  0  0  0  0  0  0  0\\n    5.3470    1.9420    5.7310 C   0  0  0  0  0  0  0  0  0  0  0  0\\n    4.5520   -0.5370    6.6150 C   0  0  0  0  0  0  0  0  0  0  0  0\\n    3.7850    0.1130    5.6680 C   0  0  0  0  0  0  0  0  0  0  0  0\\n    2.2160   -1.5250    2.4480 C   0  0  1  0  0  0  0  0  0  0  0  0\\n    4.3320    3.3530    3.9660 C   0  0  0  0  0  0  0  0  0  0  0  0\\n    7.5860   -0.1240    8.6170 C   0  0  0  0  0  0  0  0  0  0  0  0\\n    2.3300    1.9920    3.4420 C   0  0  2  0  0  0  0  0  0  0  0  0\\n    1.1770    1.2520    3.8700 C   0  0  1  0  0  0  0  0  0  0  0  0\\n    1.4130   -1.3260    1.2850 C   0  0  2  0  0  0  0  0  0  0  0  0\\n    3.4540   -0.8560    2.2480 C   0  0  1  0  0  0  0  0  0  0  0  0\\n    2.1560   -0.5370    0.3630 C   0  0  2  0  0  0  0  0  0  0  0  0\\n    2.0420    2.5110    2.1290 C   0  0  2  0  0  0  0  0  0  0  0  0\\n    3.4220   -0.2490    0.9600 C   0  0  1  0  0  0  0  0  0  0  0  0\\n    0.1950    1.3230    2.8260 C   0  0  1  0  0  0  0  0  0  0  0  0\\n    0.7270    2.1010    1.7680 C   0  0  2  0  0  0  0  0  0  0  0  0\\n  1  5  1  0\\n  1  8  2  0\\n 11  2  1  1\\n  2 14  1  0\\n 15  2  1  6\\n 16  2  1  1\\n 17  2  1  1\\n 18  2  1  1\\n 19  2  1  6\\n 20  2  1  1\\n 21  2  1  6\\n 22  2  1  6\\n  3  8  1  0\\n  3 12  1  0\\n  4  5  1  0\\n  4 13  1  0\\n  5  9  2  0\\n  6  7  1  0\\n  6  8  1  0\\n  6 10  2  0\\n  7 12  2  0\\n 14  7  1  1\\n  9 10  1  0\\n 11 16  1  0\\n 11 17  1  0\\n 14 15  1  0\\n 14 19  1  0\\n 15 21  1  0\\n 16 18  1  0\\n 17 20  1  0\\n 18 20  1  0\\n 19 22  1  0\\n 21 22  1  0\\nM  CHG  1   2  11\\nM  RAD  1   2   2\\nM  END\\n\");\n\tviewer_16489436769170952.setStyle({\"stick\": {}});\n\tviewer_16489436769170952.setStyle({\"serial\": [10, 1, 18]},{\"stick\": {\"color\": \"#f542f5\"}, \"sphere\": {\"radius\": 0.5, \"color\": \"#f542f5\"}});\n\tviewer_16489436769170952.setHoverable({},true,\"function(atom,viewer,event,container) {\\n                   if(!atom.label) {\\n                    atom.label = viewer.addLabel(atom.atom+\\\":\\\"+atom.index,{position: atom, backgroundColor: 'mintcream', fontColor:'black'});\\n                   }}\",\"function(atom,viewer) { \\n                   if(atom.label) {\\n                    viewer.removeLabel(atom.label);\\n                    delete atom.label;\\n                   }\\n                }\");\n\tviewer_16489436769170952.zoomTo();\nviewer_16489436769170952.render();\n});\n</script>",
      "text/html": [
       "<div id=\"3dmolviewer_16489436769170952\"  style=\"position: relative; width: 600px; height: 600px\">\n",
       "        <p id=\"3dmolwarning_16489436769170952\" style=\"background-color:#ffcccc;color:black\">You appear to be running in JupyterLab (or JavaScript failed to load for some other reason).  You need to install the 3dmol extension: <br>\n",
       "        <tt>jupyter labextension install jupyterlab_3dmol</tt></p>\n",
       "        </div>\n",
       "<script>\n",
       "\n",
       "var loadScriptAsync = function(uri){\n",
       "  return new Promise((resolve, reject) => {\n",
       "    var tag = document.createElement('script');\n",
       "    tag.src = uri;\n",
       "    tag.async = true;\n",
       "    tag.onload = () => {\n",
       "      resolve();\n",
       "    };\n",
       "  var firstScriptTag = document.getElementsByTagName('script')[0];\n",
       "  firstScriptTag.parentNode.insertBefore(tag, firstScriptTag);\n",
       "});\n",
       "};\n",
       "\n",
       "if(typeof $3Dmolpromise === 'undefined') {\n",
       "$3Dmolpromise = null;\n",
       "  $3Dmolpromise = loadScriptAsync('https://3dmol.org/build/3Dmol.js');\n",
       "}\n",
       "\n",
       "var viewer_16489436769170952 = null;\n",
       "var warn = document.getElementById(\"3dmolwarning_16489436769170952\");\n",
       "if(warn) {\n",
       "    warn.parentNode.removeChild(warn);\n",
       "}\n",
       "$3Dmolpromise.then(function() {\n",
       "viewer_16489436769170952 = $3Dmol.createViewer($(\"#3dmolviewer_16489436769170952\"),{backgroundColor:\"white\"});\n",
       "viewer_16489436769170952.zoomTo();\n",
       "\tviewer_16489436769170952.addModel(\"\\n     RDKit          3D\\n\\n 22 33  0  0  0  0  0  0  0  0999 V2000\\n    6.1300    1.3040    6.7040 C   0  0  0  0  0  0  0  0  0  0  0  0\\n    1.9080    0.4700    2.1330 Fe  0  0  0  0  0 10  0  0  0  0  0  0\\n    5.7310    3.4560    4.9770 S   0  0  0  0  0  0  0  0  0  0  0  0\\n    6.3900   -0.6890    8.0710 O   0  0  0  0  0  0  0  0  0  0  0  0\\n    5.7180    0.0580    7.1420 C   0  0  0  0  0  0  0  0  0  0  0  0\\n    4.1660    1.3900    5.2010 C   0  0  0  0  0  0  0  0  0  0  0  0\\n    3.5790    2.2370    4.1750 C   0  0  0  0  0  0  0  0  0  0  0  0\\n    5.3470    1.9420    5.7310 C   0  0  0  0  0  0  0  0  0  0  0  0\\n    4.5520   -0.5370    6.6150 C   0  0  0  0  0  0  0  0  0  0  0  0\\n    3.7850    0.1130    5.6680 C   0  0  0  0  0  0  0  0  0  0  0  0\\n    2.2160   -1.5250    2.4480 C   0  0  1  0  0  0  0  0  0  0  0  0\\n    4.3320    3.3530    3.9660 C   0  0  0  0  0  0  0  0  0  0  0  0\\n    7.5860   -0.1240    8.6170 C   0  0  0  0  0  0  0  0  0  0  0  0\\n    2.3300    1.9920    3.4420 C   0  0  2  0  0  0  0  0  0  0  0  0\\n    1.1770    1.2520    3.8700 C   0  0  1  0  0  0  0  0  0  0  0  0\\n    1.4130   -1.3260    1.2850 C   0  0  2  0  0  0  0  0  0  0  0  0\\n    3.4540   -0.8560    2.2480 C   0  0  1  0  0  0  0  0  0  0  0  0\\n    2.1560   -0.5370    0.3630 C   0  0  2  0  0  0  0  0  0  0  0  0\\n    2.0420    2.5110    2.1290 C   0  0  2  0  0  0  0  0  0  0  0  0\\n    3.4220   -0.2490    0.9600 C   0  0  1  0  0  0  0  0  0  0  0  0\\n    0.1950    1.3230    2.8260 C   0  0  1  0  0  0  0  0  0  0  0  0\\n    0.7270    2.1010    1.7680 C   0  0  2  0  0  0  0  0  0  0  0  0\\n  1  5  1  0\\n  1  8  2  0\\n 11  2  1  1\\n  2 14  1  0\\n 15  2  1  6\\n 16  2  1  1\\n 17  2  1  1\\n 18  2  1  1\\n 19  2  1  6\\n 20  2  1  1\\n 21  2  1  6\\n 22  2  1  6\\n  3  8  1  0\\n  3 12  1  0\\n  4  5  1  0\\n  4 13  1  0\\n  5  9  2  0\\n  6  7  1  0\\n  6  8  1  0\\n  6 10  2  0\\n  7 12  2  0\\n 14  7  1  1\\n  9 10  1  0\\n 11 16  1  0\\n 11 17  1  0\\n 14 15  1  0\\n 14 19  1  0\\n 15 21  1  0\\n 16 18  1  0\\n 17 20  1  0\\n 18 20  1  0\\n 19 22  1  0\\n 21 22  1  0\\nM  CHG  1   2  11\\nM  RAD  1   2   2\\nM  END\\n\");\n",
       "\tviewer_16489436769170952.setStyle({\"stick\": {}});\n",
       "\tviewer_16489436769170952.setStyle({\"serial\": [10, 1, 18]},{\"stick\": {\"color\": \"#f542f5\"}, \"sphere\": {\"radius\": 0.5, \"color\": \"#f542f5\"}});\n",
       "\tviewer_16489436769170952.setHoverable({},true,\"function(atom,viewer,event,container) {\\n                   if(!atom.label) {\\n                    atom.label = viewer.addLabel(atom.atom+\\\":\\\"+atom.index,{position: atom, backgroundColor: 'mintcream', fontColor:'black'});\\n                   }}\",\"function(atom,viewer) { \\n                   if(atom.label) {\\n                    viewer.removeLabel(atom.label);\\n                    delete atom.label;\\n                   }\\n                }\");\n",
       "\tviewer_16489436769170952.zoomTo();\n",
       "viewer_16489436769170952.render();\n",
       "});\n",
       "</script>"
      ]
     },
     "metadata": {},
     "output_type": "display_data"
    },
    {
     "data": {
      "text/plain": [
       "<py3Dmol.view at 0x7f587e2ee550>"
      ]
     },
     "execution_count": 35,
     "metadata": {},
     "output_type": "execute_result"
    }
   ],
   "source": [
    "sel = sels[300]\n",
    "print(\"Ref:\",a[sel],\"Pred:\",b[sel])\n",
    "fragment = fragments[sel]\n",
    "show.show_fragment(fragment,show3d=True)"
   ]
  },
  {
   "cell_type": "code",
   "execution_count": null,
   "id": "409fc9c9-038a-45c7-bc29-3374e7a70315",
   "metadata": {},
   "outputs": [],
   "source": []
  }
 ],
 "metadata": {
  "kernelspec": {
   "display_name": "Python 3 (ipykernel)",
   "language": "python",
   "name": "python3"
  },
  "language_info": {
   "codemirror_mode": {
    "name": "ipython",
    "version": 3
   },
   "file_extension": ".py",
   "mimetype": "text/x-python",
   "name": "python",
   "nbconvert_exporter": "python",
   "pygments_lexer": "ipython3",
   "version": "3.9.7"
  }
 },
 "nbformat": 4,
 "nbformat_minor": 5
}
