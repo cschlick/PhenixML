{
 "cells": [
  {
   "cell_type": "code",
   "execution_count": null,
   "id": "7476bd3b-4b14-4975-81da-70e328fb56d5",
   "metadata": {},
   "outputs": [],
   "source": [
    "from math import sin\n",
    "from random import random\n",
    "from bokeh.resources import INLINE\n",
    "import bokeh.io\n",
    "from bokeh import *\n",
    "bokeh.io.output_notebook(INLINE)\n",
    "from bokeh.io import output_file, show\n",
    "from bokeh.models import ColumnDataSource, HoverTool, LinearColorMapper\n",
    "from bokeh.palettes import plasma\n",
    "from bokeh.plotting import figure\n",
    "from bokeh.transform import transform\n",
    "\n",
    "list_x = list(range(100))\n",
    "list_y = [random() + sin(i / 20) for i in range(100)]\n",
    "desc = [str(i) for i in list_y]\n",
    "\n",
    "source = ColumnDataSource(data=dict(x=list_x, y=list_y, desc=desc))\n",
    "hover = HoverTool(tooltips=[\n",
    "    (\"index\", \"$index\"),\n",
    "    (\"(x,y)\", \"(@x, @y)\"),\n",
    "    ('desc', '@desc'),\n",
    "])\n",
    "mapper = LinearColorMapper(palette=plasma(256), low=min(list_y), high=max(list_y))\n",
    "\n",
    "p = figure(plot_width=400, plot_height=400, tools=[hover], title=\"Belgian test\")\n",
    "p.circle('x', 'y', size=10, source=source,\n",
    "         fill_color=transform('y', mapper))\n",
    "\n",
    "output_file('test.html')\n",
    "show(p)"
   ]
  }
 ],
 "metadata": {
  "kernelspec": {
   "display_name": "Python 3 (ipykernel)",
   "language": "python",
   "name": "python3"
  },
  "language_info": {
   "codemirror_mode": {
    "name": "ipython",
    "version": 3
   },
   "file_extension": ".py",
   "mimetype": "text/x-python",
   "name": "python",
   "nbconvert_exporter": "python",
   "pygments_lexer": "ipython3",
   "version": "3.9.7"
  }
 },
 "nbformat": 4,
 "nbformat_minor": 5
}
