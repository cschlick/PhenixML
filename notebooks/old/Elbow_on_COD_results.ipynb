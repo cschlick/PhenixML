{
 "cells": [
  {
   "cell_type": "code",
   "execution_count": 31,
   "id": "479e71a2-cb51-48e8-9165-42908ad4e7fa",
   "metadata": {},
   "outputs": [],
   "source": [
    "import sys\n",
    "sys.path.append(\"../../../GeoParsing/\")\n",
    "sys.path.append(\"..\")\n",
    "\n",
    "import rdkit\n",
    "from rdkit import Chem\n",
    "from rdkit.Chem import rdMolTransforms "
   ]
  },
  {
   "cell_type": "code",
   "execution_count": 25,
   "id": "36601335-c9a0-476f-9347-4bd4f1ce887b",
   "metadata": {},
   "outputs": [],
   "source": [
    "from phenixml.utils.rdkit_utils import enumerate_bonds, enumerate_angles\n",
    "from geocif_to_rdkit import GeoCif\n",
    "from pathlib import Path"
   ]
  },
  {
   "cell_type": "code",
   "execution_count": 7,
   "id": "752e8a41-ce1d-422e-abaa-8b2c7bbfd7f3",
   "metadata": {},
   "outputs": [],
   "source": [
    "working_dir = Path(\"/dev/shm/cschlick/Elbow_on_COD\")\n",
    "files = [file for file in working_dir.glob(\"**/*\") if file.suffix == \".cif\"]"
   ]
  },
  {
   "cell_type": "code",
   "execution_count": 11,
   "id": "44854130-9685-49db-827c-f59308a6db12",
   "metadata": {},
   "outputs": [],
   "source": [
    "file = files[0]\n",
    "geocif = GeoCif(file)"
   ]
  },
  {
   "cell_type": "code",
   "execution_count": 22,
   "id": "a3e1f580-0c08-435e-a198-8b47fdfb798f",
   "metadata": {},
   "outputs": [
    {
     "data": {
      "text/plain": [
       "[PosixPath('/dev/shm/cschlick/Elbow_on_COD/cif/7/70/03/7700355/elbow.L02.7700355_mol.001.cif'),\n",
       " PosixPath('/dev/shm/cschlick/Elbow_on_COD/cif/7/70/03/7700355/elbow.L01.7700355_mol.001.cif'),\n",
       " PosixPath('/dev/shm/cschlick/Elbow_on_COD/cif/7/70/03/7700352/elbow.L01.7700352_mol.001.cif'),\n",
       " PosixPath('/dev/shm/cschlick/Elbow_on_COD/cif/7/70/04/7700422/elbow.7700422_mol.001.cif'),\n",
       " PosixPath('/dev/shm/cschlick/Elbow_on_COD/cif/7/70/04/7700420/elbow.7700420_mol.001.cif'),\n",
       " PosixPath('/dev/shm/cschlick/Elbow_on_COD/cif/7/70/07/7700740/elbow.7700740_mol.001.cif'),\n",
       " PosixPath('/dev/shm/cschlick/Elbow_on_COD/cif/7/70/07/7700737/elbow.7700737_mol.001.cif'),\n",
       " PosixPath('/dev/shm/cschlick/Elbow_on_COD/cif/7/70/07/7700739/elbow.7700739_mol.001.cif'),\n",
       " PosixPath('/dev/shm/cschlick/Elbow_on_COD/cif/7/70/07/7700739/elbow.L02.7700739_mol.001.cif'),\n",
       " PosixPath('/dev/shm/cschlick/Elbow_on_COD/cif/7/70/07/7700739/elbow.L01.7700739_mol.001.cif')]"
      ]
     },
     "execution_count": 22,
     "metadata": {},
     "output_type": "execute_result"
    }
   ],
   "source": [
    "files[:10]"
   ]
  },
  {
   "cell_type": "code",
   "execution_count": 14,
   "id": "a364f4d9-facc-4bf3-851b-b77b5688b6ab",
   "metadata": {},
   "outputs": [],
   "source": [
    "geocif.parse()"
   ]
  },
  {
   "cell_type": "code",
   "execution_count": 50,
   "id": "7ad45ac9-1859-4253-a729-82a339c7e5a8",
   "metadata": {},
   "outputs": [
    {
     "name": "stdout",
     "output_type": "stream",
     "text": [
      "  C5   S0   C9 101.39\n",
      "  C1   S0   C9 101.91\n",
      "  C1   S0   C5 102.77\n"
     ]
    }
   ],
   "source": [
    "mol = geocif.rdmol\n",
    "conf = mol.GetConformer()\n",
    "angles = enumerate_angles(mol)\n",
    "for a,b,c in angles:\n",
    "  a,b,c = int(a),int(b),int(c)\n",
    "  atom0,atom1,atom2 = mol.GetAtomWithIdx(a), mol.GetAtomWithIdx(b), mol.GetAtomWithIdx(c)\n",
    "  angle = rdMolTransforms.GetAngleDeg(conf,a,b,c)\n",
    "  e0,e1,e2 = atom0.GetSymbol(), atom1.GetSymbol(), atom2.GetSymbol()\n",
    "  a,b,c = str(a), str(b), str(c)\n",
    "  label = \" \".join([(e0+a).rjust(4), (e1+b).rjust(4), (e2+c).rjust(4),str(round(angle,2))])\n",
    "  if \"H\" not in label:\n",
    "    print(label)"
   ]
  },
  {
   "cell_type": "code",
   "execution_count": 47,
   "id": "3f617ea3-618a-49cb-b464-d56ce6933adb",
   "metadata": {},
   "outputs": [
    {
     "data": {
      "text/plain": [
       "('  C1', '  S0', '  C5', 102.77)"
      ]
     },
     "execution_count": 47,
     "metadata": {},
     "output_type": "execute_result"
    }
   ],
   "source": [
    "labels"
   ]
  },
  {
   "cell_type": "code",
   "execution_count": 21,
   "id": "054e92c5-c0ad-4816-a4a3-b33683aedf10",
   "metadata": {},
   "outputs": [
    {
     "data": {
      "text/plain": [
       "['comp_list', 'comp_L02']"
      ]
     },
     "execution_count": 21,
     "metadata": {},
     "output_type": "execute_result"
    }
   ],
   "source": []
  },
  {
   "cell_type": "code",
   "execution_count": null,
   "id": "476490b1-ec14-409b-8dd3-789d92af1b9d",
   "metadata": {},
   "outputs": [],
   "source": []
  }
 ],
 "metadata": {
  "kernelspec": {
   "display_name": "Python 3 (ipykernel)",
   "language": "python",
   "name": "python3"
  },
  "language_info": {
   "codemirror_mode": {
    "name": "ipython",
    "version": 3
   },
   "file_extension": ".py",
   "mimetype": "text/x-python",
   "name": "python",
   "nbconvert_exporter": "python",
   "pygments_lexer": "ipython3",
   "version": "3.9.7"
  }
 },
 "nbformat": 4,
 "nbformat_minor": 5
}
