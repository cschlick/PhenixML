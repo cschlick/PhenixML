{
 "cells": [
  {
   "cell_type": "code",
   "execution_count": 1,
   "id": "august-watts",
   "metadata": {},
   "outputs": [],
   "source": [
    "import sys\n",
    "sys.path.append(\"../../\")\n",
    "from multiprocessing import Pool\n",
    "import tqdm\n",
    "import pickle\n",
    "from pathlib import Path\n",
    "from contextlib import closing\n",
    "from rdkit import Chem\n",
    "import numpy as np\n",
    "import pandas as pd"
   ]
  },
  {
   "cell_type": "markdown",
   "id": "b26c5261-b5de-466d-a397-5332c9a7feb0",
   "metadata": {},
   "source": [
    "# Load fragmentation results"
   ]
  },
  {
   "cell_type": "code",
   "execution_count": 2,
   "id": "dressed-black",
   "metadata": {},
   "outputs": [
    {
     "name": "stdout",
     "output_type": "stream",
     "text": [
      "CPU times: user 26.6 s, sys: 7.68 s, total: 34.3 s\n",
      "Wall time: 34.5 s\n"
     ]
    }
   ],
   "source": [
    "%%time\n",
    "fragments_path = Path(\"/net/cci/cschlick/Filtered_COD3/fragmentation_results.pkl\")\n",
    "with fragments_path.open(\"rb\") as fh:\n",
    "  fragmentation_results = pickle.load(fh)"
   ]
  },
  {
   "cell_type": "markdown",
   "id": "41f300ad-43e9-425d-88ca-534c8c3a2597",
   "metadata": {},
   "source": [
    "## Featurize fragments"
   ]
  },
  {
   "cell_type": "code",
   "execution_count": 5,
   "id": "intimate-thomson",
   "metadata": {},
   "outputs": [],
   "source": [
    "from phenixml.featurizers.ani_featurizer import ANIFeaturizer"
   ]
  },
  {
   "cell_type": "code",
   "execution_count": 6,
   "id": "daily-liberty",
   "metadata": {},
   "outputs": [],
   "source": [
    "# elements and parameters\n",
    "covalent_organic = [\"O\",\"C\",\"H\",\"N\",\"P\",\"S\",\"Cl\",\"B\",\"F\",\"I\",\"Br\"]\n",
    "metals = [\"Na\",\"K\",\"Ca\",\"Fe\",\"Mn\",\"Zn\",\"Mg\",\"Cu\",\"Co\"]\n",
    "\n",
    "params = {'radial_cutoff': 4.6,\n",
    " 'radial_nu': 32,\n",
    " 'radial_probes': [0.7,\n",
    "                  1.4,\n",
    "                  1.9,\n",
    "                  2.4,\n",
    "                  3.2,\n",
    "                  3.8,\n",
    "                  4.4],\n",
    " 'angular_cutoff': 3.1,\n",
    " 'angular_nu': 4,\n",
    " 'angular_probes': [0.0, 1.57, 3.14, 4.71],\n",
    " 'angular_radial_probes': [0.7,1.4,1.9,2.4],\n",
    " 'angular_zeta': 8,\n",
    " 'min_probed_value': 0.0,\n",
    " 'exclude_hydrogens': False,\n",
    " 'elements_considered': covalent_organic}"
   ]
  },
  {
   "cell_type": "code",
   "execution_count": 7,
   "id": "digital-cliff",
   "metadata": {},
   "outputs": [],
   "source": [
    "mode = \"bond\"\n",
    "if mode == \"angle\":\n",
    "  fragment_key = \"angle_fragments\"\n",
    "elif mode == \"bond\":\n",
    "  fragment_key = \"bond_fragments\"\n",
    "\n",
    "def worker(result):\n",
    "  frags = result[fragment_key]\n",
    "  featurizer = ANIFeaturizer.from_bond_angle_frags(frags,params)\n",
    "  if featurizer is None:\n",
    "    return None\n",
    "  else:\n",
    "    return (featurizer.featurize(),frags)\n",
    "\n"
   ]
  },
  {
   "cell_type": "code",
   "execution_count": 8,
   "id": "fallen-bronze",
   "metadata": {},
   "outputs": [
    {
     "name": "stderr",
     "output_type": "stream",
     "text": [
      "100%|██████████| 63018/63018 [00:00<00:00, 1665353.93it/s]\n"
     ]
    }
   ],
   "source": [
    "work = fragmentation_results\n",
    "with closing(Pool(processes=32)) as pool:\n",
    "  features = []\n",
    "  for result in tqdm.tqdm(pool.map(worker, work), total=len(work)):\n",
    "      features.append(result)\n",
    "  pool.terminate()"
   ]
  },
  {
   "cell_type": "code",
   "execution_count": 34,
   "id": "increased-dependence",
   "metadata": {},
   "outputs": [
    {
     "name": "stdout",
     "output_type": "stream",
     "text": [
      "(32954, 1133)\n"
     ]
    }
   ],
   "source": [
    "X = []\n",
    "bond_fragments = []\n",
    "for i,feature in enumerate(features):\n",
    "  if feature is not None:\n",
    "    bond_fragments+=fragmentation_results[i][fragment_key]\n",
    "    X.append(feature)\n",
    "X = np.vstack(X)\n",
    "print(X.shape)"
   ]
  },
  {
   "cell_type": "code",
   "execution_count": null,
   "id": "50c4960b-4422-40cd-857f-f173e770614c",
   "metadata": {},
   "outputs": [],
   "source": []
  },
  {
   "cell_type": "code",
   "execution_count": null,
   "id": "06321fe0-9ce6-461f-8112-a8bf451662e3",
   "metadata": {},
   "outputs": [],
   "source": []
  },
  {
   "cell_type": "code",
   "execution_count": null,
   "id": "eda845ae-ec22-440d-bb5f-2b2c27a1b0b4",
   "metadata": {},
   "outputs": [],
   "source": []
  },
  {
   "cell_type": "code",
   "execution_count": 35,
   "id": "mounted-silly",
   "metadata": {},
   "outputs": [],
   "source": [
    "from sklearn.ensemble import RandomForestRegressor\n",
    "from sklearn.model_selection import train_test_split"
   ]
  },
  {
   "cell_type": "code",
   "execution_count": 36,
   "id": "gentle-exhaust",
   "metadata": {},
   "outputs": [],
   "source": [
    "if mode ==\"bond\":\n",
    "\n",
    "  y =  np.array([frag.properties[\"bond_length\"] for frag in bond_fragments])\n",
    "  space = np.arange(X.shape[0])\n",
    "  train, test = train_test_split(space,test_size=0.2)\n",
    "  frags_train, frags_test = [bond_fragments[i] for i in train], [bond_fragments[i] for i in test]\n",
    "elif mode == \"angle\":\n",
    "  X = angle_features\n",
    "  y =  np.array([frag.properties[\"angle_deg\"] for frag in angle_fragments])\n",
    "  train, test = train_test_split(space,test_size=0.2)\n",
    "  frags_train, frags_test = [angle_fragments[i] for i in train], [angle_fragments[i] for i in test]\n",
    "  \n",
    "X_train, X_test = X[train],X[test]\n",
    "y_train, y_test = y[train],y[test]"
   ]
  },
  {
   "cell_type": "code",
   "execution_count": 45,
   "id": "breeding-pressing",
   "metadata": {},
   "outputs": [],
   "source": [
    "regressor = RandomForestRegressor(n_estimators=100,min_samples_split=100,min_samples_leaf=20, random_state=0,n_jobs=-1)"
   ]
  },
  {
   "cell_type": "code",
   "execution_count": 52,
   "id": "a8d3856f-d4b1-4cac-8833-91e6ffe15cda",
   "metadata": {},
   "outputs": [
    {
     "name": "stdout",
     "output_type": "stream",
     "text": [
      "Compressed Random Forest: 1.29 MB\n"
     ]
    }
   ],
   "source": [
    "import joblib\n",
    "import os\n",
    "joblib.dump(regressor, \"tmp.joblib\", compress=3)  # compression is ON!\n",
    "print(f\"Compressed Random Forest: {np.round(os.path.getsize('tmp.joblib') / 1024 / 1024, 2) } MB\")"
   ]
  },
  {
   "cell_type": "code",
   "execution_count": null,
   "id": "ba25f0b1-93b3-4b5b-bcec-af20c0c61310",
   "metadata": {},
   "outputs": [],
   "source": []
  },
  {
   "cell_type": "code",
   "execution_count": null,
   "id": "76bae23f-43b3-441d-a56d-c4028adf3a04",
   "metadata": {},
   "outputs": [],
   "source": []
  },
  {
   "cell_type": "code",
   "execution_count": 46,
   "id": "affecting-nightmare",
   "metadata": {},
   "outputs": [
    {
     "name": "stdout",
     "output_type": "stream",
     "text": [
      "CPU times: user 9min 23s, sys: 1.2 s, total: 9min 25s\n",
      "Wall time: 8.32 s\n"
     ]
    },
    {
     "data": {
      "text/plain": [
       "RandomForestRegressor(min_samples_leaf=20, min_samples_split=100, n_jobs=-1,\n",
       "                      random_state=0)"
      ]
     },
     "execution_count": 46,
     "metadata": {},
     "output_type": "execute_result"
    }
   ],
   "source": [
    "%%time\n",
    "regressor.fit(X_train,y_train)"
   ]
  },
  {
   "cell_type": "code",
   "execution_count": 47,
   "id": "funky-partner",
   "metadata": {},
   "outputs": [],
   "source": [
    "y_pred = regressor.predict(X_test)"
   ]
  },
  {
   "cell_type": "code",
   "execution_count": 48,
   "id": "material-symphony",
   "metadata": {},
   "outputs": [
    {
     "data": {
      "text/plain": [
       "Text(0, 0.5, 'Predicted')"
      ]
     },
     "execution_count": 48,
     "metadata": {},
     "output_type": "execute_result"
    },
    {
     "data": {
      "image/png": "[encoded data removed]",
      "text/plain": [
       "<Figure size 432x288 with 1 Axes>"
      ]
     },
     "metadata": {
      "needs_background": "light"
     },
     "output_type": "display_data"
    }
   ],
   "source": [
    "df = pd.DataFrame({\"dists\":y_test.flatten(),\"pred\":y_pred.flatten()})\n",
    "ax = df.plot.scatter(\"dists\",\"pred\",s=0.25)\n",
    "if mode == \"bond\":\n",
    "  ax.set_xlim(1,1.8)\n",
    "  ax.set_ylim(1,1.8)\n",
    "elif mode == \"angle\":\n",
    "  ax.set_xlim(50,140)\n",
    "  ax.set_ylim(50,140)\n",
    "ax.plot([0,200],[0,200],color=\"black\")\n",
    "ax.set_xlabel(\"Experimental\",fontsize=14)\n",
    "ax.set_ylabel(\"Predicted\",fontsize=14)"
   ]
  },
  {
   "cell_type": "code",
   "execution_count": null,
   "id": "completed-noise",
   "metadata": {},
   "outputs": [],
   "source": [
    "from sklearn.metrics import mean_squared_error\n",
    "import seaborn as sns\n",
    "residuals = y_test-y_pred\n",
    "sns.histplot(residuals)"
   ]
  },
  {
   "cell_type": "code",
   "execution_count": null,
   "id": "identical-notion",
   "metadata": {},
   "outputs": [],
   "source": [
    "rmse = np.sqrt(mean_squared_error(y_test,y_pred))\n",
    "print(\"RMSE:\",rmse)"
   ]
  },
  {
   "cell_type": "markdown",
   "id": "d170e42f-792d-4e0e-a7fc-b606c23b2c05",
   "metadata": {},
   "source": [
    "## Predict some single molecules"
   ]
  },
  {
   "cell_type": "code",
   "execution_count": null,
   "id": "60b66f14-0c76-49f2-8b4b-bd437d2b0176",
   "metadata": {},
   "outputs": [],
   "source": []
  },
  {
   "cell_type": "code",
   "execution_count": null,
   "id": "fa0a8d71-f6de-4cfa-b64a-49099162fa02",
   "metadata": {},
   "outputs": [],
   "source": []
  }
 ],
 "metadata": {
  "kernelspec": {
   "display_name": "Python 3",
   "language": "python",
   "name": "python3"
  },
  "language_info": {
   "codemirror_mode": {
    "name": "ipython",
    "version": 3
   },
   "file_extension": ".py",
   "mimetype": "text/x-python",
   "name": "python",
   "nbconvert_exporter": "python",
   "pygments_lexer": "ipython3",
   "version": "3.9.4"
  }
 },
 "nbformat": 4,
 "nbformat_minor": 5
}
